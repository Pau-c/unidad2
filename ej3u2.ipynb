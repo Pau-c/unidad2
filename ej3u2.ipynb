{
 "cells": [
  {
   "cell_type": "markdown",
   "metadata": {
    "cell_id": "24a153d42dc143919533b6b2850e9b36",
    "deepnote_cell_type": "text-cell-h1",
    "formattedRanges": []
   },
   "source": [
    "# Programación avanzada- UNICABA"
   ]
  },
  {
   "cell_type": "markdown",
   "metadata": {
    "cell_id": "a548016bf72345f192ddab8cfa5812a7",
    "deepnote_app_block_visible": false,
    "deepnote_cell_type": "text-cell-h2",
    "formattedRanges": [],
    "is_collapsed": false
   },
   "source": [
    "## Ejercicio de cierre de unidad 2"
   ]
  },
  {
   "cell_type": "markdown",
   "metadata": {
    "cell_id": "44d0b6cded7b4767990ce28aa1164ca8",
    "deepnote_app_block_visible": false,
    "deepnote_cell_type": "text-cell-h3",
    "formattedRanges": [],
    "is_collapsed": false
   },
   "source": [
    "### Analisis de trends musicales en streaming segun Billboard"
   ]
  },
  {
   "cell_type": "markdown",
   "metadata": {
    "cell_id": "30152443dbf0405fb74d836414c40141",
    "deepnote_cell_type": "text-cell-p",
    "formattedRanges": []
   },
   "source": [
    "Tipo: Texto (string)"
   ]
  },
  {
   "cell_type": "code",
   "execution_count": 1,
   "metadata": {
    "cell_id": "e915ad7174604b8d9b4588949eed4b90",
    "deepnote_app_is_code_hidden": false,
    "deepnote_cell_type": "code",
    "execution_context_id": "4ef6d4f7-8ec5-446f-b603-2dfdf389b9e1",
    "execution_millis": 0,
    "execution_start": 1759170113784,
    "source_hash": "ca048d5"
   },
   "outputs": [],
   "source": [
    "######################-DICCIONARIO DE DATOS DEL DATASET-###########\n",
    "\n",
    "# 1-Date: Tipo: Fecha (formato yyyy/mm/dd) #    Descripción: Fecha en la que se registró el ranking de la canción.\n",
    "# 2-Song: Tipo: Texto (string) #    Descripción: Nombre de la canción en el ranking.\n",
    "# 3-Artist: Tipo: Texto (string) #    Descripción: Nombre del artista o grupo musical (puede incluir “Featuring” si hay colaboraciones).\n",
    "# 4-Rank: Tipo: Numérico entero #    Descripción: Posición actual de la canción en el ranking (1 = primer lugar).\n",
    "# 5-Last_Week:Tipo: Numérico entero #    Descripción: Posición que ocupaba la canción en la semana anterior.\n",
    "# 6-Peak_Position:Tipo: Numérico entero #    Descripción: Mejor posición alcanzada por la canción en el ranking hasta la fecha.\n",
    "# 7-Weeks_in_Charts:Tipo: Numérico entero #    Descripción: Número de semanas que la canción lleva en el ranking."
   ]
  },
  {
   "cell_type": "code",
   "execution_count": 2,
   "metadata": {},
   "outputs": [],
   "source": [
    "import os\n",
    "from supabase import create_client, Client\n",
    "import pandas as pd\n",
    "import plotly.express as px\n",
    "import plotly.graph_objects as go"
   ]
  },
  {
   "cell_type": "code",
   "execution_count": 3,
   "metadata": {
    "cell_id": "bc1df3c65fda4c83b6d23a6dbfce4fc2",
    "deepnote_cell_type": "code",
    "execution_context_id": "4ef6d4f7-8ec5-446f-b603-2dfdf389b9e1",
    "execution_millis": 7797,
    "execution_start": 1759170114414,
    "scrolled": true,
    "source_hash": "41cfb98b"
   },
   "outputs": [
    {
     "ename": "SupabaseException",
     "evalue": "supabase_url is required",
     "output_type": "error",
     "traceback": [
      "\u001b[31m---------------------------------------------------------------------------\u001b[39m",
      "\u001b[31mSupabaseException\u001b[39m                         Traceback (most recent call last)",
      "\u001b[36mCell\u001b[39m\u001b[36m \u001b[39m\u001b[32mIn[3]\u001b[39m\u001b[32m, line 8\u001b[39m\n\u001b[32m      5\u001b[39m PAGE_SIZE = \u001b[32m1000\u001b[39m  \u001b[38;5;66;03m# Límite por defecto de Supabase\u001b[39;00m\n\u001b[32m      6\u001b[39m \u001b[38;5;66;03m# ---------------------------------------------\u001b[39;00m\n\u001b[32m      7\u001b[39m \u001b[38;5;66;03m# Inicialización\u001b[39;00m\n\u001b[32m----> \u001b[39m\u001b[32m8\u001b[39m supabase: Client = \u001b[43mcreate_client\u001b[49m\u001b[43m(\u001b[49m\u001b[43mSUPABASE_URL\u001b[49m\u001b[43m,\u001b[49m\u001b[43m \u001b[49m\u001b[43mSUPABASE_KEY\u001b[49m\u001b[43m)\u001b[49m\n\u001b[32m      9\u001b[39m all_records = []\n\u001b[32m     10\u001b[39m offset = \u001b[32m0\u001b[39m\n",
      "\u001b[36mFile \u001b[39m\u001b[32mc:\\Users\\Goku\\Documents\\Desarrollo\\proyecto_programacion\\unidad2\\.venv\\Lib\\site-packages\\supabase\\_sync\\client.py:369\u001b[39m, in \u001b[36mcreate_client\u001b[39m\u001b[34m(supabase_url, supabase_key, options)\u001b[39m\n\u001b[32m    338\u001b[39m \u001b[38;5;28;01mdef\u001b[39;00m\u001b[38;5;250m \u001b[39m\u001b[34mcreate_client\u001b[39m(\n\u001b[32m    339\u001b[39m     supabase_url: \u001b[38;5;28mstr\u001b[39m,\n\u001b[32m    340\u001b[39m     supabase_key: \u001b[38;5;28mstr\u001b[39m,\n\u001b[32m    341\u001b[39m     options: Optional[ClientOptions] = \u001b[38;5;28;01mNone\u001b[39;00m,\n\u001b[32m    342\u001b[39m ) -> SyncClient:\n\u001b[32m    343\u001b[39m \u001b[38;5;250m    \u001b[39m\u001b[33;03m\"\"\"Create client function to instantiate supabase client like JS runtime.\u001b[39;00m\n\u001b[32m    344\u001b[39m \n\u001b[32m    345\u001b[39m \u001b[33;03m    Parameters\u001b[39;00m\n\u001b[32m   (...)\u001b[39m\u001b[32m    367\u001b[39m \u001b[33;03m    Client\u001b[39;00m\n\u001b[32m    368\u001b[39m \u001b[33;03m    \"\"\"\u001b[39;00m\n\u001b[32m--> \u001b[39m\u001b[32m369\u001b[39m     \u001b[38;5;28;01mreturn\u001b[39;00m \u001b[43mSyncClient\u001b[49m\u001b[43m.\u001b[49m\u001b[43mcreate\u001b[49m\u001b[43m(\u001b[49m\n\u001b[32m    370\u001b[39m \u001b[43m        \u001b[49m\u001b[43msupabase_url\u001b[49m\u001b[43m=\u001b[49m\u001b[43msupabase_url\u001b[49m\u001b[43m,\u001b[49m\u001b[43m \u001b[49m\u001b[43msupabase_key\u001b[49m\u001b[43m=\u001b[49m\u001b[43msupabase_key\u001b[49m\u001b[43m,\u001b[49m\u001b[43m \u001b[49m\u001b[43moptions\u001b[49m\u001b[43m=\u001b[49m\u001b[43moptions\u001b[49m\n\u001b[32m    371\u001b[39m \u001b[43m    \u001b[49m\u001b[43m)\u001b[49m\n",
      "\u001b[36mFile \u001b[39m\u001b[32mc:\\Users\\Goku\\Documents\\Desarrollo\\proyecto_programacion\\unidad2\\.venv\\Lib\\site-packages\\supabase\\_sync\\client.py:101\u001b[39m, in \u001b[36mSyncClient.create\u001b[39m\u001b[34m(cls, supabase_url, supabase_key, options)\u001b[39m\n\u001b[32m     93\u001b[39m \u001b[38;5;129m@classmethod\u001b[39m\n\u001b[32m     94\u001b[39m \u001b[38;5;28;01mdef\u001b[39;00m\u001b[38;5;250m \u001b[39m\u001b[34mcreate\u001b[39m(\n\u001b[32m     95\u001b[39m     \u001b[38;5;28mcls\u001b[39m,\n\u001b[32m   (...)\u001b[39m\u001b[32m     98\u001b[39m     options: Optional[ClientOptions] = \u001b[38;5;28;01mNone\u001b[39;00m,\n\u001b[32m     99\u001b[39m ):\n\u001b[32m    100\u001b[39m     auth_header = options.headers.get(\u001b[33m\"\u001b[39m\u001b[33mAuthorization\u001b[39m\u001b[33m\"\u001b[39m) \u001b[38;5;28;01mif\u001b[39;00m options \u001b[38;5;28;01melse\u001b[39;00m \u001b[38;5;28;01mNone\u001b[39;00m\n\u001b[32m--> \u001b[39m\u001b[32m101\u001b[39m     client = \u001b[38;5;28;43mcls\u001b[39;49m\u001b[43m(\u001b[49m\u001b[43msupabase_url\u001b[49m\u001b[43m,\u001b[49m\u001b[43m \u001b[49m\u001b[43msupabase_key\u001b[49m\u001b[43m,\u001b[49m\u001b[43m \u001b[49m\u001b[43moptions\u001b[49m\u001b[43m)\u001b[49m\n\u001b[32m    103\u001b[39m     \u001b[38;5;28;01mif\u001b[39;00m auth_header \u001b[38;5;129;01mis\u001b[39;00m \u001b[38;5;28;01mNone\u001b[39;00m:\n\u001b[32m    104\u001b[39m         \u001b[38;5;28;01mtry\u001b[39;00m:\n",
      "\u001b[36mFile \u001b[39m\u001b[32mc:\\Users\\Goku\\Documents\\Desarrollo\\proyecto_programacion\\unidad2\\.venv\\Lib\\site-packages\\supabase\\_sync\\client.py:53\u001b[39m, in \u001b[36mSyncClient.__init__\u001b[39m\u001b[34m(self, supabase_url, supabase_key, options)\u001b[39m\n\u001b[32m     39\u001b[39m \u001b[38;5;250m\u001b[39m\u001b[33;03m\"\"\"Instantiate the client.\u001b[39;00m\n\u001b[32m     40\u001b[39m \n\u001b[32m     41\u001b[39m \u001b[33;03mParameters\u001b[39;00m\n\u001b[32m   (...)\u001b[39m\u001b[32m     49\u001b[39m \u001b[33;03m    `DEFAULT_OPTIONS` dict.\u001b[39;00m\n\u001b[32m     50\u001b[39m \u001b[33;03m\"\"\"\u001b[39;00m\n\u001b[32m     52\u001b[39m \u001b[38;5;28;01mif\u001b[39;00m \u001b[38;5;129;01mnot\u001b[39;00m supabase_url:\n\u001b[32m---> \u001b[39m\u001b[32m53\u001b[39m     \u001b[38;5;28;01mraise\u001b[39;00m SupabaseException(\u001b[33m\"\u001b[39m\u001b[33msupabase_url is required\u001b[39m\u001b[33m\"\u001b[39m)\n\u001b[32m     54\u001b[39m \u001b[38;5;28;01mif\u001b[39;00m \u001b[38;5;129;01mnot\u001b[39;00m supabase_key:\n\u001b[32m     55\u001b[39m     \u001b[38;5;28;01mraise\u001b[39;00m SupabaseException(\u001b[33m\"\u001b[39m\u001b[33msupabase_key is required\u001b[39m\u001b[33m\"\u001b[39m)\n",
      "\u001b[31mSupabaseException\u001b[39m: supabase_url is required"
     ]
    }
   ],
   "source": [
    "# Configuración\n",
    "SUPABASE_URL = os.environ.get(\"SUPABASE_URL\")\n",
    "SUPABASE_KEY = os.environ.get(\"SUPABASE_KEY\")\n",
    "TABLE_NAME = \"Dataset_Ranking\"\n",
    "PAGE_SIZE = 1000  # Límite por defecto de Supabase\n",
    "# ---------------------------------------------\n",
    "# Inicialización\n",
    "supabase: Client = create_client(SUPABASE_URL, SUPABASE_KEY)\n",
    "all_records = []\n",
    "offset = 0\n",
    "\n",
    "print(f\"Iniciando descarga paginada de la tabla '{TABLE_NAME}'...\")\n",
    "\n",
    "while True:\n",
    "    #  Definir el rango de filas a solicitar (paginación)\n",
    "    start_row = offset\n",
    "    end_row = offset + PAGE_SIZE - 1\n",
    "\n",
    "    # print(f\" -> Fetching filas {start_row} a {end_row}...\")\n",
    "\n",
    "    #  Ejecutar la consulta con el rango\n",
    "    response = (\n",
    "        supabase.table(TABLE_NAME)\n",
    "        .select(\"*\")\n",
    "        .order(\"Date\", desc=True)\n",
    "        .range(start_row, end_row)  #  La clave de la paginación\n",
    "        .execute()\n",
    "    )\n",
    "\n",
    "    data = response.data\n",
    "\n",
    "    #  Romper el bucle si no hay más datos\n",
    "    if not data:\n",
    "        print(\"Descarga completa: No se encontraron más registros.\")\n",
    "        break\n",
    "\n",
    "    #  Acumular los registros\n",
    "    all_records.extend(data)\n",
    "\n",
    "    #  Aumentar el desplazamiento para la siguiente página\n",
    "    offset += PAGE_SIZE\n",
    "\n",
    "#  Crear el DataFrame ÚNICO\n",
    "if all_records:\n",
    "    df = pd.DataFrame(all_records)\n",
    "    print(f\"\\n  {len(df)} registros totales cargados en un solo DataFrame.\")\n",
    "\n",
    "else:\n",
    "    print(\"La tabla está vacía.\")"
   ]
  },
  {
   "cell_type": "code",
   "execution_count": null,
   "metadata": {
    "cell_id": "ab708a741aba466e9dc7f45c4a5eda34",
    "deepnote_app_block_group_id": null,
    "deepnote_app_block_order": 1,
    "deepnote_app_block_visible": true,
    "deepnote_app_is_code_hidden": false,
    "deepnote_app_is_output_hidden": false,
    "deepnote_cell_type": "code",
    "deepnote_table_loading": false,
    "deepnote_table_state": {
     "cellFormattingRules": [],
     "columnDisplayNames": [],
     "columnOrder": [
      "ID",
      "Date",
      "Song",
      "Artist",
      "Rank",
      "Last_Week",
      "Peak_Position",
      "Weeks_in_Charts"
     ],
     "conditionalFilters": [],
     "filters": [],
     "hiddenColumnIds": [],
     "pageIndex": 0,
     "pageSize": 100,
     "sortBy": [
      {
       "id": "Peak Position",
       "type": "asc"
      }
     ],
     "wrappedTextColumnIds": []
    },
    "execution_context_id": "4ef6d4f7-8ec5-446f-b603-2dfdf389b9e1",
    "execution_millis": 1,
    "execution_start": 1759170122265,
    "source_hash": "206ba1e8"
   },
   "outputs": [],
   "source": [
    "# dataframe\n",
    "# df = pd.read_csv(\"/work/streaming_songs.csv\")\n",
    "df.head(10)"
   ]
  },
  {
   "cell_type": "code",
   "execution_count": null,
   "metadata": {
    "cell_id": "33eb20d56dfc42e284a2b998a8dbc7c6",
    "deepnote_app_block_group_id": null,
    "deepnote_app_block_order": 2,
    "deepnote_app_block_visible": true,
    "deepnote_app_is_code_hidden": false,
    "deepnote_app_is_output_hidden": false,
    "deepnote_cell_type": "code",
    "execution_context_id": "4ef6d4f7-8ec5-446f-b603-2dfdf389b9e1",
    "execution_millis": 1,
    "execution_start": 1759170122324,
    "source_hash": "9389c016"
   },
   "outputs": [],
   "source": [
    "# encontrar vacios\n",
    "df.isnull().sum()\n",
    "df.info()\n",
    "print(f\"Filas: {df.shape[0]}, Columnas: {df.shape[1]}\")"
   ]
  },
  {
   "cell_type": "code",
   "execution_count": null,
   "metadata": {
    "cell_id": "2f5544a010dc401fbf304753d7436381",
    "deepnote_app_block_group_id": null,
    "deepnote_app_block_order": 3,
    "deepnote_app_block_visible": true,
    "deepnote_app_is_code_hidden": false,
    "deepnote_app_is_output_hidden": false,
    "deepnote_cell_type": "code",
    "execution_context_id": "4ef6d4f7-8ec5-446f-b603-2dfdf389b9e1",
    "execution_millis": 0,
    "execution_start": 1759170122375,
    "source_hash": "abc4be1"
   },
   "outputs": [],
   "source": [
    "df.describe()"
   ]
  },
  {
   "cell_type": "markdown",
   "metadata": {
    "cell_id": "b9abfd9654d1482aac36c4ff33985489",
    "deepnote_app_block_group_id": null,
    "deepnote_app_block_order": 4,
    "deepnote_app_block_visible": true,
    "deepnote_cell_type": "text-cell-p",
    "formattedRanges": []
   },
   "source": [
    "Los datos fueron recolectados desde el 23/01/2013 hasta el 24/09/2025, contiene 33050 registros de canciones de streaming calculadas por Billboard"
   ]
  },
  {
   "cell_type": "code",
   "execution_count": null,
   "metadata": {
    "cell_id": "69473e056a7647a9ba080379590cfb44",
    "deepnote_app_block_group_id": null,
    "deepnote_app_block_order": 5,
    "deepnote_app_block_visible": true,
    "deepnote_app_is_code_hidden": false,
    "deepnote_app_is_output_hidden": false,
    "deepnote_cell_type": "code",
    "execution_context_id": "4ef6d4f7-8ec5-446f-b603-2dfdf389b9e1",
    "execution_millis": 0,
    "execution_start": 1759170122434,
    "source_hash": "d2c0c77f"
   },
   "outputs": [],
   "source": [
    "# columna Date a datetime\n",
    "df[\"Date\"] = pd.to_datetime(df[\"Date\"], format=\"%Y-%m-%d\", errors=\"coerce\")\n",
    "\n",
    "# Extraer el año\n",
    "df[\"Year\"] = df[\"Date\"].dt.year\n",
    "\n",
    "# canciones por año\n",
    "\n",
    "songs_per_year = df.groupby(\"Year\")[\"Song\"].nunique().reset_index()\n",
    "songs_per_year.columns = [\"Year\", \"UniqueSongCount\"]\n",
    "\n",
    "average_unique_songs_per_year = songs_per_year[\"UniqueSongCount\"].mean()\n",
    "print(f\"Promedio de canciones únicas por año: {average_unique_songs_per_year:.2f}\")"
   ]
  },
  {
   "cell_type": "code",
   "execution_count": null,
   "metadata": {
    "cell_id": "068fa7c4e173429793a27bab8af72afa",
    "deepnote_app_block_group_id": null,
    "deepnote_app_block_order": 6,
    "deepnote_app_block_visible": true,
    "deepnote_app_is_code_hidden": false,
    "deepnote_app_is_output_hidden": false,
    "deepnote_cell_type": "code",
    "execution_context_id": "4ef6d4f7-8ec5-446f-b603-2dfdf389b9e1",
    "execution_millis": 440,
    "execution_start": 1759170122494,
    "source_hash": "6cbe4d55"
   },
   "outputs": [],
   "source": [
    "# Graficar\n",
    "fig = px.line(\n",
    "    songs_per_year,\n",
    "    x=\"Year\",\n",
    "    y=\"UniqueSongCount\",\n",
    "    markers=True,\n",
    "    title=\"Evolución de canciones por año\",\n",
    "    labels={\"Year\": \"Año\", \"UniqueSongCount\": \"Cantidad de canciones\"},\n",
    ")\n",
    "\n",
    "fig.update_layout(template=\"plotly_white\")\n",
    "fig.show()"
   ]
  },
  {
   "cell_type": "markdown",
   "metadata": {
    "cell_id": "7f673110464d4fb2b7e9d13e505f0b0c",
    "deepnote_cell_type": "text-cell-p",
    "formattedRanges": []
   },
   "source": [
    "Hay una media de 343 canciones por año, se evidencia una mayor cantidad de canciones en streaming a medida que pasa el tiempo. Nota: la cantidad en el 2025 se debe a que solo se incluye hasta septiembre"
   ]
  },
  {
   "cell_type": "code",
   "execution_count": null,
   "metadata": {
    "cell_id": "d3f5d8fc37d7476ca5d7164fc9e38807",
    "deepnote_app_block_group_id": null,
    "deepnote_app_block_order": 7,
    "deepnote_app_block_visible": true,
    "deepnote_app_is_code_hidden": false,
    "deepnote_app_is_output_hidden": false,
    "deepnote_cell_type": "code",
    "execution_context_id": "4ef6d4f7-8ec5-446f-b603-2dfdf389b9e1",
    "execution_millis": 31,
    "execution_start": 1759170122984,
    "source_hash": "81c5c5c9"
   },
   "outputs": [],
   "source": [
    "# canciones únicas\n",
    "unique_songs = df[\"Song\"].nunique()\n",
    "\n",
    "#  card\n",
    "fig = go.Figure(\n",
    "    go.Indicator(\n",
    "        mode=\"number\",\n",
    "        value=unique_songs,\n",
    "        title={\"text\": \" Canciones únicas en streaming\"},\n",
    "        number={\"valueformat\": \",\"},\n",
    "    )\n",
    ")\n",
    "\n",
    "fig.update_layout(height=200, margin=dict(t=30, b=0, l=0, r=0), template=\"plotly_white\")\n",
    "\n",
    "fig.show()"
   ]
  },
  {
   "cell_type": "code",
   "execution_count": null,
   "metadata": {
    "cell_id": "ecbdc9e837b747a3b182fdf128e638c1",
    "deepnote_app_block_group_id": null,
    "deepnote_app_block_order": 8,
    "deepnote_app_block_visible": true,
    "deepnote_app_is_code_hidden": false,
    "deepnote_app_is_output_hidden": false,
    "deepnote_cell_type": "code",
    "execution_context_id": "4ef6d4f7-8ec5-446f-b603-2dfdf389b9e1",
    "execution_millis": 19,
    "execution_start": 1759170123075,
    "source_hash": "cddcbac6"
   },
   "outputs": [],
   "source": [
    "#  artistas únicos\n",
    "unique_artists = df[\"Artist\"].nunique()\n",
    "\n",
    "#  card\n",
    "fig = go.Figure(\n",
    "    go.Indicator(\n",
    "        mode=\"number\",\n",
    "        value=unique_artists,\n",
    "        title={\"text\": \" Artistas únicos\"},\n",
    "        number={\"valueformat\": \",\"},\n",
    "    )\n",
    ")\n",
    "\n",
    "fig.update_layout(height=200, margin=dict(t=30, b=0, l=0, r=0), template=\"plotly_white\")\n",
    "\n",
    "fig.show()"
   ]
  },
  {
   "cell_type": "code",
   "execution_count": null,
   "metadata": {
    "cell_id": "a7336939f7bf4aa6b7120b4aaf2c8849",
    "deepnote_app_block_group_id": null,
    "deepnote_app_block_order": 9,
    "deepnote_app_block_visible": true,
    "deepnote_app_is_code_hidden": false,
    "deepnote_app_is_output_hidden": false,
    "deepnote_cell_type": "code",
    "execution_context_id": "4ef6d4f7-8ec5-446f-b603-2dfdf389b9e1",
    "execution_millis": 1,
    "execution_start": 1759170123144,
    "source_hash": "c7accbda"
   },
   "outputs": [],
   "source": [
    "# Filtrar solo las filas donde Peak Position es 1\n",
    "top_hits = df[df[\"Peak_Position\"] == 1]\n",
    "\n",
    "#  #1 de cada artista\n",
    "artist_counts = top_hits[\"Artist\"].value_counts()\n",
    "\n",
    "# artista con más #1\n",
    "top_artist = artist_counts.idxmax()\n",
    "top_count = artist_counts.max()\n",
    "print(f\"El artista con más semanas en el puesto #1 es: {top_artist} ({top_count})\")\n",
    "print(artist_counts.head(10))"
   ]
  },
  {
   "cell_type": "code",
   "execution_count": null,
   "metadata": {
    "cell_id": "9a228cec88aa4678bff6a5a4d4b60e13",
    "deepnote_app_block_group_id": null,
    "deepnote_app_block_order": 10,
    "deepnote_app_block_visible": true,
    "deepnote_app_is_code_hidden": false,
    "deepnote_app_is_output_hidden": false,
    "deepnote_cell_type": "code",
    "execution_context_id": "4ef6d4f7-8ec5-446f-b603-2dfdf389b9e1",
    "execution_millis": 81,
    "execution_start": 1759170123204,
    "source_hash": "89a7067e"
   },
   "outputs": [],
   "source": [
    "# top 10 artistas\n",
    "top_10_artists = artist_counts.head(10).index.tolist()\n",
    "\n",
    "# Filtrar los datos de esos artistas\n",
    "top_10_data = top_hits[top_hits[\"Artist\"].isin(top_10_artists)]\n",
    "\n",
    "# Agrupar por año y artista\n",
    "artist_year_counts = (\n",
    "    top_10_data.groupby([\"Year\", \"Artist\"]).size().reset_index(name=\"NumberOneHits\")\n",
    ")\n",
    "fig = px.bar(\n",
    "    artist_year_counts,\n",
    "    x=\"Year\",\n",
    "    y=\"NumberOneHits\",\n",
    "    color=\"Artist\",\n",
    "    barmode=\"group\",\n",
    "    title=\" Evolución anual de los top 10 artistas con canciones en el puesto #1\",\n",
    "    labels={\"Year\": \"Año\", \"NumberOneHits\": \"#1 por año\"},\n",
    ")\n",
    "\n",
    "fig.update_layout(\n",
    "    legend=dict(orientation=\"h\", yanchor=\"bottom\", y=-0.3, xanchor=\"center\", x=0.5),\n",
    "    template=\"plotly_white\",\n",
    "    height=600,\n",
    ")\n",
    "\n",
    "fig.show()"
   ]
  },
  {
   "cell_type": "code",
   "execution_count": null,
   "metadata": {
    "cell_id": "e02330b2a64f4cf393e75ddb20958a4e",
    "deepnote_app_block_group_id": null,
    "deepnote_app_block_order": 11,
    "deepnote_app_block_visible": true,
    "deepnote_app_is_code_hidden": false,
    "deepnote_app_is_output_hidden": false,
    "deepnote_cell_type": "code",
    "execution_context_id": "4ef6d4f7-8ec5-446f-b603-2dfdf389b9e1",
    "execution_millis": 65,
    "execution_start": 1759170123334,
    "is_code_hidden": false,
    "source_hash": "d6adfc1"
   },
   "outputs": [],
   "source": [
    "#  top 10 artistas\n",
    "top_10_artists = artist_counts.head(5).index.tolist()\n",
    "\n",
    "# Filtrar solo los datos de esos artistas\n",
    "top_10_data = top_hits[top_hits[\"Artist\"].isin(top_10_artists)]\n",
    "\n",
    "# Agrupar por año y artista\n",
    "artist_year_counts = (\n",
    "    top_10_data.groupby([\"Year\", \"Artist\"]).size().reset_index(name=\"NumberOneHits\")\n",
    ")\n",
    "import plotly.express as px\n",
    "\n",
    "fig = px.line(\n",
    "    artist_year_counts,\n",
    "    x=\"Year\",\n",
    "    y=\"NumberOneHits\",\n",
    "    color=\"Artist\",\n",
    "    markers=True,\n",
    "    title=\" Evolución temporal de los top 10 artistas con canciones en el puesto #1\",\n",
    "    labels={\"Year\": \"Año\", \"NumberOneHits\": \"#1 por año\"},\n",
    ")\n",
    "\n",
    "fig.update_layout(\n",
    "    legend=dict(orientation=\"h\", yanchor=\"bottom\", y=-0.3, xanchor=\"center\", x=0.5),\n",
    "    template=\"plotly_white\",\n",
    "    height=600,\n",
    ")\n",
    "\n",
    "fig.show()"
   ]
  },
  {
   "cell_type": "code",
   "execution_count": null,
   "metadata": {
    "cell_id": "5b0876f734ab4180965b752eaa9edfa2",
    "deepnote_app_block_group_id": null,
    "deepnote_app_block_order": 12,
    "deepnote_app_block_visible": true,
    "deepnote_app_is_code_hidden": false,
    "deepnote_app_is_output_hidden": false,
    "deepnote_cell_type": "code",
    "execution_context_id": "4ef6d4f7-8ec5-446f-b603-2dfdf389b9e1",
    "execution_millis": 37,
    "execution_start": 1759170123454,
    "source_hash": "d0275de8"
   },
   "outputs": [],
   "source": [
    "top_1 = df[df[\"Peak_Position\"] == 1].copy()\n",
    "# Extraer el año\n",
    "top_1[\"year\"] = top_1[\"Date\"].dt.year\n",
    "\n",
    "# Contar artistas únicos por año\n",
    "artistas_por_anio = top_1.groupby(\"Year\")[\"Artist\"].nunique().reset_index()\n",
    "artistas_por_anio.columns = [\"año\", \"artistas_unicos_en_posicion_1\"]\n",
    "\n",
    "print(artistas_por_anio)\n",
    "\n",
    "fig = px.line(\n",
    "    artistas_por_anio,\n",
    "    x=\"año\",\n",
    "    y=\"artistas_unicos_en_posicion_1\",\n",
    "    markers=True,\n",
    "    title=\"Artistas únicos en la posición #1 por año\",\n",
    "    labels={\"anio\": \"Año\", \"artistas_unicos_en_posicion_1\": \"Artistas únicos en #1\"},\n",
    ")\n",
    "\n",
    "fig.update_layout(\n",
    "    xaxis=dict(dtick=1), yaxis=dict(title=\"Cantidad de artistas\"), hovermode=\"x unified\"\n",
    ")\n",
    "\n",
    "fig.show()"
   ]
  },
  {
   "cell_type": "code",
   "execution_count": null,
   "metadata": {
    "cell_id": "136e2f2eb9ef45fcb6e32d90d377bda0",
    "deepnote_app_block_group_id": null,
    "deepnote_app_block_order": 13,
    "deepnote_app_block_visible": true,
    "deepnote_app_is_code_hidden": false,
    "deepnote_app_is_output_hidden": false,
    "deepnote_cell_type": "code",
    "execution_context_id": "4ef6d4f7-8ec5-446f-b603-2dfdf389b9e1",
    "execution_millis": 0,
    "execution_start": 1759170123544,
    "source_hash": "56b1a72e"
   },
   "outputs": [],
   "source": [
    "# mejor posición que alcanzó cada canción\n",
    "best_positions = df.groupby(\"Song\", as_index=False)[\"Peak_Position\"].min()\n",
    "\n",
    "# Unir con los artistas\n",
    "song_artist = df.groupby(\"Song\", as_index=False)[\"Artist\"].first()\n",
    "\n",
    "# Merge para tener artista + mejor posición\n",
    "merged = pd.merge(best_positions, song_artist, on=\"Song\")\n",
    "\n",
    "# Filtrar canciones que llegaron al top 10\n",
    "top_10_songs = merged[merged[\"Peak_Position\"] <= 10]\n",
    "\n",
    "#  artistas únicos que llegaron al top 10\n",
    "top_10_artists = top_10_songs[\"Artist\"].unique()\n",
    "\n",
    "# Contar cuántos artistas son\n",
    "num_top_10_artists = len(top_10_artists)\n",
    "\n",
    "print(f\" Total de artistas que llegaron alguna vez al top 10: {num_top_10_artists}\")"
   ]
  },
  {
   "cell_type": "code",
   "execution_count": null,
   "metadata": {
    "cell_id": "5e22e80f965343eda45fb80c5d166703",
    "deepnote_app_is_code_hidden": false,
    "deepnote_cell_type": "code",
    "deepnote_variable_name": "",
    "execution_context_id": "4ef6d4f7-8ec5-446f-b603-2dfdf389b9e1",
    "execution_millis": 47,
    "execution_start": 1759170123594,
    "source_hash": "30868dcf",
    "sql_integration_id": ""
   },
   "outputs": [],
   "source": [
    "# Revisar el error y corregir el código\n",
    "# Parece que hay un error en la creación del DataFrame, ya que se está utilizando el índice en lugar de los valores de la columna \"Artist\".\n",
    "\n",
    "# Corregir el código\n",
    "# Crear un DataFrame con los 10 artistas con más semanas en la última posición\n",
    "last_position_hits = df[df[\"Rank\"] == 50]\n",
    "\n",
    "# Contar el número de semanas que cada artista ha estado en la última posición\n",
    "last_position_counts = last_position_hits[\"Artist\"].value_counts().head(10)\n",
    "\n",
    "# Crear un DataFrame para los 10 artistas con más semanas en la última posición\n",
    "top_10_last_position = last_position_counts.reset_index()\n",
    "top_10_last_position.columns = [\"Artist\", \"Weeks in Last Position\"]\n",
    "\n",
    "# Graficar\n",
    "fig = px.bar(\n",
    "    top_10_last_position,\n",
    "    x=\"Weeks in Last Position\",\n",
    "    y=\"Artist\",\n",
    "    orientation=\"h\",\n",
    "    title=\"Top 10 Artistas con más semanas en la última posición\",\n",
    "    text=\"Weeks in Last Position\",\n",
    ")\n",
    "\n",
    "fig.update_traces(texttemplate=\"%{text}\", textposition=\"inside\")\n",
    "fig.update_layout(\n",
    "    xaxis_title=\"Semanas en la última posición\",\n",
    "    yaxis_title=\"Artista\",\n",
    "    template=\"plotly_white\",\n",
    "    height=600,\n",
    ")\n",
    "\n",
    "fig.show()"
   ]
  },
  {
   "cell_type": "markdown",
   "metadata": {},
   "source": [
    "### Tendencia de cantidad de artistas nuevos por año"
   ]
  },
  {
   "cell_type": "code",
   "execution_count": null,
   "metadata": {},
   "outputs": [],
   "source": [
    "# Tendencia de cantidad de artistas nuevos por año\n",
    "import plotly.express as px\n",
    "df[\"Año\"] = df[\"Date\"].dt.year\n",
    "# Encontrar el primer año en que cada artista aparece\n",
    "primer_anio_artista = df.groupby(\"Artist\")[\"Año\"].min().reset_index()\n",
    "artistas_nuevos_por_anio = primer_anio_artista.groupby(\"Año\").size().reset_index(name=\"Artistas nuevos\")\n",
    "fig = px.line(artistas_nuevos_por_anio, x=\"Año\", y=\"Artistas nuevos\", title=\"Tendencia de artistas nuevos por año\", labels={\"Año\": \"Año\", \"Artistas nuevos\": \"Cantidad de artistas\"})\n",
    "fig.update_layout(template=\"plotly_white\", xaxis_title=\"Año\", yaxis_title=\"Cantidad de artistas nuevos\")\n",
    "fig.show()"
   ]
  },
  {
   "cell_type": "markdown",
   "metadata": {},
   "source": [
    "La tendencia revela ciclos de auge y caída en la incorporación de artistas nuevos, con un crecimiento importante de artistas entre 2016 y 2020, pero una disminución notoria en los años más recientes."
   ]
  },
  {
   "cell_type": "markdown",
   "metadata": {},
   "source": [
    "### Mapa de calor: Top 10 artistas con más semanas en el ranking mostrando cuántas veces alcanzaron el puesto #1 por año"
   ]
  },
  {
   "cell_type": "code",
   "execution_count": null,
   "metadata": {},
   "outputs": [],
   "source": [
    "# Mapa de calor: Top 10 artistas con más semanas en el ranking mostrando cuántas veces alcanzaron el puesto #1 por año\n",
    "import plotly.express as px\n",
    "\n",
    "# Filtrar solo las filas donde Peak_Position es 1 (puesto #1)\n",
    "top_hits = df[df[\"Peak_Position\"] == 1].copy()\n",
    "\n",
    "# Contar semanas en el ranking por artista\n",
    "artist_weeks = df.groupby(\"Artist\")[\"Weeks_in_Charts\"].sum().sort_values(ascending=False)\n",
    "\n",
    "# Seleccionar los 10 artistas con más semanas en el ranking\n",
    "top_10_artists = artist_weeks.head(10).index.tolist()\n",
    "\n",
    "# Filtrar los datos de esos artistas en el puesto #1\n",
    "top_10_data = top_hits[top_hits[\"Artist\"].isin(top_10_artists)]\n",
    "\n",
    "# Extraer el año\n",
    "top_10_data[\"Año\"] = top_10_data[\"Date\"].dt.year\n",
    "\n",
    "# Agrupar por año y artista, contar cuántas veces alcanzaron el puesto #1\n",
    "heatmap_data = top_10_data.groupby([\"Año\", \"Artist\"]).size().reset_index(name=\"Veces_en_posicion_1\")\n",
    "\n",
    "# Crear el mapa de calor\n",
    "fig = px.density_heatmap(\n",
    "    heatmap_data,\n",
    "    x=\"Año\",\n",
    "    y=\"Artist\",\n",
    "    z=\"Veces_en_posicion_1\",\n",
    "    color_continuous_scale=\"Viridis\",\n",
    "    title=\"Mapa de calor: Top 10 artistas con más semanas en el ranking en el puesto #1 por año\",\n",
    "    labels={\"Año\": \"Año\", \"Artist\": \"Artista\", \"Veces_en_posicion_1\": \"#1 por año\"}\n",
    ")\n",
    "fig.update_layout(height=600, template=\"plotly_white\")\n",
    "fig.show()"
   ]
  },
  {
   "cell_type": "markdown",
   "metadata": {},
   "source": [
    "El mapa refleja cómo distintos artistas han dominado en años específicos, sin una continuidad prolongada en el tiempo, lo que sugiere que el liderazgo en el ranking cambia de forma constante entre diferentes géneros y colaboraciones."
   ]
  },
  {
   "cell_type": "markdown",
   "metadata": {},
   "source": [
    "### TASA de éxito por cantidad de canciones que llegaron al top 10 (2013-2025)"
   ]
  },
  {
   "cell_type": "code",
   "execution_count": null,
   "metadata": {},
   "outputs": [],
   "source": [
    "import pandas as pd\n",
    "import plotly.graph_objects as go\n",
    "from plotly.subplots import make_subplots\n",
    "\n",
    "# df ya está cargado previamente\n",
    "\n",
    "\n",
    "# --- 2. CÁLCULO DEL KPI DE TASA DE ÉXITO ---\n",
    "\n",
    "# Tasa de Éxito (Top 10)\n",
    "total_entries = len(df)\n",
    "top_10_entries = df[df['Peak_Position'] <= 10]\n",
    "conversion_rate_top10 = (len(top_10_entries) / total_entries) * 100\n",
    "conversion_rate_rounded = round(conversion_rate_top10)\n",
    "\n",
    "# El porcentaje de \"No Éxito\" para el medidor\n",
    "failure_rate = 100 - conversion_rate_rounded\n",
    "\n",
    "\n",
    "# --- 3. Generación del Dashboard con Plotly Gauge (DETALLADO) ---\n",
    "\n",
    "# Creamos una figura simple para el indicador de medidor\n",
    "fig_kpi = go.Figure()\n",
    "\n",
    "# Indicador 3: Tasa de Éxito como un Gauge/Medidor\n",
    "fig_kpi.add_trace(go.Indicator(\n",
    "    mode=\"gauge+number+delta\",\n",
    "    value=conversion_rate_rounded,\n",
    "    delta={'reference': 50, 'relative': False, 'valueformat': \"d%\"}, # Usamos 50% como referencia base\n",
    "    domain={'x': [0, 1], 'y': [0, 1]},\n",
    "    title={'text': \"Tasa de Éxito de Canciones<br><sub>% que Alcanzó el Top 10 desde 2013 a 2025</sub>\", 'font': {'size': 18}},\n",
    "    number={'valueformat': \"d%\", 'font': {'size': 48}},\n",
    "    gauge={\n",
    "        'shape': \"angular\",\n",
    "        'axis': {'range': [None, 100], 'tickwidth': 1, 'tickcolor': \"darkblue\"},\n",
    "        'bar': {'color': \"#333\"},\n",
    "        # Estilos visuales del medidor (los colores)\n",
    "        'steps': [\n",
    "            # Color para el 0% al 50% (Rendimiento Bajo/Medio)\n",
    "            {'range': [0, 50], 'color': \"lightgray\"},\n",
    "            # Color para el 50% al 100% (Rendimiento Alto)\n",
    "            {'range': [50, 100], 'color': \"rgba(26, 115, 232, 0.4)\"} # Azul más claro\n",
    "        ],\n",
    "        # Color que cubre el valor final (el 65% en tu caso)\n",
    "        'threshold': {\n",
    "            'line': {'color': \"red\", 'width': 4},\n",
    "            'thickness': 0.75,\n",
    "            'value': conversion_rate_rounded\n",
    "        }\n",
    "    }\n",
    "))\n",
    "\n",
    "# Añadimos anotaciones para el valor que no llego al top 10\n",
    "fig_kpi.add_annotation(\n",
    "    x=0.5,\n",
    "    y=0.25, # Posición justo debajo del valor\n",
    "    text=f\"**{failure_rate}%** no llegó al Top 10\",\n",
    "    showarrow=False,\n",
    "    font=dict(\n",
    "        family=\"Arial\",\n",
    "        size=16,\n",
    "        color=\"gray\"\n",
    "    )\n",
    ")\n",
    "\n",
    "# Ajustes de Layout\n",
    "fig_kpi.update_layout(\n",
    "    title_text=\"KPI: Conversión a Éxito (Top 10)\",\n",
    "    height=400, \n",
    "    margin=dict(t=80, b=10, l=10, r=10),\n",
    "    template='plotly_white'\n",
    ")\n",
    "\n",
    "fig_kpi.show()"
   ]
  },
  {
   "cell_type": "markdown",
   "metadata": {},
   "source": [
    "### Top 10 canciones de Taylor Swift que alcanzaron más veces la posición #1"
   ]
  },
  {
   "cell_type": "code",
   "execution_count": null,
   "metadata": {},
   "outputs": [],
   "source": [
    "# Top 10 canciones de Taylor Swift que alcanzaron más veces la posición #1\n",
    "import plotly.express as px\n",
    "\n",
    "# Filtrar canciones de Taylor Swift\n",
    "taylor_df = df[df[\"Artist\"].fillna(\"\").str.contains(\"Taylor Swift\", case=False, na=False)]\n",
    "\n",
    "# Filtrar solo las filas donde Peak_Position es 1\n",
    "taylor_top1 = taylor_df[taylor_df[\"Peak_Position\"] == 1]\n",
    "\n",
    "# Contar cuántas veces cada canción alcanzó la posición 1\n",
    "canciones_top1 = taylor_top1[\"Song\"].value_counts().reset_index()\n",
    "canciones_top1.columns = [\"Song\", \"Veces_en_posicion_1\"]\n",
    "\n",
    "# Seleccionar el top 10\n",
    "top_10_canciones = canciones_top1.head(10)\n",
    "\n",
    "if top_10_canciones.empty:\n",
    "    print(\"No hay suficientes datos para mostrar el top 10 de canciones de Taylor Swift en la posición #1.\")\n",
    "else:\n",
    "    fig = px.bar(\n",
    "        top_10_canciones,\n",
    "        x=\"Song\",\n",
    "        y=\"Veces_en_posicion_1\",\n",
    "        color=\"Song\",\n",
    "        title=\"Top 10 canciones de Taylor Swift que alcanzaron más veces la posición #1\",\n",
    "        labels={\"Veces_en_posicion_1\": \"Veces en posición #1\", \"Song\": \"Canción\"}\n",
    "    )\n",
    "    fig.update_traces(texttemplate=\"%{y}\", textposition=\"outside\", showlegend=False)\n",
    "    fig.update_layout(template=\"plotly_white\", xaxis_title=\"Canción\", yaxis_title=\"Veces en posición #1\", height=700, margin=dict(t=60, b=60, l=80, r=80), showlegend=False)\n",
    "    fig.show()"
   ]
  },
  {
   "cell_type": "markdown",
   "metadata": {},
   "source": [
    "El gráfico muestra que Taylor Swift ha logrado consolidar múltiples éxitos en el puesto #1, destacando “Anti-Hero” y “Shake It Off” como sus mayores hits. Aunque algunas canciones tienen menor presencia, la tendencia refleja su capacidad constante para dominar los rankings a lo largo de distintas etapas de su carrera."
   ]
  },
  {
   "cell_type": "markdown",
   "metadata": {},
   "source": [
    "### TASA de éxito por cantidad de canciones que llegaron al top 10 de Taylor Swift (2013-2025)"
   ]
  },
  {
   "cell_type": "code",
   "execution_count": null,
   "metadata": {},
   "outputs": [],
   "source": [
    "\n",
    "import pandas as pd\n",
    "import plotly.graph_objects as go\n",
    "from plotly.subplots import make_subplots\n",
    "\n",
    "# 1. ORÍGEN DE DATOS Y FILTRADO\n",
    "# df ya está cargado con pd.DataFrame(all_records).\n",
    "\n",
    "ARTISTA_ANALIZADO = \"Taylor Swift\"\n",
    "df_artist = df[df['Artist'] == ARTISTA_ANALIZADO].copy()\n",
    "\n",
    "# --- CÁLCULO DE LA CANTIDAD DE ENTRADAS/CANCIONES CONSIDERADAS ---\n",
    "cantidad_entradas_totales = len(df_artist)\n",
    "# --- FIN DEL CÁLCULO DE CANTIDAD ---\n",
    "\n",
    "# --- 2. CÁLCULO DEL KPI DE TASA DE ÉXITO (Solo para Taylor Swift) ---\n",
    "\n",
    "if df_artist.empty:\n",
    "    conversion_rate_rounded = 0\n",
    "    failure_rate = 100\n",
    "    print(f\"Advertencia: No se encontraron registros para el artista '{ARTISTA_ANALIZADO}'. Mostrando 0% de éxito.\")\n",
    "else:\n",
    "    # Tasa de Éxito (Top 10)\n",
    "    total_entries = len(df_artist)\n",
    "    top_10_entries = df_artist[df_artist['Peak_Position'] <= 10]\n",
    "    conversion_rate_top10 = (len(top_10_entries) / total_entries) * 100\n",
    "    conversion_rate_rounded = round(conversion_rate_top10)\n",
    "\n",
    "    # El porcentaje de \"No Éxito\" para el medidor\n",
    "    failure_rate = 100 - conversion_rate_rounded\n",
    "    \n",
    "# --- IMPRESIÓN DEL RESULTADO ---\n",
    "print(f\"El análisis de Taylor Swift se basa en {cantidad_entradas_totales:,} entradas en el ranking.\")\n",
    "print(f\"De estas, {len(top_10_entries):,} son entradas que alcanzaron el Top 10.\")\n",
    "print(\"-\" * 40)\n",
    "\n",
    "\n",
    "# --- 3. Generación del Dashboard con Plotly Gauge ---\n",
    "\n",
    "fig_kpi = go.Figure()\n",
    "\n",
    "delta_value = conversion_rate_rounded - 50\n",
    "\n",
    "fig_kpi.add_trace(go.Indicator(\n",
    "    mode=\"gauge+number+delta\", \n",
    "    value=conversion_rate_rounded,\n",
    "    \n",
    "    delta={\n",
    "        'reference': 50, \n",
    "        'relative': False, \n",
    "        'valueformat': \"d%\",\n",
    "        'increasing': {'color': \"#28a745\"}, \n",
    "        'decreasing': {'color': \"#dc3545\"} \n",
    "    }, \n",
    "    \n",
    "    domain={'x': [0, 1], 'y': [0, 1]},\n",
    "    title={\n",
    "        # Se añade el total de entradas al título para hacerlo más informativo\n",
    "        'text': f\"Tasa de Éxito de Canciones<br><sub>{ARTISTA_ANALIZADO} ({cantidad_entradas_totales:,} entradas)</sub>\", \n",
    "        'font': {'size': 16}\n",
    "    },\n",
    "    number={'valueformat': \"d%\", 'font': {'size': 48}}, \n",
    "    gauge={\n",
    "        'shape': \"angular\",\n",
    "        'axis': {'range': [None, 100], 'tickwidth': 1, 'tickcolor': \"darkblue\"},\n",
    "        'bar': {'color': \"#333\"},\n",
    "        'steps': [\n",
    "            {'range': [0, 50], 'color': \"lightgray\"},\n",
    "            {'range': [50, 100], 'color': \"rgba(25, 135, 84, 0.4)\"}\n",
    "        ],\n",
    "        'threshold': {\n",
    "            'line': {'color': \"red\", 'width': 4},\n",
    "            'thickness': 0.75,\n",
    "            'value': conversion_rate_rounded\n",
    "        }\n",
    "    }\n",
    "))\n",
    "\n",
    "fig_kpi.add_annotation(\n",
    "    x=0.5,\n",
    "    y=0.25, \n",
    "    text=f\"**{failure_rate}%** no llegó al Top 10\",\n",
    "    showarrow=False,\n",
    "    font=dict(\n",
    "        family=\"Arial\",\n",
    "        size=16,\n",
    "        color=\"gray\"\n",
    "    )\n",
    ")\n",
    "\n",
    "# Ajustes de Layout\n",
    "fig_kpi.update_layout(\n",
    "    title_text=f\"⭐ Rendimiento de {ARTISTA_ANALIZADO}: Conversión a Éxito (Top 10)\",\n",
    "    height=420, \n",
    "    margin=dict(t=100, b=10, l=10, r=10),\n",
    "    template='plotly_white'\n",
    ")\n",
    "\n",
    "fig_kpi.show()"
   ]
  },
  {
   "cell_type": "markdown",
   "metadata": {},
   "source": [
    "### Tendencia de cantidad de canciones nuevas por año del artista Drake"
   ]
  },
  {
   "cell_type": "code",
   "execution_count": null,
   "metadata": {},
   "outputs": [],
   "source": [
    "# Tendencia de cantidad de canciones nuevas por año del artista Drake\n",
    "import plotly.express as px\n",
    "\n",
    "# Filtrar solo las canciones de Drake\n",
    "drake_df = df[df[\"Artist\"].fillna(\"\").str.contains(\"Drake\", case=False, na=False)].copy()\n",
    "\n",
    "# Extraer el año de la columna Date\n",
    "drake_df[\"Año\"] = drake_df[\"Date\"].dt.year\n",
    "\n",
    "# Encontrar el primer año en que cada canción de Drake aparece\n",
    "primer_anio_cancion = drake_df.groupby(\"Song\")[\"Año\"].min().reset_index()\n",
    "\n",
    "# Contar cuántas canciones nuevas lanzó Drake por año\n",
    "canciones_nuevas_por_anio = primer_anio_cancion.groupby(\"Año\").size().reset_index(name=\"Canciones nuevas\")\n",
    "\n",
    "fig = px.line(\n",
    "    canciones_nuevas_por_anio,\n",
    "    x=\"Año\",\n",
    "    y=\"Canciones nuevas\",\n",
    "    markers=True,\n",
    "    title=\"Tendencia de cantidad de canciones nuevas por año de Drake\",\n",
    "    labels={\"Año\": \"Año\", \"Canciones nuevas\": \"Canciones nuevas\"}\n",
    ")\n",
    "fig.update_layout(template=\"plotly_white\", xaxis_title=\"Año\", yaxis_title=\"Canciones nuevas\", height=500)\n",
    "fig.show()"
   ]
  },
  {
   "cell_type": "markdown",
   "metadata": {},
   "source": [
    "El gráfico refleja la tendencia de nuevas canciones de Drake a lo largo de los años. Se observa una fuerte variabilidad: con picos destacados en 2018 y entre 2021-2022, donde lanzó la mayor cantidad de temas, y caídas notables en 2014 y 2024. En general, la producción musical de Drake muestra ciclos de alta intensidad seguidos de descensos, lo que sugiere etapas de gran actividad creativa alternadas con periodos de menor lanzamiento."
   ]
  },
  {
   "cell_type": "code",
   "execution_count": null,
   "metadata": {},
   "outputs": [],
   "source": []
  }
 ],
 "metadata": {
  "deepnote_app_hide_all_code_blocks_enabled": false,
  "deepnote_app_layout": "powerful-article",
  "deepnote_app_reactivity_enabled": true,
  "deepnote_app_table_of_contents_enabled": true,
  "deepnote_notebook_id": "47c02c388b264ca69ce0f37ecfdb9215",
  "kernelspec": {
   "display_name": "unidad2",
   "language": "python",
   "name": "python3"
  },
  "language_info": {
   "codemirror_mode": {
    "name": "ipython",
    "version": 3
   },
   "file_extension": ".py",
   "mimetype": "text/x-python",
   "name": "python",
   "nbconvert_exporter": "python",
   "pygments_lexer": "ipython3",
   "version": "3.12.11"
  }
 },
 "nbformat": 4,
 "nbformat_minor": 4
}
