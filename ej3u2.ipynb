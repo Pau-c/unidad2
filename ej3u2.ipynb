{
    "cells": [
        {
            "cell_type": "markdown",
            "metadata": {
                "formattedRanges": [],
                "cell_id": "24a153d42dc143919533b6b2850e9b36",
                "deepnote_cell_type": "text-cell-h1"
            },
            "source": "# Programación avanzada- UNICABA",
            "block_group": "0979ba0282054f7c877ba32bd459a044"
        },
        {
            "cell_type": "markdown",
            "metadata": {
                "is_collapsed": false,
                "formattedRanges": [],
                "deepnote_app_block_visible": false,
                "cell_id": "a548016bf72345f192ddab8cfa5812a7",
                "deepnote_cell_type": "text-cell-h2"
            },
            "source": "## Ejercicio de cierre de unidad 2",
            "block_group": "1f06e94802c34bd08193ad74eb895ea1"
        },
        {
            "cell_type": "markdown",
            "metadata": {
                "is_collapsed": false,
                "formattedRanges": [],
                "deepnote_app_block_visible": false,
                "cell_id": "44d0b6cded7b4767990ce28aa1164ca8",
                "deepnote_cell_type": "text-cell-h3"
            },
            "source": "### Analisis de trends musicales en streaming segun Billboard",
            "block_group": "28a49f8a66004063bde7fb9c45e40509"
        },
        {
            "cell_type": "markdown",
            "metadata": {
                "formattedRanges": [],
                "cell_id": "30152443dbf0405fb74d836414c40141",
                "deepnote_cell_type": "text-cell-p"
            },
            "source": "Tipo: Texto (string)",
            "block_group": "933e80f98c66470ea878da5651d952b4"
        },
        {
            "cell_type": "code",
            "metadata": {
                "source_hash": "ca048d5",
                "execution_start": 1759170113784,
                "execution_millis": 0,
                "execution_context_id": "4ef6d4f7-8ec5-446f-b603-2dfdf389b9e1",
                "deepnote_app_is_code_hidden": false,
                "cell_id": "e915ad7174604b8d9b4588949eed4b90",
                "deepnote_cell_type": "code"
            },
            "source": "######################-DICCIONARIO DE DATOS DEL DATASET-########### \n\n#1-Date: Tipo: Fecha (formato yyyy/mm/dd) #    Descripción: Fecha en la que se registró el ranking de la canción.\n#2-Song: Tipo: Texto (string) #    Descripción: Nombre de la canción en el ranking.\n#3-Artist: Tipo: Texto (string) #    Descripción: Nombre del artista o grupo musical (puede incluir “Featuring” si hay colaboraciones).\n#4-Rank: Tipo: Numérico entero #    Descripción: Posición actual de la canción en el ranking (1 = primer lugar).\n#5-Last_Week:Tipo: Numérico entero #    Descripción: Posición que ocupaba la canción en la semana anterior.\n#6-Peak_Position:Tipo: Numérico entero #    Descripción: Mejor posición alcanzada por la canción en el ranking hasta la fecha.\n#7-Weeks_in_Charts:Tipo: Numérico entero #    Descripción: Número de semanas que la canción lleva en el ranking.",
            "block_group": "57105a252848498e9fcff516c3d95701",
            "execution_count": 1,
            "outputs": [],
            "outputs_reference": null,
            "content_dependencies": {
                "usedVariables": [],
                "importedModules": [],
                "definedVariables": []
            }
        },
        {
            "cell_type": "code",
            "metadata": {
                "source_hash": "5b9c35a3",
                "is_code_hidden": false,
                "execution_start": 1759170113834,
                "execution_millis": 525,
                "execution_context_id": "4ef6d4f7-8ec5-446f-b603-2dfdf389b9e1",
                "deepnote_app_block_order": 0,
                "deepnote_app_block_visible": true,
                "deepnote_app_block_group_id": null,
                "deepnote_app_is_code_hidden": false,
                "deepnote_app_is_output_hidden": false,
                "cell_id": "fabf5c7e0cf644ee9ebea8841a6fdad6",
                "deepnote_cell_type": "code"
            },
            "source": "\nimport os\nfrom supabase import create_client, Client\nimport pandas as pd\nimport plotly.express as px\nimport plotly.graph_objects as go",
            "block_group": "808bcaf5a2fc47d889cfc0441a7e17bc",
            "execution_count": 2,
            "outputs": [],
            "outputs_reference": null,
            "content_dependencies": {
                "usedVariables": [],
                "importedModules": [
                    "px",
                    "Client",
                    "os",
                    "go",
                    "create_client",
                    "pd"
                ],
                "definedVariables": []
            }
        },
        {
            "cell_type": "code",
            "metadata": {
                "source_hash": "41cfb98b",
                "execution_start": 1759170114414,
                "execution_millis": 7797,
                "execution_context_id": "4ef6d4f7-8ec5-446f-b603-2dfdf389b9e1",
                "cell_id": "bc1df3c65fda4c83b6d23a6dbfce4fc2",
                "deepnote_cell_type": "code"
            },
            "source": "# Configuración \nSUPABASE_URL = os.environ[\"SUPABASE_URL\"]\nSUPABASE_KEY = os.environ[\"SUPABASE_KEY\"]\nTABLE_NAME = \"Dataset_Ranking\"\nPAGE_SIZE = 1000  # Límite por defecto de Supabase\n# ---------------------------------------------\n\n# Inicialización\nsupabase: Client = create_client(SUPABASE_URL, SUPABASE_KEY)\nall_records = []\noffset = 0\n\nprint(f\"Iniciando descarga paginada de la tabla '{TABLE_NAME}'...\")\n\nwhile True:\n    #  Definir el rango de filas a solicitar (paginación)\n    start_row = offset\n    end_row = offset + PAGE_SIZE - 1\n    \n    #print(f\" -> Fetching filas {start_row} a {end_row}...\")\n\n    #  Ejecutar la consulta con el rango\n    response = (\n        supabase.table(TABLE_NAME)\n        .select('*')\n        .order('Date', desc=True) \n        .range(start_row, end_row) #  La clave de la paginación\n        .execute()\n    )\n    \n    data = response.data\n\n    #  Romper el bucle si no hay más datos\n    if not data:\n        print(\"Descarga completa: No se encontraron más registros.\")\n        break\n    \n    #  Acumular los registros\n    all_records.extend(data)\n    \n    #  Aumentar el desplazamiento para la siguiente página\n    offset += PAGE_SIZE\n    \n#  Crear el DataFrame ÚNICO\nif all_records:\n    df = pd.DataFrame(all_records)\n    print(f\"\\n  {len(df)} registros totales cargados en un solo DataFrame.\")\n\nelse:\n    print(\"La tabla está vacía.\")",
            "block_group": "ab708a741aba466e9dc7f45c4a5eda34",
            "execution_count": 3,
            "outputs": [
                {
                    "name": "stdout",
                    "text": "Iniciando descarga paginada de la tabla 'Dataset_Ranking'...\n✅ Descarga completa: No se encontraron más registros.\n\n  33050 registros totales cargados en un solo DataFrame.\n",
                    "output_type": "stream"
                }
            ],
            "outputs_reference": "dbtable:cell_outputs/211074fe-203b-4d09-82cc-23e29b9b1d60",
            "content_dependencies": {
                "usedVariables": [
                    "Client",
                    "PAGE_SIZE",
                    "SUPABASE_KEY",
                    "SUPABASE_URL",
                    "TABLE_NAME",
                    "all_records",
                    "create_client",
                    "data",
                    "df",
                    "end_row",
                    "offset",
                    "os",
                    "pd",
                    "response",
                    "start_row",
                    "supabase"
                ],
                "importedModules": [],
                "definedVariables": [
                    "PAGE_SIZE",
                    "SUPABASE_KEY",
                    "SUPABASE_URL",
                    "TABLE_NAME",
                    "all_records",
                    "data",
                    "df",
                    "end_row",
                    "offset",
                    "response",
                    "start_row",
                    "supabase"
                ]
            }
        },
        {
            "cell_type": "code",
            "metadata": {
                "source_hash": "206ba1e8",
                "execution_start": 1759170122265,
                "execution_millis": 1,
                "deepnote_table_state": {
                    "sortBy": [
                        {
                            "id": "Peak Position",
                            "type": "asc"
                        }
                    ],
                    "filters": [],
                    "pageSize": 100,
                    "pageIndex": 0,
                    "columnOrder": [
                        "ID",
                        "Date",
                        "Song",
                        "Artist",
                        "Rank",
                        "Last_Week",
                        "Peak_Position",
                        "Weeks_in_Charts"
                    ],
                    "hiddenColumnIds": [],
                    "columnDisplayNames": [],
                    "conditionalFilters": [],
                    "cellFormattingRules": [],
                    "wrappedTextColumnIds": []
                },
                "execution_context_id": "4ef6d4f7-8ec5-446f-b603-2dfdf389b9e1",
                "deepnote_table_loading": false,
                "deepnote_app_block_order": 1,
                "deepnote_app_block_visible": true,
                "deepnote_app_block_group_id": null,
                "deepnote_app_is_code_hidden": false,
                "deepnote_app_is_output_hidden": false,
                "cell_id": "ab708a741aba466e9dc7f45c4a5eda34",
                "deepnote_cell_type": "code"
            },
            "source": "# dataframe\n#df = pd.read_csv(\"/work/streaming_songs.csv\")\ndf.head(10)",
            "block_group": "b7c674f41400457f80bcea955fe7b8a2",
            "execution_count": 4,
            "outputs": [
                {
                    "output_type": "execute_result",
                    "execution_count": 4,
                    "data": {
                        "application/vnd.deepnote.dataframe.v3+json": {
                            "column_count": 8,
                            "columns": [
                                {
                                    "name": "ID",
                                    "dtype": "int64",
                                    "stats": {
                                        "unique_count": 10,
                                        "nan_count": 0,
                                        "min": "4237",
                                        "max": "33046",
                                        "histogram": [
                                            {
                                                "bin_start": 4237,
                                                "bin_end": 7117.9,
                                                "count": 2
                                            },
                                            {
                                                "bin_start": 7117.9,
                                                "bin_end": 9998.8,
                                                "count": 1
                                            },
                                            {
                                                "bin_start": 9998.8,
                                                "bin_end": 12879.7,
                                                "count": 2
                                            },
                                            {
                                                "bin_start": 12879.7,
                                                "bin_end": 15760.6,
                                                "count": 0
                                            },
                                            {
                                                "bin_start": 15760.6,
                                                "bin_end": 18641.5,
                                                "count": 2
                                            },
                                            {
                                                "bin_start": 18641.5,
                                                "bin_end": 21522.4,
                                                "count": 0
                                            },
                                            {
                                                "bin_start": 21522.4,
                                                "bin_end": 24403.3,
                                                "count": 0
                                            },
                                            {
                                                "bin_start": 24403.3,
                                                "bin_end": 27284.2,
                                                "count": 0
                                            },
                                            {
                                                "bin_start": 27284.2,
                                                "bin_end": 30165.100000000002,
                                                "count": 0
                                            },
                                            {
                                                "bin_start": 30165.100000000002,
                                                "bin_end": 33046,
                                                "count": 3
                                            }
                                        ],
                                        "categories": null
                                    }
                                },
                                {
                                    "name": "Date",
                                    "dtype": "object",
                                    "stats": {
                                        "unique_count": 1,
                                        "nan_count": 0,
                                        "min": null,
                                        "max": null,
                                        "histogram": null,
                                        "categories": [
                                            {
                                                "name": "2025-09-24",
                                                "count": 10
                                            }
                                        ]
                                    }
                                },
                                {
                                    "name": "Song",
                                    "dtype": "object",
                                    "stats": {
                                        "unique_count": 10,
                                        "nan_count": 0,
                                        "min": null,
                                        "max": null,
                                        "histogram": null,
                                        "categories": [
                                            {
                                                "name": "Sports Car",
                                                "count": 1
                                            },
                                            {
                                                "name": "Folded",
                                                "count": 1
                                            },
                                            {
                                                "name": "8 others",
                                                "count": 8
                                            }
                                        ]
                                    }
                                },
                                {
                                    "name": "Artist",
                                    "dtype": "object",
                                    "stats": {
                                        "unique_count": 10,
                                        "nan_count": 0,
                                        "min": null,
                                        "max": null,
                                        "histogram": null,
                                        "categories": [
                                            {
                                                "name": "Tate McRae",
                                                "count": 1
                                            },
                                            {
                                                "name": "Kehlani",
                                                "count": 1
                                            },
                                            {
                                                "name": "8 others",
                                                "count": 8
                                            }
                                        ]
                                    }
                                },
                                {
                                    "name": "Rank",
                                    "dtype": "int64",
                                    "stats": {
                                        "unique_count": 10,
                                        "nan_count": 0,
                                        "min": "6",
                                        "max": "48",
                                        "histogram": [
                                            {
                                                "bin_start": 6,
                                                "bin_end": 10.2,
                                                "count": 2
                                            },
                                            {
                                                "bin_start": 10.2,
                                                "bin_end": 14.4,
                                                "count": 0
                                            },
                                            {
                                                "bin_start": 14.4,
                                                "bin_end": 18.6,
                                                "count": 1
                                            },
                                            {
                                                "bin_start": 18.6,
                                                "bin_end": 22.8,
                                                "count": 1
                                            },
                                            {
                                                "bin_start": 22.8,
                                                "bin_end": 27,
                                                "count": 1
                                            },
                                            {
                                                "bin_start": 27,
                                                "bin_end": 31.200000000000003,
                                                "count": 2
                                            },
                                            {
                                                "bin_start": 31.200000000000003,
                                                "bin_end": 35.400000000000006,
                                                "count": 0
                                            },
                                            {
                                                "bin_start": 35.400000000000006,
                                                "bin_end": 39.6,
                                                "count": 1
                                            },
                                            {
                                                "bin_start": 39.6,
                                                "bin_end": 43.800000000000004,
                                                "count": 1
                                            },
                                            {
                                                "bin_start": 43.800000000000004,
                                                "bin_end": 48,
                                                "count": 1
                                            }
                                        ],
                                        "categories": null
                                    }
                                },
                                {
                                    "name": "Last_Week",
                                    "dtype": "int64",
                                    "stats": {
                                        "unique_count": 10,
                                        "nan_count": 0,
                                        "min": "7",
                                        "max": "48",
                                        "histogram": [
                                            {
                                                "bin_start": 7,
                                                "bin_end": 11.1,
                                                "count": 3
                                            },
                                            {
                                                "bin_start": 11.1,
                                                "bin_end": 15.2,
                                                "count": 1
                                            },
                                            {
                                                "bin_start": 15.2,
                                                "bin_end": 19.299999999999997,
                                                "count": 0
                                            },
                                            {
                                                "bin_start": 19.299999999999997,
                                                "bin_end": 23.4,
                                                "count": 0
                                            },
                                            {
                                                "bin_start": 23.4,
                                                "bin_end": 27.5,
                                                "count": 1
                                            },
                                            {
                                                "bin_start": 27.5,
                                                "bin_end": 31.599999999999998,
                                                "count": 1
                                            },
                                            {
                                                "bin_start": 31.599999999999998,
                                                "bin_end": 35.699999999999996,
                                                "count": 2
                                            },
                                            {
                                                "bin_start": 35.699999999999996,
                                                "bin_end": 39.8,
                                                "count": 0
                                            },
                                            {
                                                "bin_start": 39.8,
                                                "bin_end": 43.9,
                                                "count": 1
                                            },
                                            {
                                                "bin_start": 43.9,
                                                "bin_end": 48,
                                                "count": 1
                                            }
                                        ],
                                        "categories": null
                                    }
                                },
                                {
                                    "name": "Peak_Position",
                                    "dtype": "int64",
                                    "stats": {
                                        "unique_count": 8,
                                        "nan_count": 0,
                                        "min": "1",
                                        "max": "25",
                                        "histogram": [
                                            {
                                                "bin_start": 1,
                                                "bin_end": 3.4,
                                                "count": 3
                                            },
                                            {
                                                "bin_start": 3.4,
                                                "bin_end": 5.8,
                                                "count": 1
                                            },
                                            {
                                                "bin_start": 5.8,
                                                "bin_end": 8.2,
                                                "count": 1
                                            },
                                            {
                                                "bin_start": 8.2,
                                                "bin_end": 10.6,
                                                "count": 1
                                            },
                                            {
                                                "bin_start": 10.6,
                                                "bin_end": 13,
                                                "count": 1
                                            },
                                            {
                                                "bin_start": 13,
                                                "bin_end": 15.399999999999999,
                                                "count": 1
                                            },
                                            {
                                                "bin_start": 15.399999999999999,
                                                "bin_end": 17.8,
                                                "count": 0
                                            },
                                            {
                                                "bin_start": 17.8,
                                                "bin_end": 20.2,
                                                "count": 0
                                            },
                                            {
                                                "bin_start": 20.2,
                                                "bin_end": 22.599999999999998,
                                                "count": 1
                                            },
                                            {
                                                "bin_start": 22.599999999999998,
                                                "bin_end": 25,
                                                "count": 1
                                            }
                                        ],
                                        "categories": null
                                    }
                                },
                                {
                                    "name": "Weeks_in_Charts",
                                    "dtype": "int64",
                                    "stats": {
                                        "unique_count": 9,
                                        "nan_count": 0,
                                        "min": "0",
                                        "max": "74",
                                        "histogram": [
                                            {
                                                "bin_start": 0,
                                                "bin_end": 7.4,
                                                "count": 4
                                            },
                                            {
                                                "bin_start": 7.4,
                                                "bin_end": 14.8,
                                                "count": 2
                                            },
                                            {
                                                "bin_start": 14.8,
                                                "bin_end": 22.200000000000003,
                                                "count": 1
                                            },
                                            {
                                                "bin_start": 22.200000000000003,
                                                "bin_end": 29.6,
                                                "count": 0
                                            },
                                            {
                                                "bin_start": 29.6,
                                                "bin_end": 37,
                                                "count": 0
                                            },
                                            {
                                                "bin_start": 37,
                                                "bin_end": 44.400000000000006,
                                                "count": 1
                                            },
                                            {
                                                "bin_start": 44.400000000000006,
                                                "bin_end": 51.800000000000004,
                                                "count": 0
                                            },
                                            {
                                                "bin_start": 51.800000000000004,
                                                "bin_end": 59.2,
                                                "count": 0
                                            },
                                            {
                                                "bin_start": 59.2,
                                                "bin_end": 66.60000000000001,
                                                "count": 0
                                            },
                                            {
                                                "bin_start": 66.60000000000001,
                                                "bin_end": 74,
                                                "count": 2
                                            }
                                        ],
                                        "categories": null
                                    }
                                },
                                {
                                    "name": "_deepnote_index_column",
                                    "dtype": "int64"
                                }
                            ],
                            "row_count": 10,
                            "preview_row_count": 10,
                            "rows": [
                                {
                                    "ID": 8658,
                                    "Date": "2025-09-24",
                                    "Song": "Sports Car",
                                    "Artist": "Tate McRae",
                                    "Rank": 38,
                                    "Last_Week": 8,
                                    "Peak_Position": 15,
                                    "Weeks_in_Charts": 0,
                                    "_deepnote_index_column": 0
                                },
                                {
                                    "ID": 4237,
                                    "Date": "2025-09-24",
                                    "Song": "Folded",
                                    "Artist": "Kehlani",
                                    "Rank": 27,
                                    "Last_Week": 33,
                                    "Peak_Position": 25,
                                    "Weeks_in_Charts": 7,
                                    "_deepnote_index_column": 1
                                },
                                {
                                    "ID": 33046,
                                    "Date": "2025-09-24",
                                    "Song": "I Had Some Help",
                                    "Artist": "Post Malone Featuring Morgan Wallen",
                                    "Rank": 28,
                                    "Last_Week": 35,
                                    "Peak_Position": 1,
                                    "Weeks_in_Charts": 70,
                                    "_deepnote_index_column": 2
                                },
                                {
                                    "ID": 11461,
                                    "Date": "2025-09-24",
                                    "Song": "No One Noticed",
                                    "Artist": "The Marias",
                                    "Rank": 22,
                                    "Last_Week": 27,
                                    "Peak_Position": 11,
                                    "Weeks_in_Charts": 39,
                                    "_deepnote_index_column": 3
                                },
                                {
                                    "ID": 33045,
                                    "Date": "2025-09-24",
                                    "Song": "A Bar Song (Tipsy)",
                                    "Artist": "Shaboozey",
                                    "Rank": 24,
                                    "Last_Week": 30,
                                    "Peak_Position": 1,
                                    "Weeks_in_Charts": 74,
                                    "_deepnote_index_column": 4
                                },
                                {
                                    "ID": 16034,
                                    "Date": "2025-09-24",
                                    "Song": "What It Sounds Like",
                                    "Artist": "HUNTR/X: EJAE| Audrey Nuna & REI AMI",
                                    "Rank": 6,
                                    "Last_Week": 7,
                                    "Peak_Position": 6,
                                    "Weeks_in_Charts": 12,
                                    "_deepnote_index_column": 5
                                },
                                {
                                    "ID": 5655,
                                    "Date": "2025-09-24",
                                    "Song": "Sugar On My Tongue",
                                    "Artist": "Tyler| the Creator",
                                    "Rank": 43,
                                    "Last_Week": 42,
                                    "Peak_Position": 21,
                                    "Weeks_in_Charts": 8,
                                    "_deepnote_index_column": 6
                                },
                                {
                                    "ID": 33040,
                                    "Date": "2025-09-24",
                                    "Song": "What I Want",
                                    "Artist": "Morgan Wallen Featuring Tate McRae",
                                    "Rank": 8,
                                    "Last_Week": 9,
                                    "Peak_Position": 1,
                                    "Weeks_in_Charts": 18,
                                    "_deepnote_index_column": 7
                                },
                                {
                                    "ID": 17424,
                                    "Date": "2025-09-24",
                                    "Song": "Creep",
                                    "Artist": "Radiohead",
                                    "Rank": 48,
                                    "Last_Week": 48,
                                    "Peak_Position": 5,
                                    "Weeks_in_Charts": 0,
                                    "_deepnote_index_column": 8
                                },
                                {
                                    "ID": 12229,
                                    "Date": "2025-09-24",
                                    "Song": "When Did You Get Hot?",
                                    "Artist": "Sabrina Carpenter",
                                    "Rank": 17,
                                    "Last_Week": 14,
                                    "Peak_Position": 10,
                                    "Weeks_in_Charts": 3,
                                    "_deepnote_index_column": 9
                                }
                            ],
                            "type": "dataframe"
                        },
                        "text/plain": "      ID        Date                   Song  \\\n0   8658  2025-09-24             Sports Car   \n1   4237  2025-09-24                 Folded   \n2  33046  2025-09-24        I Had Some Help   \n3  11461  2025-09-24         No One Noticed   \n4  33045  2025-09-24     A Bar Song (Tipsy)   \n5  16034  2025-09-24    What It Sounds Like   \n6   5655  2025-09-24     Sugar On My Tongue   \n7  33040  2025-09-24            What I Want   \n8  17424  2025-09-24                  Creep   \n9  12229  2025-09-24  When Did You Get Hot?   \n\n                                 Artist  Rank  Last_Week  Peak_Position  \\\n0                            Tate McRae    38          8             15   \n1                               Kehlani    27         33             25   \n2   Post Malone Featuring Morgan Wallen    28         35              1   \n3                            The Marias    22         27             11   \n4                             Shaboozey    24         30              1   \n5  HUNTR/X: EJAE| Audrey Nuna & REI AMI     6          7              6   \n6                    Tyler| the Creator    43         42             21   \n7    Morgan Wallen Featuring Tate McRae     8          9              1   \n8                             Radiohead    48         48              5   \n9                     Sabrina Carpenter    17         14             10   \n\n   Weeks_in_Charts  \n0                0  \n1                7  \n2               70  \n3               39  \n4               74  \n5               12  \n6                8  \n7               18  \n8                0  \n9                3  ",
                        "text/html": "<div>\n<style scoped>\n    .dataframe tbody tr th:only-of-type {\n        vertical-align: middle;\n    }\n\n    .dataframe tbody tr th {\n        vertical-align: top;\n    }\n\n    .dataframe thead th {\n        text-align: right;\n    }\n</style>\n<table border=\"1\" class=\"dataframe\">\n  <thead>\n    <tr style=\"text-align: right;\">\n      <th></th>\n      <th>ID</th>\n      <th>Date</th>\n      <th>Song</th>\n      <th>Artist</th>\n      <th>Rank</th>\n      <th>Last_Week</th>\n      <th>Peak_Position</th>\n      <th>Weeks_in_Charts</th>\n    </tr>\n  </thead>\n  <tbody>\n    <tr>\n      <th>0</th>\n      <td>8658</td>\n      <td>2025-09-24</td>\n      <td>Sports Car</td>\n      <td>Tate McRae</td>\n      <td>38</td>\n      <td>8</td>\n      <td>15</td>\n      <td>0</td>\n    </tr>\n    <tr>\n      <th>1</th>\n      <td>4237</td>\n      <td>2025-09-24</td>\n      <td>Folded</td>\n      <td>Kehlani</td>\n      <td>27</td>\n      <td>33</td>\n      <td>25</td>\n      <td>7</td>\n    </tr>\n    <tr>\n      <th>2</th>\n      <td>33046</td>\n      <td>2025-09-24</td>\n      <td>I Had Some Help</td>\n      <td>Post Malone Featuring Morgan Wallen</td>\n      <td>28</td>\n      <td>35</td>\n      <td>1</td>\n      <td>70</td>\n    </tr>\n    <tr>\n      <th>3</th>\n      <td>11461</td>\n      <td>2025-09-24</td>\n      <td>No One Noticed</td>\n      <td>The Marias</td>\n      <td>22</td>\n      <td>27</td>\n      <td>11</td>\n      <td>39</td>\n    </tr>\n    <tr>\n      <th>4</th>\n      <td>33045</td>\n      <td>2025-09-24</td>\n      <td>A Bar Song (Tipsy)</td>\n      <td>Shaboozey</td>\n      <td>24</td>\n      <td>30</td>\n      <td>1</td>\n      <td>74</td>\n    </tr>\n    <tr>\n      <th>5</th>\n      <td>16034</td>\n      <td>2025-09-24</td>\n      <td>What It Sounds Like</td>\n      <td>HUNTR/X: EJAE| Audrey Nuna &amp; REI AMI</td>\n      <td>6</td>\n      <td>7</td>\n      <td>6</td>\n      <td>12</td>\n    </tr>\n    <tr>\n      <th>6</th>\n      <td>5655</td>\n      <td>2025-09-24</td>\n      <td>Sugar On My Tongue</td>\n      <td>Tyler| the Creator</td>\n      <td>43</td>\n      <td>42</td>\n      <td>21</td>\n      <td>8</td>\n    </tr>\n    <tr>\n      <th>7</th>\n      <td>33040</td>\n      <td>2025-09-24</td>\n      <td>What I Want</td>\n      <td>Morgan Wallen Featuring Tate McRae</td>\n      <td>8</td>\n      <td>9</td>\n      <td>1</td>\n      <td>18</td>\n    </tr>\n    <tr>\n      <th>8</th>\n      <td>17424</td>\n      <td>2025-09-24</td>\n      <td>Creep</td>\n      <td>Radiohead</td>\n      <td>48</td>\n      <td>48</td>\n      <td>5</td>\n      <td>0</td>\n    </tr>\n    <tr>\n      <th>9</th>\n      <td>12229</td>\n      <td>2025-09-24</td>\n      <td>When Did You Get Hot?</td>\n      <td>Sabrina Carpenter</td>\n      <td>17</td>\n      <td>14</td>\n      <td>10</td>\n      <td>3</td>\n    </tr>\n  </tbody>\n</table>\n</div>"
                    },
                    "metadata": {}
                }
            ],
            "outputs_reference": "s3:deepnote-cell-outputs-production/608431be-6b6e-4023-850a-7253e6793f77",
            "content_dependencies": {
                "usedVariables": [
                    "df"
                ],
                "importedModules": [],
                "definedVariables": []
            }
        },
        {
            "cell_type": "code",
            "metadata": {
                "source_hash": "9389c016",
                "execution_start": 1759170122324,
                "execution_millis": 1,
                "execution_context_id": "4ef6d4f7-8ec5-446f-b603-2dfdf389b9e1",
                "deepnote_app_block_order": 2,
                "deepnote_app_block_visible": true,
                "deepnote_app_block_group_id": null,
                "deepnote_app_is_code_hidden": false,
                "deepnote_app_is_output_hidden": false,
                "cell_id": "33eb20d56dfc42e284a2b998a8dbc7c6",
                "deepnote_cell_type": "code"
            },
            "source": "#encontrar vacios\ndf.isnull().sum()\ndf.info()\nprint(f\"Filas: {df.shape[0]}, Columnas: {df.shape[1]}\")",
            "block_group": "94707bada0f74c7bb2d872a66ef79721",
            "execution_count": 5,
            "outputs": [
                {
                    "name": "stdout",
                    "text": "<class 'pandas.core.frame.DataFrame'>\nRangeIndex: 33050 entries, 0 to 33049\nData columns (total 8 columns):\n #   Column           Non-Null Count  Dtype \n---  ------           --------------  ----- \n 0   ID               33050 non-null  int64 \n 1   Date             33050 non-null  object\n 2   Song             33050 non-null  object\n 3   Artist           33050 non-null  object\n 4   Rank             33050 non-null  int64 \n 5   Last_Week        33050 non-null  int64 \n 6   Peak_Position    33050 non-null  int64 \n 7   Weeks_in_Charts  33050 non-null  int64 \ndtypes: int64(5), object(3)\nmemory usage: 2.0+ MB\nFilas: 33050, Columnas: 8\n",
                    "output_type": "stream"
                }
            ],
            "outputs_reference": "dbtable:cell_outputs/ec510446-3d93-486c-9c68-cb2ceb4f54b3",
            "content_dependencies": {
                "usedVariables": [
                    "df"
                ],
                "importedModules": [],
                "definedVariables": []
            }
        },
        {
            "cell_type": "code",
            "metadata": {
                "source_hash": "abc4be1",
                "execution_start": 1759170122375,
                "execution_millis": 0,
                "execution_context_id": "4ef6d4f7-8ec5-446f-b603-2dfdf389b9e1",
                "deepnote_app_block_order": 3,
                "deepnote_app_block_visible": true,
                "deepnote_app_block_group_id": null,
                "deepnote_app_is_code_hidden": false,
                "deepnote_app_is_output_hidden": false,
                "cell_id": "2f5544a010dc401fbf304753d7436381",
                "deepnote_cell_type": "code"
            },
            "source": "df.describe()\n",
            "block_group": "5ec4982f5dc74d07a5d971ff57bc5f45",
            "execution_count": 6,
            "outputs": [
                {
                    "output_type": "execute_result",
                    "execution_count": 6,
                    "data": {
                        "application/vnd.deepnote.dataframe.v3+json": {
                            "column_count": 5,
                            "columns": [
                                {
                                    "name": "ID",
                                    "dtype": "float64",
                                    "stats": {
                                        "unique_count": 6,
                                        "nan_count": 0,
                                        "min": "1.0",
                                        "max": "33050.0",
                                        "histogram": [
                                            {
                                                "bin_start": 1,
                                                "bin_end": 3305.9,
                                                "count": 1
                                            },
                                            {
                                                "bin_start": 3305.9,
                                                "bin_end": 6610.8,
                                                "count": 0
                                            },
                                            {
                                                "bin_start": 6610.8,
                                                "bin_end": 9915.7,
                                                "count": 2
                                            },
                                            {
                                                "bin_start": 9915.7,
                                                "bin_end": 13220.6,
                                                "count": 0
                                            },
                                            {
                                                "bin_start": 13220.6,
                                                "bin_end": 16525.5,
                                                "count": 0
                                            },
                                            {
                                                "bin_start": 16525.5,
                                                "bin_end": 19830.4,
                                                "count": 2
                                            },
                                            {
                                                "bin_start": 19830.4,
                                                "bin_end": 23135.3,
                                                "count": 0
                                            },
                                            {
                                                "bin_start": 23135.3,
                                                "bin_end": 26440.2,
                                                "count": 1
                                            },
                                            {
                                                "bin_start": 26440.2,
                                                "bin_end": 29745.100000000002,
                                                "count": 0
                                            },
                                            {
                                                "bin_start": 29745.100000000002,
                                                "bin_end": 33050,
                                                "count": 2
                                            }
                                        ],
                                        "categories": null
                                    }
                                },
                                {
                                    "name": "Rank",
                                    "dtype": "float64",
                                    "stats": {
                                        "unique_count": 7,
                                        "nan_count": 0,
                                        "min": "1.0",
                                        "max": "33050.0",
                                        "histogram": [
                                            {
                                                "bin_start": 1,
                                                "bin_end": 3305.9,
                                                "count": 7
                                            },
                                            {
                                                "bin_start": 3305.9,
                                                "bin_end": 6610.8,
                                                "count": 0
                                            },
                                            {
                                                "bin_start": 6610.8,
                                                "bin_end": 9915.7,
                                                "count": 0
                                            },
                                            {
                                                "bin_start": 9915.7,
                                                "bin_end": 13220.6,
                                                "count": 0
                                            },
                                            {
                                                "bin_start": 13220.6,
                                                "bin_end": 16525.5,
                                                "count": 0
                                            },
                                            {
                                                "bin_start": 16525.5,
                                                "bin_end": 19830.4,
                                                "count": 0
                                            },
                                            {
                                                "bin_start": 19830.4,
                                                "bin_end": 23135.3,
                                                "count": 0
                                            },
                                            {
                                                "bin_start": 23135.3,
                                                "bin_end": 26440.2,
                                                "count": 0
                                            },
                                            {
                                                "bin_start": 26440.2,
                                                "bin_end": 29745.100000000002,
                                                "count": 0
                                            },
                                            {
                                                "bin_start": 29745.100000000002,
                                                "bin_end": 33050,
                                                "count": 1
                                            }
                                        ],
                                        "categories": null
                                    }
                                },
                                {
                                    "name": "Last_Week",
                                    "dtype": "float64",
                                    "stats": {
                                        "unique_count": 8,
                                        "nan_count": 0,
                                        "min": "1.0",
                                        "max": "33050.0",
                                        "histogram": [
                                            {
                                                "bin_start": 1,
                                                "bin_end": 3305.9,
                                                "count": 7
                                            },
                                            {
                                                "bin_start": 3305.9,
                                                "bin_end": 6610.8,
                                                "count": 0
                                            },
                                            {
                                                "bin_start": 6610.8,
                                                "bin_end": 9915.7,
                                                "count": 0
                                            },
                                            {
                                                "bin_start": 9915.7,
                                                "bin_end": 13220.6,
                                                "count": 0
                                            },
                                            {
                                                "bin_start": 13220.6,
                                                "bin_end": 16525.5,
                                                "count": 0
                                            },
                                            {
                                                "bin_start": 16525.5,
                                                "bin_end": 19830.4,
                                                "count": 0
                                            },
                                            {
                                                "bin_start": 19830.4,
                                                "bin_end": 23135.3,
                                                "count": 0
                                            },
                                            {
                                                "bin_start": 23135.3,
                                                "bin_end": 26440.2,
                                                "count": 0
                                            },
                                            {
                                                "bin_start": 26440.2,
                                                "bin_end": 29745.100000000002,
                                                "count": 0
                                            },
                                            {
                                                "bin_start": 29745.100000000002,
                                                "bin_end": 33050,
                                                "count": 1
                                            }
                                        ],
                                        "categories": null
                                    }
                                },
                                {
                                    "name": "Peak_Position",
                                    "dtype": "float64",
                                    "stats": {
                                        "unique_count": 7,
                                        "nan_count": 0,
                                        "min": "1.0",
                                        "max": "33050.0",
                                        "histogram": [
                                            {
                                                "bin_start": 1,
                                                "bin_end": 3305.9,
                                                "count": 7
                                            },
                                            {
                                                "bin_start": 3305.9,
                                                "bin_end": 6610.8,
                                                "count": 0
                                            },
                                            {
                                                "bin_start": 6610.8,
                                                "bin_end": 9915.7,
                                                "count": 0
                                            },
                                            {
                                                "bin_start": 9915.7,
                                                "bin_end": 13220.6,
                                                "count": 0
                                            },
                                            {
                                                "bin_start": 13220.6,
                                                "bin_end": 16525.5,
                                                "count": 0
                                            },
                                            {
                                                "bin_start": 16525.5,
                                                "bin_end": 19830.4,
                                                "count": 0
                                            },
                                            {
                                                "bin_start": 19830.4,
                                                "bin_end": 23135.3,
                                                "count": 0
                                            },
                                            {
                                                "bin_start": 23135.3,
                                                "bin_end": 26440.2,
                                                "count": 0
                                            },
                                            {
                                                "bin_start": 26440.2,
                                                "bin_end": 29745.100000000002,
                                                "count": 0
                                            },
                                            {
                                                "bin_start": 29745.100000000002,
                                                "bin_end": 33050,
                                                "count": 1
                                            }
                                        ],
                                        "categories": null
                                    }
                                },
                                {
                                    "name": "Weeks_in_Charts",
                                    "dtype": "float64",
                                    "stats": {
                                        "unique_count": 8,
                                        "nan_count": 0,
                                        "min": "0.0",
                                        "max": "33050.0",
                                        "histogram": [
                                            {
                                                "bin_start": 0,
                                                "bin_end": 3305,
                                                "count": 7
                                            },
                                            {
                                                "bin_start": 3305,
                                                "bin_end": 6610,
                                                "count": 0
                                            },
                                            {
                                                "bin_start": 6610,
                                                "bin_end": 9915,
                                                "count": 0
                                            },
                                            {
                                                "bin_start": 9915,
                                                "bin_end": 13220,
                                                "count": 0
                                            },
                                            {
                                                "bin_start": 13220,
                                                "bin_end": 16525,
                                                "count": 0
                                            },
                                            {
                                                "bin_start": 16525,
                                                "bin_end": 19830,
                                                "count": 0
                                            },
                                            {
                                                "bin_start": 19830,
                                                "bin_end": 23135,
                                                "count": 0
                                            },
                                            {
                                                "bin_start": 23135,
                                                "bin_end": 26440,
                                                "count": 0
                                            },
                                            {
                                                "bin_start": 26440,
                                                "bin_end": 29745,
                                                "count": 0
                                            },
                                            {
                                                "bin_start": 29745,
                                                "bin_end": 33050,
                                                "count": 1
                                            }
                                        ],
                                        "categories": null
                                    }
                                },
                                {
                                    "name": "_deepnote_index_column",
                                    "dtype": "object"
                                }
                            ],
                            "row_count": 8,
                            "preview_row_count": 8,
                            "rows": [
                                {
                                    "ID": 33050,
                                    "Rank": 33050,
                                    "Last_Week": 33050,
                                    "Peak_Position": 33050,
                                    "Weeks_in_Charts": 33050,
                                    "_deepnote_index_column": "count"
                                },
                                {
                                    "ID": 16525.5,
                                    "Rank": 25.5,
                                    "Last_Week": 23.190438729198185,
                                    "Peak_Position": 10.174553706505295,
                                    "Weeks_in_Charts": 14.520937972768532,
                                    "_deepnote_index_column": "mean"
                                },
                                {
                                    "ID": 9540.857534834067,
                                    "Rank": 14.431088013370982,
                                    "Last_Week": 14.032790967073874,
                                    "Peak_Position": 11.959739617178439,
                                    "Weeks_in_Charts": 16.682715310569925,
                                    "_deepnote_index_column": "std"
                                },
                                {
                                    "ID": 1,
                                    "Rank": 1,
                                    "Last_Week": 1,
                                    "Peak_Position": 1,
                                    "Weeks_in_Charts": 0,
                                    "_deepnote_index_column": "min"
                                },
                                {
                                    "ID": 8263.25,
                                    "Rank": 13,
                                    "Last_Week": 11,
                                    "Peak_Position": 1,
                                    "Weeks_in_Charts": 3,
                                    "_deepnote_index_column": "25%"
                                },
                                {
                                    "ID": 16525.5,
                                    "Rank": 25.5,
                                    "Last_Week": 22,
                                    "Peak_Position": 5,
                                    "Weeks_in_Charts": 9,
                                    "_deepnote_index_column": "50%"
                                },
                                {
                                    "ID": 24787.75,
                                    "Rank": 38,
                                    "Last_Week": 35,
                                    "Peak_Position": 15,
                                    "Weeks_in_Charts": 20,
                                    "_deepnote_index_column": "75%"
                                },
                                {
                                    "ID": 33050,
                                    "Rank": 50,
                                    "Last_Week": 50,
                                    "Peak_Position": 148,
                                    "Weeks_in_Charts": 149,
                                    "_deepnote_index_column": "max"
                                }
                            ],
                            "type": "dataframe"
                        },
                        "text/plain": "                 ID          Rank     Last_Week  Peak_Position  \\\ncount  33050.000000  33050.000000  33050.000000   33050.000000   \nmean   16525.500000     25.500000     23.190439      10.174554   \nstd     9540.857535     14.431088     14.032791      11.959740   \nmin        1.000000      1.000000      1.000000       1.000000   \n25%     8263.250000     13.000000     11.000000       1.000000   \n50%    16525.500000     25.500000     22.000000       5.000000   \n75%    24787.750000     38.000000     35.000000      15.000000   \nmax    33050.000000     50.000000     50.000000     148.000000   \n\n       Weeks_in_Charts  \ncount     33050.000000  \nmean         14.520938  \nstd          16.682715  \nmin           0.000000  \n25%           3.000000  \n50%           9.000000  \n75%          20.000000  \nmax         149.000000  ",
                        "text/html": "<div>\n<style scoped>\n    .dataframe tbody tr th:only-of-type {\n        vertical-align: middle;\n    }\n\n    .dataframe tbody tr th {\n        vertical-align: top;\n    }\n\n    .dataframe thead th {\n        text-align: right;\n    }\n</style>\n<table border=\"1\" class=\"dataframe\">\n  <thead>\n    <tr style=\"text-align: right;\">\n      <th></th>\n      <th>ID</th>\n      <th>Rank</th>\n      <th>Last_Week</th>\n      <th>Peak_Position</th>\n      <th>Weeks_in_Charts</th>\n    </tr>\n  </thead>\n  <tbody>\n    <tr>\n      <th>count</th>\n      <td>33050.000000</td>\n      <td>33050.000000</td>\n      <td>33050.000000</td>\n      <td>33050.000000</td>\n      <td>33050.000000</td>\n    </tr>\n    <tr>\n      <th>mean</th>\n      <td>16525.500000</td>\n      <td>25.500000</td>\n      <td>23.190439</td>\n      <td>10.174554</td>\n      <td>14.520938</td>\n    </tr>\n    <tr>\n      <th>std</th>\n      <td>9540.857535</td>\n      <td>14.431088</td>\n      <td>14.032791</td>\n      <td>11.959740</td>\n      <td>16.682715</td>\n    </tr>\n    <tr>\n      <th>min</th>\n      <td>1.000000</td>\n      <td>1.000000</td>\n      <td>1.000000</td>\n      <td>1.000000</td>\n      <td>0.000000</td>\n    </tr>\n    <tr>\n      <th>25%</th>\n      <td>8263.250000</td>\n      <td>13.000000</td>\n      <td>11.000000</td>\n      <td>1.000000</td>\n      <td>3.000000</td>\n    </tr>\n    <tr>\n      <th>50%</th>\n      <td>16525.500000</td>\n      <td>25.500000</td>\n      <td>22.000000</td>\n      <td>5.000000</td>\n      <td>9.000000</td>\n    </tr>\n    <tr>\n      <th>75%</th>\n      <td>24787.750000</td>\n      <td>38.000000</td>\n      <td>35.000000</td>\n      <td>15.000000</td>\n      <td>20.000000</td>\n    </tr>\n    <tr>\n      <th>max</th>\n      <td>33050.000000</td>\n      <td>50.000000</td>\n      <td>50.000000</td>\n      <td>148.000000</td>\n      <td>149.000000</td>\n    </tr>\n  </tbody>\n</table>\n</div>"
                    },
                    "metadata": {}
                }
            ],
            "outputs_reference": "s3:deepnote-cell-outputs-production/dd42b9de-7983-4dcc-ae80-12788ebed583",
            "content_dependencies": {
                "usedVariables": [
                    "df"
                ],
                "importedModules": [],
                "definedVariables": []
            }
        },
        {
            "cell_type": "markdown",
            "metadata": {
                "formattedRanges": [],
                "deepnote_app_block_order": 4,
                "deepnote_app_block_visible": true,
                "deepnote_app_block_group_id": null,
                "cell_id": "b9abfd9654d1482aac36c4ff33985489",
                "deepnote_cell_type": "text-cell-p"
            },
            "source": "Los datos fueron recolectados desde el 23/01/2013 hasta el 24/09/2025, contiene 33050 registros de canciones de streaming calculadas por Billboard",
            "block_group": "883ba1781f7d45519f26510f1075ffe0"
        },
        {
            "cell_type": "code",
            "metadata": {
                "source_hash": "d2c0c77f",
                "execution_start": 1759170122434,
                "execution_millis": 0,
                "execution_context_id": "4ef6d4f7-8ec5-446f-b603-2dfdf389b9e1",
                "deepnote_app_block_order": 5,
                "deepnote_app_block_visible": true,
                "deepnote_app_block_group_id": null,
                "deepnote_app_is_code_hidden": false,
                "deepnote_app_is_output_hidden": false,
                "cell_id": "69473e056a7647a9ba080379590cfb44",
                "deepnote_cell_type": "code"
            },
            "source": "# columna Date a datetime\ndf[\"Date\"] = pd.to_datetime(df[\"Date\"], format=\"%Y-%m-%d\", errors=\"coerce\")\n\n# Extraer el año\ndf[\"Year\"] = df[\"Date\"].dt.year\n\n# canciones por año\n\nsongs_per_year = df.groupby(\"Year\")[\"Song\"].nunique().reset_index()\nsongs_per_year.columns = [\"Year\", \"UniqueSongCount\"]\n\naverage_unique_songs_per_year = songs_per_year[\"UniqueSongCount\"].mean()\nprint(f\"Promedio de canciones únicas por año: {average_unique_songs_per_year:.2f}\")",
            "block_group": "cc721fd8fde14fc19a841f7f3c44a517",
            "execution_count": 7,
            "outputs": [
                {
                    "name": "stdout",
                    "text": "Promedio de canciones únicas por año: 363.46\n",
                    "output_type": "stream"
                }
            ],
            "outputs_reference": "dbtable:cell_outputs/ad39bdb9-d54b-4501-b663-557ae1da2f2f",
            "content_dependencies": {
                "usedVariables": [
                    "average_unique_songs_per_year",
                    "df",
                    "pd",
                    "songs_per_year"
                ],
                "importedModules": [],
                "definedVariables": [
                    "average_unique_songs_per_year",
                    "songs_per_year"
                ]
            }
        },
        {
            "cell_type": "code",
            "metadata": {
                "source_hash": "6cbe4d55",
                "execution_start": 1759170122494,
                "execution_millis": 440,
                "execution_context_id": "4ef6d4f7-8ec5-446f-b603-2dfdf389b9e1",
                "deepnote_app_block_order": 6,
                "deepnote_app_block_visible": true,
                "deepnote_app_block_group_id": null,
                "deepnote_app_is_code_hidden": false,
                "deepnote_app_is_output_hidden": false,
                "cell_id": "068fa7c4e173429793a27bab8af72afa",
                "deepnote_cell_type": "code"
            },
            "source": "\n# Graficar\nfig = px.line(\n    songs_per_year,\n    x=\"Year\",\n    y=\"UniqueSongCount\",\n    markers=True,\n    title=\"Evolución de canciones por año\",\n    labels={\"Year\": \"Año\", \"UniqueSongCount\": \"Cantidad de canciones\"}\n)\n\nfig.update_layout(template=\"plotly_white\")\nfig.show()",
            "block_group": "9b712c5843d64f59ab4f8d5f5cfa7b9d",
            "execution_count": 8,
            "outputs": [
                {
                    "data": {
                        "text/html": "<html>\n<head><meta charset=\"utf-8\" /></head>\n<body>\n    <div>            <script src=\"https://cdnjs.cloudflare.com/ajax/libs/mathjax/2.7.5/MathJax.js?config=TeX-AMS-MML_SVG\"></script><script type=\"text/javascript\">if (window.MathJax && window.MathJax.Hub && window.MathJax.Hub.Config) {window.MathJax.Hub.Config({SVG: {font: \"STIX-Web\"}});}</script>                <script type=\"text/javascript\">window.PlotlyConfig = {MathJaxConfig: 'local'};</script>\n        <script charset=\"utf-8\" src=\"https://cdn.plot.ly/plotly-3.1.0.min.js\" integrity=\"sha256-Ei4740bWZhaUTQuD6q9yQlgVCMPBz6CZWhevDYPv93A=\" crossorigin=\"anonymous\"></script>                <div id=\"0aa05726-3081-4d1a-bb34-1f100af594d7\" class=\"plotly-graph-div\" style=\"height:525px; width:100%;\"></div>            <script type=\"text/javascript\">                window.PLOTLYENV=window.PLOTLYENV || {};                                if (document.getElementById(\"0aa05726-3081-4d1a-bb34-1f100af594d7\")) {                    Plotly.newPlot(                        \"0aa05726-3081-4d1a-bb34-1f100af594d7\",                        [{\"hovertemplate\":\"A\\u00f1o=%{x}\\u003cbr\\u003eCantidad de canciones=%{y}\\u003cextra\\u003e\\u003c\\u002fextra\\u003e\",\"legendgroup\":\"\",\"line\":{\"color\":\"#636efa\",\"dash\":\"solid\"},\"marker\":{\"symbol\":\"circle\"},\"mode\":\"lines+markers\",\"name\":\"\",\"orientation\":\"v\",\"showlegend\":false,\"x\":{\"dtype\":\"i4\",\"bdata\":\"3QcAAN4HAADfBwAA4AcAAOEHAADiBwAA4wcAAOQHAADlBwAA5gcAAOcHAADoBwAA6QcAAA==\"},\"xaxis\":\"x\",\"y\":{\"dtype\":\"i2\",\"bdata\":\"6QDbANgA\\u002fQASAY4BZgEBAu8BCALOAccBSQE=\"},\"yaxis\":\"y\",\"type\":\"scatter\"}],                        {\"template\":{\"data\":{\"barpolar\":[{\"marker\":{\"line\":{\"color\":\"white\",\"width\":0.5},\"pattern\":{\"fillmode\":\"overlay\",\"size\":10,\"solidity\":0.2}},\"type\":\"barpolar\"}],\"bar\":[{\"error_x\":{\"color\":\"#2a3f5f\"},\"error_y\":{\"color\":\"#2a3f5f\"},\"marker\":{\"line\":{\"color\":\"white\",\"width\":0.5},\"pattern\":{\"fillmode\":\"overlay\",\"size\":10,\"solidity\":0.2}},\"type\":\"bar\"}],\"carpet\":[{\"aaxis\":{\"endlinecolor\":\"#2a3f5f\",\"gridcolor\":\"#C8D4E3\",\"linecolor\":\"#C8D4E3\",\"minorgridcolor\":\"#C8D4E3\",\"startlinecolor\":\"#2a3f5f\"},\"baxis\":{\"endlinecolor\":\"#2a3f5f\",\"gridcolor\":\"#C8D4E3\",\"linecolor\":\"#C8D4E3\",\"minorgridcolor\":\"#C8D4E3\",\"startlinecolor\":\"#2a3f5f\"},\"type\":\"carpet\"}],\"choropleth\":[{\"colorbar\":{\"outlinewidth\":0,\"ticks\":\"\"},\"type\":\"choropleth\"}],\"contourcarpet\":[{\"colorbar\":{\"outlinewidth\":0,\"ticks\":\"\"},\"type\":\"contourcarpet\"}],\"contour\":[{\"colorbar\":{\"outlinewidth\":0,\"ticks\":\"\"},\"colorscale\":[[0.0,\"#0d0887\"],[0.1111111111111111,\"#46039f\"],[0.2222222222222222,\"#7201a8\"],[0.3333333333333333,\"#9c179e\"],[0.4444444444444444,\"#bd3786\"],[0.5555555555555556,\"#d8576b\"],[0.6666666666666666,\"#ed7953\"],[0.7777777777777778,\"#fb9f3a\"],[0.8888888888888888,\"#fdca26\"],[1.0,\"#f0f921\"]],\"type\":\"contour\"}],\"heatmap\":[{\"colorbar\":{\"outlinewidth\":0,\"ticks\":\"\"},\"colorscale\":[[0.0,\"#0d0887\"],[0.1111111111111111,\"#46039f\"],[0.2222222222222222,\"#7201a8\"],[0.3333333333333333,\"#9c179e\"],[0.4444444444444444,\"#bd3786\"],[0.5555555555555556,\"#d8576b\"],[0.6666666666666666,\"#ed7953\"],[0.7777777777777778,\"#fb9f3a\"],[0.8888888888888888,\"#fdca26\"],[1.0,\"#f0f921\"]],\"type\":\"heatmap\"}],\"histogram2dcontour\":[{\"colorbar\":{\"outlinewidth\":0,\"ticks\":\"\"},\"colorscale\":[[0.0,\"#0d0887\"],[0.1111111111111111,\"#46039f\"],[0.2222222222222222,\"#7201a8\"],[0.3333333333333333,\"#9c179e\"],[0.4444444444444444,\"#bd3786\"],[0.5555555555555556,\"#d8576b\"],[0.6666666666666666,\"#ed7953\"],[0.7777777777777778,\"#fb9f3a\"],[0.8888888888888888,\"#fdca26\"],[1.0,\"#f0f921\"]],\"type\":\"histogram2dcontour\"}],\"histogram2d\":[{\"colorbar\":{\"outlinewidth\":0,\"ticks\":\"\"},\"colorscale\":[[0.0,\"#0d0887\"],[0.1111111111111111,\"#46039f\"],[0.2222222222222222,\"#7201a8\"],[0.3333333333333333,\"#9c179e\"],[0.4444444444444444,\"#bd3786\"],[0.5555555555555556,\"#d8576b\"],[0.6666666666666666,\"#ed7953\"],[0.7777777777777778,\"#fb9f3a\"],[0.8888888888888888,\"#fdca26\"],[1.0,\"#f0f921\"]],\"type\":\"histogram2d\"}],\"histogram\":[{\"marker\":{\"pattern\":{\"fillmode\":\"overlay\",\"size\":10,\"solidity\":0.2}},\"type\":\"histogram\"}],\"mesh3d\":[{\"colorbar\":{\"outlinewidth\":0,\"ticks\":\"\"},\"type\":\"mesh3d\"}],\"parcoords\":[{\"line\":{\"colorbar\":{\"outlinewidth\":0,\"ticks\":\"\"}},\"type\":\"parcoords\"}],\"pie\":[{\"automargin\":true,\"type\":\"pie\"}],\"scatter3d\":[{\"line\":{\"colorbar\":{\"outlinewidth\":0,\"ticks\":\"\"}},\"marker\":{\"colorbar\":{\"outlinewidth\":0,\"ticks\":\"\"}},\"type\":\"scatter3d\"}],\"scattercarpet\":[{\"marker\":{\"colorbar\":{\"outlinewidth\":0,\"ticks\":\"\"}},\"type\":\"scattercarpet\"}],\"scattergeo\":[{\"marker\":{\"colorbar\":{\"outlinewidth\":0,\"ticks\":\"\"}},\"type\":\"scattergeo\"}],\"scattergl\":[{\"marker\":{\"colorbar\":{\"outlinewidth\":0,\"ticks\":\"\"}},\"type\":\"scattergl\"}],\"scattermapbox\":[{\"marker\":{\"colorbar\":{\"outlinewidth\":0,\"ticks\":\"\"}},\"type\":\"scattermapbox\"}],\"scattermap\":[{\"marker\":{\"colorbar\":{\"outlinewidth\":0,\"ticks\":\"\"}},\"type\":\"scattermap\"}],\"scatterpolargl\":[{\"marker\":{\"colorbar\":{\"outlinewidth\":0,\"ticks\":\"\"}},\"type\":\"scatterpolargl\"}],\"scatterpolar\":[{\"marker\":{\"colorbar\":{\"outlinewidth\":0,\"ticks\":\"\"}},\"type\":\"scatterpolar\"}],\"scatter\":[{\"fillpattern\":{\"fillmode\":\"overlay\",\"size\":10,\"solidity\":0.2},\"type\":\"scatter\"}],\"scatterternary\":[{\"marker\":{\"colorbar\":{\"outlinewidth\":0,\"ticks\":\"\"}},\"type\":\"scatterternary\"}],\"surface\":[{\"colorbar\":{\"outlinewidth\":0,\"ticks\":\"\"},\"colorscale\":[[0.0,\"#0d0887\"],[0.1111111111111111,\"#46039f\"],[0.2222222222222222,\"#7201a8\"],[0.3333333333333333,\"#9c179e\"],[0.4444444444444444,\"#bd3786\"],[0.5555555555555556,\"#d8576b\"],[0.6666666666666666,\"#ed7953\"],[0.7777777777777778,\"#fb9f3a\"],[0.8888888888888888,\"#fdca26\"],[1.0,\"#f0f921\"]],\"type\":\"surface\"}],\"table\":[{\"cells\":{\"fill\":{\"color\":\"#EBF0F8\"},\"line\":{\"color\":\"white\"}},\"header\":{\"fill\":{\"color\":\"#C8D4E3\"},\"line\":{\"color\":\"white\"}},\"type\":\"table\"}]},\"layout\":{\"annotationdefaults\":{\"arrowcolor\":\"#2a3f5f\",\"arrowhead\":0,\"arrowwidth\":1},\"autotypenumbers\":\"strict\",\"coloraxis\":{\"colorbar\":{\"outlinewidth\":0,\"ticks\":\"\"}},\"colorscale\":{\"diverging\":[[0,\"#8e0152\"],[0.1,\"#c51b7d\"],[0.2,\"#de77ae\"],[0.3,\"#f1b6da\"],[0.4,\"#fde0ef\"],[0.5,\"#f7f7f7\"],[0.6,\"#e6f5d0\"],[0.7,\"#b8e186\"],[0.8,\"#7fbc41\"],[0.9,\"#4d9221\"],[1,\"#276419\"]],\"sequential\":[[0.0,\"#0d0887\"],[0.1111111111111111,\"#46039f\"],[0.2222222222222222,\"#7201a8\"],[0.3333333333333333,\"#9c179e\"],[0.4444444444444444,\"#bd3786\"],[0.5555555555555556,\"#d8576b\"],[0.6666666666666666,\"#ed7953\"],[0.7777777777777778,\"#fb9f3a\"],[0.8888888888888888,\"#fdca26\"],[1.0,\"#f0f921\"]],\"sequentialminus\":[[0.0,\"#0d0887\"],[0.1111111111111111,\"#46039f\"],[0.2222222222222222,\"#7201a8\"],[0.3333333333333333,\"#9c179e\"],[0.4444444444444444,\"#bd3786\"],[0.5555555555555556,\"#d8576b\"],[0.6666666666666666,\"#ed7953\"],[0.7777777777777778,\"#fb9f3a\"],[0.8888888888888888,\"#fdca26\"],[1.0,\"#f0f921\"]]},\"colorway\":[\"#636efa\",\"#EF553B\",\"#00cc96\",\"#ab63fa\",\"#FFA15A\",\"#19d3f3\",\"#FF6692\",\"#B6E880\",\"#FF97FF\",\"#FECB52\"],\"font\":{\"color\":\"#2a3f5f\"},\"geo\":{\"bgcolor\":\"white\",\"lakecolor\":\"white\",\"landcolor\":\"white\",\"showlakes\":true,\"showland\":true,\"subunitcolor\":\"#C8D4E3\"},\"hoverlabel\":{\"align\":\"left\"},\"hovermode\":\"closest\",\"mapbox\":{\"style\":\"light\"},\"paper_bgcolor\":\"white\",\"plot_bgcolor\":\"white\",\"polar\":{\"angularaxis\":{\"gridcolor\":\"#EBF0F8\",\"linecolor\":\"#EBF0F8\",\"ticks\":\"\"},\"bgcolor\":\"white\",\"radialaxis\":{\"gridcolor\":\"#EBF0F8\",\"linecolor\":\"#EBF0F8\",\"ticks\":\"\"}},\"scene\":{\"xaxis\":{\"backgroundcolor\":\"white\",\"gridcolor\":\"#DFE8F3\",\"gridwidth\":2,\"linecolor\":\"#EBF0F8\",\"showbackground\":true,\"ticks\":\"\",\"zerolinecolor\":\"#EBF0F8\"},\"yaxis\":{\"backgroundcolor\":\"white\",\"gridcolor\":\"#DFE8F3\",\"gridwidth\":2,\"linecolor\":\"#EBF0F8\",\"showbackground\":true,\"ticks\":\"\",\"zerolinecolor\":\"#EBF0F8\"},\"zaxis\":{\"backgroundcolor\":\"white\",\"gridcolor\":\"#DFE8F3\",\"gridwidth\":2,\"linecolor\":\"#EBF0F8\",\"showbackground\":true,\"ticks\":\"\",\"zerolinecolor\":\"#EBF0F8\"}},\"shapedefaults\":{\"line\":{\"color\":\"#2a3f5f\"}},\"ternary\":{\"aaxis\":{\"gridcolor\":\"#DFE8F3\",\"linecolor\":\"#A2B1C6\",\"ticks\":\"\"},\"baxis\":{\"gridcolor\":\"#DFE8F3\",\"linecolor\":\"#A2B1C6\",\"ticks\":\"\"},\"bgcolor\":\"white\",\"caxis\":{\"gridcolor\":\"#DFE8F3\",\"linecolor\":\"#A2B1C6\",\"ticks\":\"\"}},\"title\":{\"x\":0.05},\"xaxis\":{\"automargin\":true,\"gridcolor\":\"#EBF0F8\",\"linecolor\":\"#EBF0F8\",\"ticks\":\"\",\"title\":{\"standoff\":15},\"zerolinecolor\":\"#EBF0F8\",\"zerolinewidth\":2},\"yaxis\":{\"automargin\":true,\"gridcolor\":\"#EBF0F8\",\"linecolor\":\"#EBF0F8\",\"ticks\":\"\",\"title\":{\"standoff\":15},\"zerolinecolor\":\"#EBF0F8\",\"zerolinewidth\":2}}},\"xaxis\":{\"anchor\":\"y\",\"domain\":[0.0,1.0],\"title\":{\"text\":\"A\\u00f1o\"}},\"yaxis\":{\"anchor\":\"x\",\"domain\":[0.0,1.0],\"title\":{\"text\":\"Cantidad de canciones\"}},\"legend\":{\"tracegroupgap\":0},\"title\":{\"text\":\"Evoluci\\u00f3n de canciones por a\\u00f1o\"}},                        {\"responsive\": true}                    ).then(function(){\n                            \nvar gd = document.getElementById('0aa05726-3081-4d1a-bb34-1f100af594d7');\nvar x = new MutationObserver(function (mutations, observer) {{\n        var display = window.getComputedStyle(gd).display;\n        if (!display || display === 'none') {{\n            console.log([gd, 'removed!']);\n            Plotly.purge(gd);\n            observer.disconnect();\n        }}\n}});\n\n// Listen for the removal of the full notebook cells\nvar notebookContainer = gd.closest('#notebook-container');\nif (notebookContainer) {{\n    x.observe(notebookContainer, {childList: true});\n}}\n\n// Listen for the clearing of the current output cell\nvar outputEl = gd.closest('.output');\nif (outputEl) {{\n    x.observe(outputEl, {childList: true});\n}}\n\n                        })                };            </script>        </div>\n</body>\n</html>"
                    },
                    "metadata": {},
                    "output_type": "display_data"
                }
            ],
            "outputs_reference": "s3:deepnote-cell-outputs-production/3dd35943-5ef6-4297-a0f2-a3c4416f1e0e",
            "content_dependencies": {
                "usedVariables": [
                    "fig",
                    "px",
                    "songs_per_year"
                ],
                "importedModules": [],
                "definedVariables": [
                    "fig"
                ]
            }
        },
        {
            "cell_type": "markdown",
            "metadata": {
                "formattedRanges": [],
                "cell_id": "7f673110464d4fb2b7e9d13e505f0b0c",
                "deepnote_cell_type": "text-cell-p"
            },
            "source": "Hay una media de 343 canciones por año, se evidencia una mayor cantidad de canciones en streaming a medida que pasa el tiempo. Nota: la cantidad en el 2025 se debe a que solo se incluye hasta septiembre",
            "block_group": "69a2aa6ef75943d7baac309c81835c49"
        },
        {
            "cell_type": "code",
            "metadata": {
                "source_hash": "81c5c5c9",
                "execution_start": 1759170122984,
                "execution_millis": 31,
                "execution_context_id": "4ef6d4f7-8ec5-446f-b603-2dfdf389b9e1",
                "deepnote_app_block_order": 7,
                "deepnote_app_block_visible": true,
                "deepnote_app_block_group_id": null,
                "deepnote_app_is_code_hidden": false,
                "deepnote_app_is_output_hidden": false,
                "cell_id": "d3f5d8fc37d7476ca5d7164fc9e38807",
                "deepnote_cell_type": "code"
            },
            "source": "# canciones únicas\nunique_songs = df[\"Song\"].nunique()\n\n#  card \nfig = go.Figure(go.Indicator(\n    mode=\"number\",\n    value=unique_songs,\n    title={\"text\": \" Canciones únicas en streaming\"},\n    number={\"valueformat\": \",\"}\n))\n\nfig.update_layout(\n    height=200,\n    margin=dict(t=30, b=0, l=0, r=0),\n    template=\"plotly_white\"\n)\n\nfig.show()\n\n",
            "block_group": "57c882b98c3e4a208b99419e9b3c86be",
            "execution_count": 9,
            "outputs": [
                {
                    "data": {
                        "text/html": "<html>\n<head><meta charset=\"utf-8\" /></head>\n<body>\n    <div>            <script src=\"https://cdnjs.cloudflare.com/ajax/libs/mathjax/2.7.5/MathJax.js?config=TeX-AMS-MML_SVG\"></script><script type=\"text/javascript\">if (window.MathJax && window.MathJax.Hub && window.MathJax.Hub.Config) {window.MathJax.Hub.Config({SVG: {font: \"STIX-Web\"}});}</script>                <script type=\"text/javascript\">window.PlotlyConfig = {MathJaxConfig: 'local'};</script>\n        <script charset=\"utf-8\" src=\"https://cdn.plot.ly/plotly-3.1.0.min.js\" integrity=\"sha256-Ei4740bWZhaUTQuD6q9yQlgVCMPBz6CZWhevDYPv93A=\" crossorigin=\"anonymous\"></script>                <div id=\"38770919-9917-4a84-8c4e-182868ba4195\" class=\"plotly-graph-div\" style=\"height:200px; width:100%;\"></div>            <script type=\"text/javascript\">                window.PLOTLYENV=window.PLOTLYENV || {};                                if (document.getElementById(\"38770919-9917-4a84-8c4e-182868ba4195\")) {                    Plotly.newPlot(                        \"38770919-9917-4a84-8c4e-182868ba4195\",                        [{\"mode\":\"number\",\"number\":{\"valueformat\":\",\"},\"title\":{\"text\":\" Canciones \\u00fanicas en streaming\"},\"value\":3626,\"type\":\"indicator\"}],                        {\"template\":{\"data\":{\"barpolar\":[{\"marker\":{\"line\":{\"color\":\"white\",\"width\":0.5},\"pattern\":{\"fillmode\":\"overlay\",\"size\":10,\"solidity\":0.2}},\"type\":\"barpolar\"}],\"bar\":[{\"error_x\":{\"color\":\"#2a3f5f\"},\"error_y\":{\"color\":\"#2a3f5f\"},\"marker\":{\"line\":{\"color\":\"white\",\"width\":0.5},\"pattern\":{\"fillmode\":\"overlay\",\"size\":10,\"solidity\":0.2}},\"type\":\"bar\"}],\"carpet\":[{\"aaxis\":{\"endlinecolor\":\"#2a3f5f\",\"gridcolor\":\"#C8D4E3\",\"linecolor\":\"#C8D4E3\",\"minorgridcolor\":\"#C8D4E3\",\"startlinecolor\":\"#2a3f5f\"},\"baxis\":{\"endlinecolor\":\"#2a3f5f\",\"gridcolor\":\"#C8D4E3\",\"linecolor\":\"#C8D4E3\",\"minorgridcolor\":\"#C8D4E3\",\"startlinecolor\":\"#2a3f5f\"},\"type\":\"carpet\"}],\"choropleth\":[{\"colorbar\":{\"outlinewidth\":0,\"ticks\":\"\"},\"type\":\"choropleth\"}],\"contourcarpet\":[{\"colorbar\":{\"outlinewidth\":0,\"ticks\":\"\"},\"type\":\"contourcarpet\"}],\"contour\":[{\"colorbar\":{\"outlinewidth\":0,\"ticks\":\"\"},\"colorscale\":[[0.0,\"#0d0887\"],[0.1111111111111111,\"#46039f\"],[0.2222222222222222,\"#7201a8\"],[0.3333333333333333,\"#9c179e\"],[0.4444444444444444,\"#bd3786\"],[0.5555555555555556,\"#d8576b\"],[0.6666666666666666,\"#ed7953\"],[0.7777777777777778,\"#fb9f3a\"],[0.8888888888888888,\"#fdca26\"],[1.0,\"#f0f921\"]],\"type\":\"contour\"}],\"heatmap\":[{\"colorbar\":{\"outlinewidth\":0,\"ticks\":\"\"},\"colorscale\":[[0.0,\"#0d0887\"],[0.1111111111111111,\"#46039f\"],[0.2222222222222222,\"#7201a8\"],[0.3333333333333333,\"#9c179e\"],[0.4444444444444444,\"#bd3786\"],[0.5555555555555556,\"#d8576b\"],[0.6666666666666666,\"#ed7953\"],[0.7777777777777778,\"#fb9f3a\"],[0.8888888888888888,\"#fdca26\"],[1.0,\"#f0f921\"]],\"type\":\"heatmap\"}],\"histogram2dcontour\":[{\"colorbar\":{\"outlinewidth\":0,\"ticks\":\"\"},\"colorscale\":[[0.0,\"#0d0887\"],[0.1111111111111111,\"#46039f\"],[0.2222222222222222,\"#7201a8\"],[0.3333333333333333,\"#9c179e\"],[0.4444444444444444,\"#bd3786\"],[0.5555555555555556,\"#d8576b\"],[0.6666666666666666,\"#ed7953\"],[0.7777777777777778,\"#fb9f3a\"],[0.8888888888888888,\"#fdca26\"],[1.0,\"#f0f921\"]],\"type\":\"histogram2dcontour\"}],\"histogram2d\":[{\"colorbar\":{\"outlinewidth\":0,\"ticks\":\"\"},\"colorscale\":[[0.0,\"#0d0887\"],[0.1111111111111111,\"#46039f\"],[0.2222222222222222,\"#7201a8\"],[0.3333333333333333,\"#9c179e\"],[0.4444444444444444,\"#bd3786\"],[0.5555555555555556,\"#d8576b\"],[0.6666666666666666,\"#ed7953\"],[0.7777777777777778,\"#fb9f3a\"],[0.8888888888888888,\"#fdca26\"],[1.0,\"#f0f921\"]],\"type\":\"histogram2d\"}],\"histogram\":[{\"marker\":{\"pattern\":{\"fillmode\":\"overlay\",\"size\":10,\"solidity\":0.2}},\"type\":\"histogram\"}],\"mesh3d\":[{\"colorbar\":{\"outlinewidth\":0,\"ticks\":\"\"},\"type\":\"mesh3d\"}],\"parcoords\":[{\"line\":{\"colorbar\":{\"outlinewidth\":0,\"ticks\":\"\"}},\"type\":\"parcoords\"}],\"pie\":[{\"automargin\":true,\"type\":\"pie\"}],\"scatter3d\":[{\"line\":{\"colorbar\":{\"outlinewidth\":0,\"ticks\":\"\"}},\"marker\":{\"colorbar\":{\"outlinewidth\":0,\"ticks\":\"\"}},\"type\":\"scatter3d\"}],\"scattercarpet\":[{\"marker\":{\"colorbar\":{\"outlinewidth\":0,\"ticks\":\"\"}},\"type\":\"scattercarpet\"}],\"scattergeo\":[{\"marker\":{\"colorbar\":{\"outlinewidth\":0,\"ticks\":\"\"}},\"type\":\"scattergeo\"}],\"scattergl\":[{\"marker\":{\"colorbar\":{\"outlinewidth\":0,\"ticks\":\"\"}},\"type\":\"scattergl\"}],\"scattermapbox\":[{\"marker\":{\"colorbar\":{\"outlinewidth\":0,\"ticks\":\"\"}},\"type\":\"scattermapbox\"}],\"scattermap\":[{\"marker\":{\"colorbar\":{\"outlinewidth\":0,\"ticks\":\"\"}},\"type\":\"scattermap\"}],\"scatterpolargl\":[{\"marker\":{\"colorbar\":{\"outlinewidth\":0,\"ticks\":\"\"}},\"type\":\"scatterpolargl\"}],\"scatterpolar\":[{\"marker\":{\"colorbar\":{\"outlinewidth\":0,\"ticks\":\"\"}},\"type\":\"scatterpolar\"}],\"scatter\":[{\"fillpattern\":{\"fillmode\":\"overlay\",\"size\":10,\"solidity\":0.2},\"type\":\"scatter\"}],\"scatterternary\":[{\"marker\":{\"colorbar\":{\"outlinewidth\":0,\"ticks\":\"\"}},\"type\":\"scatterternary\"}],\"surface\":[{\"colorbar\":{\"outlinewidth\":0,\"ticks\":\"\"},\"colorscale\":[[0.0,\"#0d0887\"],[0.1111111111111111,\"#46039f\"],[0.2222222222222222,\"#7201a8\"],[0.3333333333333333,\"#9c179e\"],[0.4444444444444444,\"#bd3786\"],[0.5555555555555556,\"#d8576b\"],[0.6666666666666666,\"#ed7953\"],[0.7777777777777778,\"#fb9f3a\"],[0.8888888888888888,\"#fdca26\"],[1.0,\"#f0f921\"]],\"type\":\"surface\"}],\"table\":[{\"cells\":{\"fill\":{\"color\":\"#EBF0F8\"},\"line\":{\"color\":\"white\"}},\"header\":{\"fill\":{\"color\":\"#C8D4E3\"},\"line\":{\"color\":\"white\"}},\"type\":\"table\"}]},\"layout\":{\"annotationdefaults\":{\"arrowcolor\":\"#2a3f5f\",\"arrowhead\":0,\"arrowwidth\":1},\"autotypenumbers\":\"strict\",\"coloraxis\":{\"colorbar\":{\"outlinewidth\":0,\"ticks\":\"\"}},\"colorscale\":{\"diverging\":[[0,\"#8e0152\"],[0.1,\"#c51b7d\"],[0.2,\"#de77ae\"],[0.3,\"#f1b6da\"],[0.4,\"#fde0ef\"],[0.5,\"#f7f7f7\"],[0.6,\"#e6f5d0\"],[0.7,\"#b8e186\"],[0.8,\"#7fbc41\"],[0.9,\"#4d9221\"],[1,\"#276419\"]],\"sequential\":[[0.0,\"#0d0887\"],[0.1111111111111111,\"#46039f\"],[0.2222222222222222,\"#7201a8\"],[0.3333333333333333,\"#9c179e\"],[0.4444444444444444,\"#bd3786\"],[0.5555555555555556,\"#d8576b\"],[0.6666666666666666,\"#ed7953\"],[0.7777777777777778,\"#fb9f3a\"],[0.8888888888888888,\"#fdca26\"],[1.0,\"#f0f921\"]],\"sequentialminus\":[[0.0,\"#0d0887\"],[0.1111111111111111,\"#46039f\"],[0.2222222222222222,\"#7201a8\"],[0.3333333333333333,\"#9c179e\"],[0.4444444444444444,\"#bd3786\"],[0.5555555555555556,\"#d8576b\"],[0.6666666666666666,\"#ed7953\"],[0.7777777777777778,\"#fb9f3a\"],[0.8888888888888888,\"#fdca26\"],[1.0,\"#f0f921\"]]},\"colorway\":[\"#636efa\",\"#EF553B\",\"#00cc96\",\"#ab63fa\",\"#FFA15A\",\"#19d3f3\",\"#FF6692\",\"#B6E880\",\"#FF97FF\",\"#FECB52\"],\"font\":{\"color\":\"#2a3f5f\"},\"geo\":{\"bgcolor\":\"white\",\"lakecolor\":\"white\",\"landcolor\":\"white\",\"showlakes\":true,\"showland\":true,\"subunitcolor\":\"#C8D4E3\"},\"hoverlabel\":{\"align\":\"left\"},\"hovermode\":\"closest\",\"mapbox\":{\"style\":\"light\"},\"paper_bgcolor\":\"white\",\"plot_bgcolor\":\"white\",\"polar\":{\"angularaxis\":{\"gridcolor\":\"#EBF0F8\",\"linecolor\":\"#EBF0F8\",\"ticks\":\"\"},\"bgcolor\":\"white\",\"radialaxis\":{\"gridcolor\":\"#EBF0F8\",\"linecolor\":\"#EBF0F8\",\"ticks\":\"\"}},\"scene\":{\"xaxis\":{\"backgroundcolor\":\"white\",\"gridcolor\":\"#DFE8F3\",\"gridwidth\":2,\"linecolor\":\"#EBF0F8\",\"showbackground\":true,\"ticks\":\"\",\"zerolinecolor\":\"#EBF0F8\"},\"yaxis\":{\"backgroundcolor\":\"white\",\"gridcolor\":\"#DFE8F3\",\"gridwidth\":2,\"linecolor\":\"#EBF0F8\",\"showbackground\":true,\"ticks\":\"\",\"zerolinecolor\":\"#EBF0F8\"},\"zaxis\":{\"backgroundcolor\":\"white\",\"gridcolor\":\"#DFE8F3\",\"gridwidth\":2,\"linecolor\":\"#EBF0F8\",\"showbackground\":true,\"ticks\":\"\",\"zerolinecolor\":\"#EBF0F8\"}},\"shapedefaults\":{\"line\":{\"color\":\"#2a3f5f\"}},\"ternary\":{\"aaxis\":{\"gridcolor\":\"#DFE8F3\",\"linecolor\":\"#A2B1C6\",\"ticks\":\"\"},\"baxis\":{\"gridcolor\":\"#DFE8F3\",\"linecolor\":\"#A2B1C6\",\"ticks\":\"\"},\"bgcolor\":\"white\",\"caxis\":{\"gridcolor\":\"#DFE8F3\",\"linecolor\":\"#A2B1C6\",\"ticks\":\"\"}},\"title\":{\"x\":0.05},\"xaxis\":{\"automargin\":true,\"gridcolor\":\"#EBF0F8\",\"linecolor\":\"#EBF0F8\",\"ticks\":\"\",\"title\":{\"standoff\":15},\"zerolinecolor\":\"#EBF0F8\",\"zerolinewidth\":2},\"yaxis\":{\"automargin\":true,\"gridcolor\":\"#EBF0F8\",\"linecolor\":\"#EBF0F8\",\"ticks\":\"\",\"title\":{\"standoff\":15},\"zerolinecolor\":\"#EBF0F8\",\"zerolinewidth\":2}}},\"margin\":{\"t\":30,\"b\":0,\"l\":0,\"r\":0},\"height\":200},                        {\"responsive\": true}                    ).then(function(){\n                            \nvar gd = document.getElementById('38770919-9917-4a84-8c4e-182868ba4195');\nvar x = new MutationObserver(function (mutations, observer) {{\n        var display = window.getComputedStyle(gd).display;\n        if (!display || display === 'none') {{\n            console.log([gd, 'removed!']);\n            Plotly.purge(gd);\n            observer.disconnect();\n        }}\n}});\n\n// Listen for the removal of the full notebook cells\nvar notebookContainer = gd.closest('#notebook-container');\nif (notebookContainer) {{\n    x.observe(notebookContainer, {childList: true});\n}}\n\n// Listen for the clearing of the current output cell\nvar outputEl = gd.closest('.output');\nif (outputEl) {{\n    x.observe(outputEl, {childList: true});\n}}\n\n                        })                };            </script>        </div>\n</body>\n</html>"
                    },
                    "metadata": {},
                    "output_type": "display_data"
                }
            ],
            "outputs_reference": "s3:deepnote-cell-outputs-production/adb8303d-50a0-41ef-8659-a50575df29d6",
            "content_dependencies": {
                "usedVariables": [
                    "df",
                    "fig",
                    "go",
                    "unique_songs"
                ],
                "importedModules": [],
                "definedVariables": [
                    "fig",
                    "unique_songs"
                ]
            }
        },
        {
            "cell_type": "code",
            "metadata": {
                "source_hash": "cddcbac6",
                "execution_start": 1759170123075,
                "execution_millis": 19,
                "execution_context_id": "4ef6d4f7-8ec5-446f-b603-2dfdf389b9e1",
                "deepnote_app_block_order": 8,
                "deepnote_app_block_visible": true,
                "deepnote_app_block_group_id": null,
                "deepnote_app_is_code_hidden": false,
                "deepnote_app_is_output_hidden": false,
                "cell_id": "ecbdc9e837b747a3b182fdf128e638c1",
                "deepnote_cell_type": "code"
            },
            "source": "\n#  artistas únicos\nunique_artists = df[\"Artist\"].nunique()\n\n#  card \nfig = go.Figure(go.Indicator(\n    mode=\"number\",\n    value=unique_artists,\n    title={\"text\": \" Artistas únicos\"},\n    number={\"valueformat\": \",\"}\n))\n\nfig.update_layout(\n    height=200,\n    margin=dict(t=30, b=0, l=0, r=0),\n    template=\"plotly_white\"\n)\n\nfig.show()\n\n",
            "block_group": "6e2aeef49dc54afe8044af93d5f13b79",
            "execution_count": 10,
            "outputs": [
                {
                    "data": {
                        "text/html": "<html>\n<head><meta charset=\"utf-8\" /></head>\n<body>\n    <div>            <script src=\"https://cdnjs.cloudflare.com/ajax/libs/mathjax/2.7.5/MathJax.js?config=TeX-AMS-MML_SVG\"></script><script type=\"text/javascript\">if (window.MathJax && window.MathJax.Hub && window.MathJax.Hub.Config) {window.MathJax.Hub.Config({SVG: {font: \"STIX-Web\"}});}</script>                <script type=\"text/javascript\">window.PlotlyConfig = {MathJaxConfig: 'local'};</script>\n        <script charset=\"utf-8\" src=\"https://cdn.plot.ly/plotly-3.1.0.min.js\" integrity=\"sha256-Ei4740bWZhaUTQuD6q9yQlgVCMPBz6CZWhevDYPv93A=\" crossorigin=\"anonymous\"></script>                <div id=\"1f3bc96f-e0a4-43ef-88c1-8967a6215802\" class=\"plotly-graph-div\" style=\"height:200px; width:100%;\"></div>            <script type=\"text/javascript\">                window.PLOTLYENV=window.PLOTLYENV || {};                                if (document.getElementById(\"1f3bc96f-e0a4-43ef-88c1-8967a6215802\")) {                    Plotly.newPlot(                        \"1f3bc96f-e0a4-43ef-88c1-8967a6215802\",                        [{\"mode\":\"number\",\"number\":{\"valueformat\":\",\"},\"title\":{\"text\":\" Artistas \\u00fanicos\"},\"value\":1792,\"type\":\"indicator\"}],                        {\"template\":{\"data\":{\"barpolar\":[{\"marker\":{\"line\":{\"color\":\"white\",\"width\":0.5},\"pattern\":{\"fillmode\":\"overlay\",\"size\":10,\"solidity\":0.2}},\"type\":\"barpolar\"}],\"bar\":[{\"error_x\":{\"color\":\"#2a3f5f\"},\"error_y\":{\"color\":\"#2a3f5f\"},\"marker\":{\"line\":{\"color\":\"white\",\"width\":0.5},\"pattern\":{\"fillmode\":\"overlay\",\"size\":10,\"solidity\":0.2}},\"type\":\"bar\"}],\"carpet\":[{\"aaxis\":{\"endlinecolor\":\"#2a3f5f\",\"gridcolor\":\"#C8D4E3\",\"linecolor\":\"#C8D4E3\",\"minorgridcolor\":\"#C8D4E3\",\"startlinecolor\":\"#2a3f5f\"},\"baxis\":{\"endlinecolor\":\"#2a3f5f\",\"gridcolor\":\"#C8D4E3\",\"linecolor\":\"#C8D4E3\",\"minorgridcolor\":\"#C8D4E3\",\"startlinecolor\":\"#2a3f5f\"},\"type\":\"carpet\"}],\"choropleth\":[{\"colorbar\":{\"outlinewidth\":0,\"ticks\":\"\"},\"type\":\"choropleth\"}],\"contourcarpet\":[{\"colorbar\":{\"outlinewidth\":0,\"ticks\":\"\"},\"type\":\"contourcarpet\"}],\"contour\":[{\"colorbar\":{\"outlinewidth\":0,\"ticks\":\"\"},\"colorscale\":[[0.0,\"#0d0887\"],[0.1111111111111111,\"#46039f\"],[0.2222222222222222,\"#7201a8\"],[0.3333333333333333,\"#9c179e\"],[0.4444444444444444,\"#bd3786\"],[0.5555555555555556,\"#d8576b\"],[0.6666666666666666,\"#ed7953\"],[0.7777777777777778,\"#fb9f3a\"],[0.8888888888888888,\"#fdca26\"],[1.0,\"#f0f921\"]],\"type\":\"contour\"}],\"heatmap\":[{\"colorbar\":{\"outlinewidth\":0,\"ticks\":\"\"},\"colorscale\":[[0.0,\"#0d0887\"],[0.1111111111111111,\"#46039f\"],[0.2222222222222222,\"#7201a8\"],[0.3333333333333333,\"#9c179e\"],[0.4444444444444444,\"#bd3786\"],[0.5555555555555556,\"#d8576b\"],[0.6666666666666666,\"#ed7953\"],[0.7777777777777778,\"#fb9f3a\"],[0.8888888888888888,\"#fdca26\"],[1.0,\"#f0f921\"]],\"type\":\"heatmap\"}],\"histogram2dcontour\":[{\"colorbar\":{\"outlinewidth\":0,\"ticks\":\"\"},\"colorscale\":[[0.0,\"#0d0887\"],[0.1111111111111111,\"#46039f\"],[0.2222222222222222,\"#7201a8\"],[0.3333333333333333,\"#9c179e\"],[0.4444444444444444,\"#bd3786\"],[0.5555555555555556,\"#d8576b\"],[0.6666666666666666,\"#ed7953\"],[0.7777777777777778,\"#fb9f3a\"],[0.8888888888888888,\"#fdca26\"],[1.0,\"#f0f921\"]],\"type\":\"histogram2dcontour\"}],\"histogram2d\":[{\"colorbar\":{\"outlinewidth\":0,\"ticks\":\"\"},\"colorscale\":[[0.0,\"#0d0887\"],[0.1111111111111111,\"#46039f\"],[0.2222222222222222,\"#7201a8\"],[0.3333333333333333,\"#9c179e\"],[0.4444444444444444,\"#bd3786\"],[0.5555555555555556,\"#d8576b\"],[0.6666666666666666,\"#ed7953\"],[0.7777777777777778,\"#fb9f3a\"],[0.8888888888888888,\"#fdca26\"],[1.0,\"#f0f921\"]],\"type\":\"histogram2d\"}],\"histogram\":[{\"marker\":{\"pattern\":{\"fillmode\":\"overlay\",\"size\":10,\"solidity\":0.2}},\"type\":\"histogram\"}],\"mesh3d\":[{\"colorbar\":{\"outlinewidth\":0,\"ticks\":\"\"},\"type\":\"mesh3d\"}],\"parcoords\":[{\"line\":{\"colorbar\":{\"outlinewidth\":0,\"ticks\":\"\"}},\"type\":\"parcoords\"}],\"pie\":[{\"automargin\":true,\"type\":\"pie\"}],\"scatter3d\":[{\"line\":{\"colorbar\":{\"outlinewidth\":0,\"ticks\":\"\"}},\"marker\":{\"colorbar\":{\"outlinewidth\":0,\"ticks\":\"\"}},\"type\":\"scatter3d\"}],\"scattercarpet\":[{\"marker\":{\"colorbar\":{\"outlinewidth\":0,\"ticks\":\"\"}},\"type\":\"scattercarpet\"}],\"scattergeo\":[{\"marker\":{\"colorbar\":{\"outlinewidth\":0,\"ticks\":\"\"}},\"type\":\"scattergeo\"}],\"scattergl\":[{\"marker\":{\"colorbar\":{\"outlinewidth\":0,\"ticks\":\"\"}},\"type\":\"scattergl\"}],\"scattermapbox\":[{\"marker\":{\"colorbar\":{\"outlinewidth\":0,\"ticks\":\"\"}},\"type\":\"scattermapbox\"}],\"scattermap\":[{\"marker\":{\"colorbar\":{\"outlinewidth\":0,\"ticks\":\"\"}},\"type\":\"scattermap\"}],\"scatterpolargl\":[{\"marker\":{\"colorbar\":{\"outlinewidth\":0,\"ticks\":\"\"}},\"type\":\"scatterpolargl\"}],\"scatterpolar\":[{\"marker\":{\"colorbar\":{\"outlinewidth\":0,\"ticks\":\"\"}},\"type\":\"scatterpolar\"}],\"scatter\":[{\"fillpattern\":{\"fillmode\":\"overlay\",\"size\":10,\"solidity\":0.2},\"type\":\"scatter\"}],\"scatterternary\":[{\"marker\":{\"colorbar\":{\"outlinewidth\":0,\"ticks\":\"\"}},\"type\":\"scatterternary\"}],\"surface\":[{\"colorbar\":{\"outlinewidth\":0,\"ticks\":\"\"},\"colorscale\":[[0.0,\"#0d0887\"],[0.1111111111111111,\"#46039f\"],[0.2222222222222222,\"#7201a8\"],[0.3333333333333333,\"#9c179e\"],[0.4444444444444444,\"#bd3786\"],[0.5555555555555556,\"#d8576b\"],[0.6666666666666666,\"#ed7953\"],[0.7777777777777778,\"#fb9f3a\"],[0.8888888888888888,\"#fdca26\"],[1.0,\"#f0f921\"]],\"type\":\"surface\"}],\"table\":[{\"cells\":{\"fill\":{\"color\":\"#EBF0F8\"},\"line\":{\"color\":\"white\"}},\"header\":{\"fill\":{\"color\":\"#C8D4E3\"},\"line\":{\"color\":\"white\"}},\"type\":\"table\"}]},\"layout\":{\"annotationdefaults\":{\"arrowcolor\":\"#2a3f5f\",\"arrowhead\":0,\"arrowwidth\":1},\"autotypenumbers\":\"strict\",\"coloraxis\":{\"colorbar\":{\"outlinewidth\":0,\"ticks\":\"\"}},\"colorscale\":{\"diverging\":[[0,\"#8e0152\"],[0.1,\"#c51b7d\"],[0.2,\"#de77ae\"],[0.3,\"#f1b6da\"],[0.4,\"#fde0ef\"],[0.5,\"#f7f7f7\"],[0.6,\"#e6f5d0\"],[0.7,\"#b8e186\"],[0.8,\"#7fbc41\"],[0.9,\"#4d9221\"],[1,\"#276419\"]],\"sequential\":[[0.0,\"#0d0887\"],[0.1111111111111111,\"#46039f\"],[0.2222222222222222,\"#7201a8\"],[0.3333333333333333,\"#9c179e\"],[0.4444444444444444,\"#bd3786\"],[0.5555555555555556,\"#d8576b\"],[0.6666666666666666,\"#ed7953\"],[0.7777777777777778,\"#fb9f3a\"],[0.8888888888888888,\"#fdca26\"],[1.0,\"#f0f921\"]],\"sequentialminus\":[[0.0,\"#0d0887\"],[0.1111111111111111,\"#46039f\"],[0.2222222222222222,\"#7201a8\"],[0.3333333333333333,\"#9c179e\"],[0.4444444444444444,\"#bd3786\"],[0.5555555555555556,\"#d8576b\"],[0.6666666666666666,\"#ed7953\"],[0.7777777777777778,\"#fb9f3a\"],[0.8888888888888888,\"#fdca26\"],[1.0,\"#f0f921\"]]},\"colorway\":[\"#636efa\",\"#EF553B\",\"#00cc96\",\"#ab63fa\",\"#FFA15A\",\"#19d3f3\",\"#FF6692\",\"#B6E880\",\"#FF97FF\",\"#FECB52\"],\"font\":{\"color\":\"#2a3f5f\"},\"geo\":{\"bgcolor\":\"white\",\"lakecolor\":\"white\",\"landcolor\":\"white\",\"showlakes\":true,\"showland\":true,\"subunitcolor\":\"#C8D4E3\"},\"hoverlabel\":{\"align\":\"left\"},\"hovermode\":\"closest\",\"mapbox\":{\"style\":\"light\"},\"paper_bgcolor\":\"white\",\"plot_bgcolor\":\"white\",\"polar\":{\"angularaxis\":{\"gridcolor\":\"#EBF0F8\",\"linecolor\":\"#EBF0F8\",\"ticks\":\"\"},\"bgcolor\":\"white\",\"radialaxis\":{\"gridcolor\":\"#EBF0F8\",\"linecolor\":\"#EBF0F8\",\"ticks\":\"\"}},\"scene\":{\"xaxis\":{\"backgroundcolor\":\"white\",\"gridcolor\":\"#DFE8F3\",\"gridwidth\":2,\"linecolor\":\"#EBF0F8\",\"showbackground\":true,\"ticks\":\"\",\"zerolinecolor\":\"#EBF0F8\"},\"yaxis\":{\"backgroundcolor\":\"white\",\"gridcolor\":\"#DFE8F3\",\"gridwidth\":2,\"linecolor\":\"#EBF0F8\",\"showbackground\":true,\"ticks\":\"\",\"zerolinecolor\":\"#EBF0F8\"},\"zaxis\":{\"backgroundcolor\":\"white\",\"gridcolor\":\"#DFE8F3\",\"gridwidth\":2,\"linecolor\":\"#EBF0F8\",\"showbackground\":true,\"ticks\":\"\",\"zerolinecolor\":\"#EBF0F8\"}},\"shapedefaults\":{\"line\":{\"color\":\"#2a3f5f\"}},\"ternary\":{\"aaxis\":{\"gridcolor\":\"#DFE8F3\",\"linecolor\":\"#A2B1C6\",\"ticks\":\"\"},\"baxis\":{\"gridcolor\":\"#DFE8F3\",\"linecolor\":\"#A2B1C6\",\"ticks\":\"\"},\"bgcolor\":\"white\",\"caxis\":{\"gridcolor\":\"#DFE8F3\",\"linecolor\":\"#A2B1C6\",\"ticks\":\"\"}},\"title\":{\"x\":0.05},\"xaxis\":{\"automargin\":true,\"gridcolor\":\"#EBF0F8\",\"linecolor\":\"#EBF0F8\",\"ticks\":\"\",\"title\":{\"standoff\":15},\"zerolinecolor\":\"#EBF0F8\",\"zerolinewidth\":2},\"yaxis\":{\"automargin\":true,\"gridcolor\":\"#EBF0F8\",\"linecolor\":\"#EBF0F8\",\"ticks\":\"\",\"title\":{\"standoff\":15},\"zerolinecolor\":\"#EBF0F8\",\"zerolinewidth\":2}}},\"margin\":{\"t\":30,\"b\":0,\"l\":0,\"r\":0},\"height\":200},                        {\"responsive\": true}                    ).then(function(){\n                            \nvar gd = document.getElementById('1f3bc96f-e0a4-43ef-88c1-8967a6215802');\nvar x = new MutationObserver(function (mutations, observer) {{\n        var display = window.getComputedStyle(gd).display;\n        if (!display || display === 'none') {{\n            console.log([gd, 'removed!']);\n            Plotly.purge(gd);\n            observer.disconnect();\n        }}\n}});\n\n// Listen for the removal of the full notebook cells\nvar notebookContainer = gd.closest('#notebook-container');\nif (notebookContainer) {{\n    x.observe(notebookContainer, {childList: true});\n}}\n\n// Listen for the clearing of the current output cell\nvar outputEl = gd.closest('.output');\nif (outputEl) {{\n    x.observe(outputEl, {childList: true});\n}}\n\n                        })                };            </script>        </div>\n</body>\n</html>"
                    },
                    "metadata": {},
                    "output_type": "display_data"
                }
            ],
            "outputs_reference": "s3:deepnote-cell-outputs-production/177a7833-089a-4f1d-8c3b-86dd80796f38",
            "content_dependencies": {
                "usedVariables": [
                    "df",
                    "fig",
                    "go",
                    "unique_artists"
                ],
                "importedModules": [],
                "definedVariables": [
                    "fig",
                    "unique_artists"
                ]
            }
        },
        {
            "cell_type": "code",
            "metadata": {
                "source_hash": "c7accbda",
                "execution_start": 1759170123144,
                "execution_millis": 1,
                "execution_context_id": "4ef6d4f7-8ec5-446f-b603-2dfdf389b9e1",
                "deepnote_app_block_order": 9,
                "deepnote_app_block_visible": true,
                "deepnote_app_block_group_id": null,
                "deepnote_app_is_code_hidden": false,
                "deepnote_app_is_output_hidden": false,
                "cell_id": "a7336939f7bf4aa6b7120b4aaf2c8849",
                "deepnote_cell_type": "code"
            },
            "source": "# Filtrar solo las filas donde Peak Position es 1\ntop_hits = df[df[\"Peak_Position\"] == 1]\n\n#  #1 de cada artista\nartist_counts = top_hits[\"Artist\"].value_counts()\n\n# artista con más #1\ntop_artist = artist_counts.idxmax()\ntop_count = artist_counts.max()\nprint(f\"El artista con más semanas en el puesto #1 es: {top_artist} ({top_count})\")\nprint(artist_counts.head(10))\n",
            "block_group": "a12d1a61544849d7ab4311dfd80bdd6d",
            "execution_count": 11,
            "outputs": [
                {
                    "name": "stdout",
                    "text": "El artista con más semanas en el puesto #1 es: Taylor Swift (348)\nArtist\nTaylor Swift              348\nDrake                     303\nMorgan Wallen             231\nThe Weeknd                170\nKendrick Lamar            166\nAriana Grande             155\nMiley Cyrus               148\nPSY                       123\nOlivia Rodrigo            119\nPost Malone & Swae Lee    117\nName: count, dtype: int64\n",
                    "output_type": "stream"
                }
            ],
            "outputs_reference": "dbtable:cell_outputs/9ba5dbab-87f6-4ce0-bfad-119b0a4e45d7",
            "content_dependencies": {
                "usedVariables": [
                    "artist_counts",
                    "df",
                    "top_artist",
                    "top_count",
                    "top_hits"
                ],
                "importedModules": [],
                "definedVariables": [
                    "artist_counts",
                    "top_artist",
                    "top_count",
                    "top_hits"
                ]
            }
        },
        {
            "cell_type": "code",
            "metadata": {
                "source_hash": "89a7067e",
                "execution_start": 1759170123204,
                "execution_millis": 81,
                "execution_context_id": "4ef6d4f7-8ec5-446f-b603-2dfdf389b9e1",
                "deepnote_app_block_order": 10,
                "deepnote_app_block_visible": true,
                "deepnote_app_block_group_id": null,
                "deepnote_app_is_code_hidden": false,
                "deepnote_app_is_output_hidden": false,
                "cell_id": "9a228cec88aa4678bff6a5a4d4b60e13",
                "deepnote_cell_type": "code"
            },
            "source": "# top 10 artistas\ntop_10_artists = artist_counts.head(10).index.tolist()\n\n# Filtrar los datos de esos artistas\ntop_10_data = top_hits[top_hits[\"Artist\"].isin(top_10_artists)]\n\n# Agrupar por año y artista\nartist_year_counts = top_10_data.groupby([\"Year\", \"Artist\"]).size().reset_index(name=\"NumberOneHits\")\nfig = px.bar(\n    artist_year_counts,\n    x=\"Year\",\n    y=\"NumberOneHits\",\n    color=\"Artist\",\n    barmode=\"group\",\n    title=\" Evolución anual de los top 10 artistas con canciones en el puesto #1\",\n    labels={\"Year\": \"Año\", \"NumberOneHits\": \"#1 por año\"}\n)\n\nfig.update_layout(\n    legend=dict(\n        orientation=\"h\",\n        yanchor=\"bottom\",\n        y=-0.3,\n        xanchor=\"center\",\n        x=0.5\n    ),\n    template=\"plotly_white\",\n    height=600\n)\n\nfig.show()\n",
            "block_group": "6bf132a63cf84d78a38944df99d5e08d",
            "execution_count": 12,
            "outputs": [
                {
                    "data": {
                        "text/html": "<html>\n<head><meta charset=\"utf-8\" /></head>\n<body>\n    <div>            <script src=\"https://cdnjs.cloudflare.com/ajax/libs/mathjax/2.7.5/MathJax.js?config=TeX-AMS-MML_SVG\"></script><script type=\"text/javascript\">if (window.MathJax && window.MathJax.Hub && window.MathJax.Hub.Config) {window.MathJax.Hub.Config({SVG: {font: \"STIX-Web\"}});}</script>                <script type=\"text/javascript\">window.PlotlyConfig = {MathJaxConfig: 'local'};</script>\n        <script charset=\"utf-8\" src=\"https://cdn.plot.ly/plotly-3.1.0.min.js\" integrity=\"sha256-Ei4740bWZhaUTQuD6q9yQlgVCMPBz6CZWhevDYPv93A=\" crossorigin=\"anonymous\"></script>                <div id=\"3ca2ca1a-9a35-40e5-9904-50fbb91f5bef\" class=\"plotly-graph-div\" style=\"height:600px; width:100%;\"></div>            <script type=\"text/javascript\">                window.PLOTLYENV=window.PLOTLYENV || {};                                if (document.getElementById(\"3ca2ca1a-9a35-40e5-9904-50fbb91f5bef\")) {                    Plotly.newPlot(                        \"3ca2ca1a-9a35-40e5-9904-50fbb91f5bef\",                        [{\"alignmentgroup\":\"True\",\"hovertemplate\":\"Artist=Ariana Grande\\u003cbr\\u003eA\\u00f1o=%{x}\\u003cbr\\u003e#1 por a\\u00f1o=%{y}\\u003cextra\\u003e\\u003c\\u002fextra\\u003e\",\"legendgroup\":\"Ariana Grande\",\"marker\":{\"color\":\"#636efa\",\"pattern\":{\"shape\":\"\"}},\"name\":\"Ariana Grande\",\"offsetgroup\":\"Ariana Grande\",\"orientation\":\"v\",\"showlegend\":true,\"textposition\":\"auto\",\"x\":{\"dtype\":\"i4\",\"bdata\":\"3QcAAN4HAADfBwAA4AcAAOIHAADjBwAA5AcAAOUHAADoBwAA6QcAAA==\"},\"xaxis\":\"x\",\"y\":{\"dtype\":\"i1\",\"bdata\":\"AQECAg5DEgwhBQ==\"},\"yaxis\":\"y\",\"type\":\"bar\"},{\"alignmentgroup\":\"True\",\"hovertemplate\":\"Artist=Drake\\u003cbr\\u003eA\\u00f1o=%{x}\\u003cbr\\u003e#1 por a\\u00f1o=%{y}\\u003cextra\\u003e\\u003c\\u002fextra\\u003e\",\"legendgroup\":\"Drake\",\"marker\":{\"color\":\"#EF553B\",\"pattern\":{\"shape\":\"\"}},\"name\":\"Drake\",\"offsetgroup\":\"Drake\",\"orientation\":\"v\",\"showlegend\":true,\"textposition\":\"auto\",\"x\":{\"dtype\":\"i4\",\"bdata\":\"3QcAAN4HAADfBwAA4AcAAOEHAADiBwAA4wcAAOQHAADlBwAA5gcAAOcHAADoBwAA6QcAAA==\"},\"xaxis\":\"x\",\"y\":{\"dtype\":\"i2\",\"bdata\":\"BwABAAcADgAMAIYAFgAXABMAEAAjAAMACgA=\"},\"yaxis\":\"y\",\"type\":\"bar\"},{\"alignmentgroup\":\"True\",\"hovertemplate\":\"Artist=Kendrick Lamar\\u003cbr\\u003eA\\u00f1o=%{x}\\u003cbr\\u003e#1 por a\\u00f1o=%{y}\\u003cextra\\u003e\\u003c\\u002fextra\\u003e\",\"legendgroup\":\"Kendrick Lamar\",\"marker\":{\"color\":\"#00cc96\",\"pattern\":{\"shape\":\"\"}},\"name\":\"Kendrick Lamar\",\"offsetgroup\":\"Kendrick Lamar\",\"orientation\":\"v\",\"showlegend\":true,\"textposition\":\"auto\",\"x\":{\"dtype\":\"i4\",\"bdata\":\"3QcAAN8HAADhBwAA4gcAAOYHAADoBwAA6QcAAA==\"},\"xaxis\":\"x\",\"y\":{\"dtype\":\"i1\",\"bdata\":\"AgIwCQ8qMA==\"},\"yaxis\":\"y\",\"type\":\"bar\"},{\"alignmentgroup\":\"True\",\"hovertemplate\":\"Artist=Miley Cyrus\\u003cbr\\u003eA\\u00f1o=%{x}\\u003cbr\\u003e#1 por a\\u00f1o=%{y}\\u003cextra\\u003e\\u003c\\u002fextra\\u003e\",\"legendgroup\":\"Miley Cyrus\",\"marker\":{\"color\":\"#ab63fa\",\"pattern\":{\"shape\":\"\"}},\"name\":\"Miley Cyrus\",\"offsetgroup\":\"Miley Cyrus\",\"orientation\":\"v\",\"showlegend\":true,\"textposition\":\"auto\",\"x\":{\"dtype\":\"i4\",\"bdata\":\"3QcAAN4HAADhBwAA4wcAAOQHAADnBwAA6AcAAOkHAAA=\"},\"xaxis\":\"x\",\"y\":{\"dtype\":\"i1\",\"bdata\":\"KzsBAQEmBAE=\"},\"yaxis\":\"y\",\"type\":\"bar\"},{\"alignmentgroup\":\"True\",\"hovertemplate\":\"Artist=PSY\\u003cbr\\u003eA\\u00f1o=%{x}\\u003cbr\\u003e#1 por a\\u00f1o=%{y}\\u003cextra\\u003e\\u003c\\u002fextra\\u003e\",\"legendgroup\":\"PSY\",\"marker\":{\"color\":\"#FFA15A\",\"pattern\":{\"shape\":\"\"}},\"name\":\"PSY\",\"offsetgroup\":\"PSY\",\"orientation\":\"v\",\"showlegend\":true,\"textposition\":\"auto\",\"x\":{\"dtype\":\"i4\",\"bdata\":\"3QcAAN4HAADfBwAA\"},\"xaxis\":\"x\",\"y\":{\"dtype\":\"i1\",\"bdata\":\"NCQj\"},\"yaxis\":\"y\",\"type\":\"bar\"},{\"alignmentgroup\":\"True\",\"hovertemplate\":\"Artist=Taylor Swift\\u003cbr\\u003eA\\u00f1o=%{x}\\u003cbr\\u003e#1 por a\\u00f1o=%{y}\\u003cextra\\u003e\\u003c\\u002fextra\\u003e\",\"legendgroup\":\"Taylor Swift\",\"marker\":{\"color\":\"#19d3f3\",\"pattern\":{\"shape\":\"\"}},\"name\":\"Taylor Swift\",\"offsetgroup\":\"Taylor Swift\",\"orientation\":\"v\",\"showlegend\":true,\"textposition\":\"auto\",\"x\":{\"dtype\":\"i4\",\"bdata\":\"3QcAAN4HAADfBwAA4AcAAOEHAADjBwAA5AcAAOUHAADmBwAA5wcAAOgHAAA=\"},\"xaxis\":\"x\",\"y\":{\"dtype\":\"i1\",\"bdata\":\"Aw5EAREMHBgbXzs=\"},\"yaxis\":\"y\",\"type\":\"bar\"},{\"alignmentgroup\":\"True\",\"hovertemplate\":\"Artist=The Weeknd\\u003cbr\\u003eA\\u00f1o=%{x}\\u003cbr\\u003e#1 por a\\u00f1o=%{y}\\u003cextra\\u003e\\u003c\\u002fextra\\u003e\",\"legendgroup\":\"The Weeknd\",\"marker\":{\"color\":\"#FF6692\",\"pattern\":{\"shape\":\"\"}},\"name\":\"The Weeknd\",\"offsetgroup\":\"The Weeknd\",\"orientation\":\"v\",\"showlegend\":true,\"textposition\":\"auto\",\"x\":{\"dtype\":\"i4\",\"bdata\":\"3QcAAN8HAADgBwAA4gcAAOMHAADkBwAA5QcAAOYHAADoBwAA6QcAAA==\"},\"xaxis\":\"x\",\"y\":{\"dtype\":\"i1\",\"bdata\":\"ARYdBAIxKBMBAw==\"},\"yaxis\":\"y\",\"type\":\"bar\"},{\"alignmentgroup\":\"True\",\"hovertemplate\":\"Artist=Post Malone & Swae Lee\\u003cbr\\u003eA\\u00f1o=%{x}\\u003cbr\\u003e#1 por a\\u00f1o=%{y}\\u003cextra\\u003e\\u003c\\u002fextra\\u003e\",\"legendgroup\":\"Post Malone & Swae Lee\",\"marker\":{\"color\":\"#B6E880\",\"pattern\":{\"shape\":\"\"}},\"name\":\"Post Malone & Swae Lee\",\"offsetgroup\":\"Post Malone & Swae Lee\",\"orientation\":\"v\",\"showlegend\":true,\"textposition\":\"auto\",\"x\":{\"dtype\":\"i4\",\"bdata\":\"4gcAAOMHAADkBwAA5QcAAOYHAADnBwAA\"},\"xaxis\":\"x\",\"y\":{\"dtype\":\"i1\",\"bdata\":\"ATInCA4F\"},\"yaxis\":\"y\",\"type\":\"bar\"},{\"alignmentgroup\":\"True\",\"hovertemplate\":\"Artist=Morgan Wallen\\u003cbr\\u003eA\\u00f1o=%{x}\\u003cbr\\u003e#1 por a\\u00f1o=%{y}\\u003cextra\\u003e\\u003c\\u002fextra\\u003e\",\"legendgroup\":\"Morgan Wallen\",\"marker\":{\"color\":\"#FF97FF\",\"pattern\":{\"shape\":\"\"}},\"name\":\"Morgan Wallen\",\"offsetgroup\":\"Morgan Wallen\",\"orientation\":\"v\",\"showlegend\":true,\"textposition\":\"auto\",\"x\":{\"dtype\":\"i4\",\"bdata\":\"4wcAAOQHAADlBwAA5gcAAOcHAADoBwAA6QcAAA==\"},\"xaxis\":\"x\",\"y\":{\"dtype\":\"i1\",\"bdata\":\"AQUIBUA1Xw==\"},\"yaxis\":\"y\",\"type\":\"bar\"},{\"alignmentgroup\":\"True\",\"hovertemplate\":\"Artist=Olivia Rodrigo\\u003cbr\\u003eA\\u00f1o=%{x}\\u003cbr\\u003e#1 por a\\u00f1o=%{y}\\u003cextra\\u003e\\u003c\\u002fextra\\u003e\",\"legendgroup\":\"Olivia Rodrigo\",\"marker\":{\"color\":\"#FECB52\",\"pattern\":{\"shape\":\"\"}},\"name\":\"Olivia Rodrigo\",\"offsetgroup\":\"Olivia Rodrigo\",\"orientation\":\"v\",\"showlegend\":true,\"textposition\":\"auto\",\"x\":{\"dtype\":\"i4\",\"bdata\":\"5QcAAOYHAADnBwAA6AcAAA==\"},\"xaxis\":\"x\",\"y\":{\"dtype\":\"i1\",\"bdata\":\"QAohDA==\"},\"yaxis\":\"y\",\"type\":\"bar\"}],                        {\"template\":{\"data\":{\"barpolar\":[{\"marker\":{\"line\":{\"color\":\"white\",\"width\":0.5},\"pattern\":{\"fillmode\":\"overlay\",\"size\":10,\"solidity\":0.2}},\"type\":\"barpolar\"}],\"bar\":[{\"error_x\":{\"color\":\"#2a3f5f\"},\"error_y\":{\"color\":\"#2a3f5f\"},\"marker\":{\"line\":{\"color\":\"white\",\"width\":0.5},\"pattern\":{\"fillmode\":\"overlay\",\"size\":10,\"solidity\":0.2}},\"type\":\"bar\"}],\"carpet\":[{\"aaxis\":{\"endlinecolor\":\"#2a3f5f\",\"gridcolor\":\"#C8D4E3\",\"linecolor\":\"#C8D4E3\",\"minorgridcolor\":\"#C8D4E3\",\"startlinecolor\":\"#2a3f5f\"},\"baxis\":{\"endlinecolor\":\"#2a3f5f\",\"gridcolor\":\"#C8D4E3\",\"linecolor\":\"#C8D4E3\",\"minorgridcolor\":\"#C8D4E3\",\"startlinecolor\":\"#2a3f5f\"},\"type\":\"carpet\"}],\"choropleth\":[{\"colorbar\":{\"outlinewidth\":0,\"ticks\":\"\"},\"type\":\"choropleth\"}],\"contourcarpet\":[{\"colorbar\":{\"outlinewidth\":0,\"ticks\":\"\"},\"type\":\"contourcarpet\"}],\"contour\":[{\"colorbar\":{\"outlinewidth\":0,\"ticks\":\"\"},\"colorscale\":[[0.0,\"#0d0887\"],[0.1111111111111111,\"#46039f\"],[0.2222222222222222,\"#7201a8\"],[0.3333333333333333,\"#9c179e\"],[0.4444444444444444,\"#bd3786\"],[0.5555555555555556,\"#d8576b\"],[0.6666666666666666,\"#ed7953\"],[0.7777777777777778,\"#fb9f3a\"],[0.8888888888888888,\"#fdca26\"],[1.0,\"#f0f921\"]],\"type\":\"contour\"}],\"heatmap\":[{\"colorbar\":{\"outlinewidth\":0,\"ticks\":\"\"},\"colorscale\":[[0.0,\"#0d0887\"],[0.1111111111111111,\"#46039f\"],[0.2222222222222222,\"#7201a8\"],[0.3333333333333333,\"#9c179e\"],[0.4444444444444444,\"#bd3786\"],[0.5555555555555556,\"#d8576b\"],[0.6666666666666666,\"#ed7953\"],[0.7777777777777778,\"#fb9f3a\"],[0.8888888888888888,\"#fdca26\"],[1.0,\"#f0f921\"]],\"type\":\"heatmap\"}],\"histogram2dcontour\":[{\"colorbar\":{\"outlinewidth\":0,\"ticks\":\"\"},\"colorscale\":[[0.0,\"#0d0887\"],[0.1111111111111111,\"#46039f\"],[0.2222222222222222,\"#7201a8\"],[0.3333333333333333,\"#9c179e\"],[0.4444444444444444,\"#bd3786\"],[0.5555555555555556,\"#d8576b\"],[0.6666666666666666,\"#ed7953\"],[0.7777777777777778,\"#fb9f3a\"],[0.8888888888888888,\"#fdca26\"],[1.0,\"#f0f921\"]],\"type\":\"histogram2dcontour\"}],\"histogram2d\":[{\"colorbar\":{\"outlinewidth\":0,\"ticks\":\"\"},\"colorscale\":[[0.0,\"#0d0887\"],[0.1111111111111111,\"#46039f\"],[0.2222222222222222,\"#7201a8\"],[0.3333333333333333,\"#9c179e\"],[0.4444444444444444,\"#bd3786\"],[0.5555555555555556,\"#d8576b\"],[0.6666666666666666,\"#ed7953\"],[0.7777777777777778,\"#fb9f3a\"],[0.8888888888888888,\"#fdca26\"],[1.0,\"#f0f921\"]],\"type\":\"histogram2d\"}],\"histogram\":[{\"marker\":{\"pattern\":{\"fillmode\":\"overlay\",\"size\":10,\"solidity\":0.2}},\"type\":\"histogram\"}],\"mesh3d\":[{\"colorbar\":{\"outlinewidth\":0,\"ticks\":\"\"},\"type\":\"mesh3d\"}],\"parcoords\":[{\"line\":{\"colorbar\":{\"outlinewidth\":0,\"ticks\":\"\"}},\"type\":\"parcoords\"}],\"pie\":[{\"automargin\":true,\"type\":\"pie\"}],\"scatter3d\":[{\"line\":{\"colorbar\":{\"outlinewidth\":0,\"ticks\":\"\"}},\"marker\":{\"colorbar\":{\"outlinewidth\":0,\"ticks\":\"\"}},\"type\":\"scatter3d\"}],\"scattercarpet\":[{\"marker\":{\"colorbar\":{\"outlinewidth\":0,\"ticks\":\"\"}},\"type\":\"scattercarpet\"}],\"scattergeo\":[{\"marker\":{\"colorbar\":{\"outlinewidth\":0,\"ticks\":\"\"}},\"type\":\"scattergeo\"}],\"scattergl\":[{\"marker\":{\"colorbar\":{\"outlinewidth\":0,\"ticks\":\"\"}},\"type\":\"scattergl\"}],\"scattermapbox\":[{\"marker\":{\"colorbar\":{\"outlinewidth\":0,\"ticks\":\"\"}},\"type\":\"scattermapbox\"}],\"scattermap\":[{\"marker\":{\"colorbar\":{\"outlinewidth\":0,\"ticks\":\"\"}},\"type\":\"scattermap\"}],\"scatterpolargl\":[{\"marker\":{\"colorbar\":{\"outlinewidth\":0,\"ticks\":\"\"}},\"type\":\"scatterpolargl\"}],\"scatterpolar\":[{\"marker\":{\"colorbar\":{\"outlinewidth\":0,\"ticks\":\"\"}},\"type\":\"scatterpolar\"}],\"scatter\":[{\"fillpattern\":{\"fillmode\":\"overlay\",\"size\":10,\"solidity\":0.2},\"type\":\"scatter\"}],\"scatterternary\":[{\"marker\":{\"colorbar\":{\"outlinewidth\":0,\"ticks\":\"\"}},\"type\":\"scatterternary\"}],\"surface\":[{\"colorbar\":{\"outlinewidth\":0,\"ticks\":\"\"},\"colorscale\":[[0.0,\"#0d0887\"],[0.1111111111111111,\"#46039f\"],[0.2222222222222222,\"#7201a8\"],[0.3333333333333333,\"#9c179e\"],[0.4444444444444444,\"#bd3786\"],[0.5555555555555556,\"#d8576b\"],[0.6666666666666666,\"#ed7953\"],[0.7777777777777778,\"#fb9f3a\"],[0.8888888888888888,\"#fdca26\"],[1.0,\"#f0f921\"]],\"type\":\"surface\"}],\"table\":[{\"cells\":{\"fill\":{\"color\":\"#EBF0F8\"},\"line\":{\"color\":\"white\"}},\"header\":{\"fill\":{\"color\":\"#C8D4E3\"},\"line\":{\"color\":\"white\"}},\"type\":\"table\"}]},\"layout\":{\"annotationdefaults\":{\"arrowcolor\":\"#2a3f5f\",\"arrowhead\":0,\"arrowwidth\":1},\"autotypenumbers\":\"strict\",\"coloraxis\":{\"colorbar\":{\"outlinewidth\":0,\"ticks\":\"\"}},\"colorscale\":{\"diverging\":[[0,\"#8e0152\"],[0.1,\"#c51b7d\"],[0.2,\"#de77ae\"],[0.3,\"#f1b6da\"],[0.4,\"#fde0ef\"],[0.5,\"#f7f7f7\"],[0.6,\"#e6f5d0\"],[0.7,\"#b8e186\"],[0.8,\"#7fbc41\"],[0.9,\"#4d9221\"],[1,\"#276419\"]],\"sequential\":[[0.0,\"#0d0887\"],[0.1111111111111111,\"#46039f\"],[0.2222222222222222,\"#7201a8\"],[0.3333333333333333,\"#9c179e\"],[0.4444444444444444,\"#bd3786\"],[0.5555555555555556,\"#d8576b\"],[0.6666666666666666,\"#ed7953\"],[0.7777777777777778,\"#fb9f3a\"],[0.8888888888888888,\"#fdca26\"],[1.0,\"#f0f921\"]],\"sequentialminus\":[[0.0,\"#0d0887\"],[0.1111111111111111,\"#46039f\"],[0.2222222222222222,\"#7201a8\"],[0.3333333333333333,\"#9c179e\"],[0.4444444444444444,\"#bd3786\"],[0.5555555555555556,\"#d8576b\"],[0.6666666666666666,\"#ed7953\"],[0.7777777777777778,\"#fb9f3a\"],[0.8888888888888888,\"#fdca26\"],[1.0,\"#f0f921\"]]},\"colorway\":[\"#636efa\",\"#EF553B\",\"#00cc96\",\"#ab63fa\",\"#FFA15A\",\"#19d3f3\",\"#FF6692\",\"#B6E880\",\"#FF97FF\",\"#FECB52\"],\"font\":{\"color\":\"#2a3f5f\"},\"geo\":{\"bgcolor\":\"white\",\"lakecolor\":\"white\",\"landcolor\":\"white\",\"showlakes\":true,\"showland\":true,\"subunitcolor\":\"#C8D4E3\"},\"hoverlabel\":{\"align\":\"left\"},\"hovermode\":\"closest\",\"mapbox\":{\"style\":\"light\"},\"paper_bgcolor\":\"white\",\"plot_bgcolor\":\"white\",\"polar\":{\"angularaxis\":{\"gridcolor\":\"#EBF0F8\",\"linecolor\":\"#EBF0F8\",\"ticks\":\"\"},\"bgcolor\":\"white\",\"radialaxis\":{\"gridcolor\":\"#EBF0F8\",\"linecolor\":\"#EBF0F8\",\"ticks\":\"\"}},\"scene\":{\"xaxis\":{\"backgroundcolor\":\"white\",\"gridcolor\":\"#DFE8F3\",\"gridwidth\":2,\"linecolor\":\"#EBF0F8\",\"showbackground\":true,\"ticks\":\"\",\"zerolinecolor\":\"#EBF0F8\"},\"yaxis\":{\"backgroundcolor\":\"white\",\"gridcolor\":\"#DFE8F3\",\"gridwidth\":2,\"linecolor\":\"#EBF0F8\",\"showbackground\":true,\"ticks\":\"\",\"zerolinecolor\":\"#EBF0F8\"},\"zaxis\":{\"backgroundcolor\":\"white\",\"gridcolor\":\"#DFE8F3\",\"gridwidth\":2,\"linecolor\":\"#EBF0F8\",\"showbackground\":true,\"ticks\":\"\",\"zerolinecolor\":\"#EBF0F8\"}},\"shapedefaults\":{\"line\":{\"color\":\"#2a3f5f\"}},\"ternary\":{\"aaxis\":{\"gridcolor\":\"#DFE8F3\",\"linecolor\":\"#A2B1C6\",\"ticks\":\"\"},\"baxis\":{\"gridcolor\":\"#DFE8F3\",\"linecolor\":\"#A2B1C6\",\"ticks\":\"\"},\"bgcolor\":\"white\",\"caxis\":{\"gridcolor\":\"#DFE8F3\",\"linecolor\":\"#A2B1C6\",\"ticks\":\"\"}},\"title\":{\"x\":0.05},\"xaxis\":{\"automargin\":true,\"gridcolor\":\"#EBF0F8\",\"linecolor\":\"#EBF0F8\",\"ticks\":\"\",\"title\":{\"standoff\":15},\"zerolinecolor\":\"#EBF0F8\",\"zerolinewidth\":2},\"yaxis\":{\"automargin\":true,\"gridcolor\":\"#EBF0F8\",\"linecolor\":\"#EBF0F8\",\"ticks\":\"\",\"title\":{\"standoff\":15},\"zerolinecolor\":\"#EBF0F8\",\"zerolinewidth\":2}}},\"xaxis\":{\"anchor\":\"y\",\"domain\":[0.0,1.0],\"title\":{\"text\":\"A\\u00f1o\"}},\"yaxis\":{\"anchor\":\"x\",\"domain\":[0.0,1.0],\"title\":{\"text\":\"#1 por a\\u00f1o\"}},\"legend\":{\"title\":{\"text\":\"Artist\"},\"tracegroupgap\":0,\"orientation\":\"h\",\"yanchor\":\"bottom\",\"y\":-0.3,\"xanchor\":\"center\",\"x\":0.5},\"title\":{\"text\":\" Evoluci\\u00f3n anual de los top 10 artistas con canciones en el puesto #1\"},\"barmode\":\"group\",\"height\":600},                        {\"responsive\": true}                    ).then(function(){\n                            \nvar gd = document.getElementById('3ca2ca1a-9a35-40e5-9904-50fbb91f5bef');\nvar x = new MutationObserver(function (mutations, observer) {{\n        var display = window.getComputedStyle(gd).display;\n        if (!display || display === 'none') {{\n            console.log([gd, 'removed!']);\n            Plotly.purge(gd);\n            observer.disconnect();\n        }}\n}});\n\n// Listen for the removal of the full notebook cells\nvar notebookContainer = gd.closest('#notebook-container');\nif (notebookContainer) {{\n    x.observe(notebookContainer, {childList: true});\n}}\n\n// Listen for the clearing of the current output cell\nvar outputEl = gd.closest('.output');\nif (outputEl) {{\n    x.observe(outputEl, {childList: true});\n}}\n\n                        })                };            </script>        </div>\n</body>\n</html>"
                    },
                    "metadata": {},
                    "output_type": "display_data"
                }
            ],
            "outputs_reference": "s3:deepnote-cell-outputs-production/daaef5ac-a014-4284-b303-542094a91f6f",
            "content_dependencies": {
                "usedVariables": [
                    "artist_counts",
                    "artist_year_counts",
                    "fig",
                    "px",
                    "top_10_artists",
                    "top_10_data",
                    "top_hits"
                ],
                "importedModules": [],
                "definedVariables": [
                    "artist_year_counts",
                    "fig",
                    "top_10_artists",
                    "top_10_data"
                ]
            }
        },
        {
            "cell_type": "code",
            "metadata": {
                "source_hash": "d6adfc1",
                "is_code_hidden": false,
                "execution_start": 1759170123334,
                "execution_millis": 65,
                "execution_context_id": "4ef6d4f7-8ec5-446f-b603-2dfdf389b9e1",
                "deepnote_app_block_order": 11,
                "deepnote_app_block_visible": true,
                "deepnote_app_block_group_id": null,
                "deepnote_app_is_code_hidden": false,
                "deepnote_app_is_output_hidden": false,
                "cell_id": "e02330b2a64f4cf393e75ddb20958a4e",
                "deepnote_cell_type": "code"
            },
            "source": "#  top 10 artistas\ntop_10_artists = artist_counts.head(5).index.tolist()\n\n# Filtrar solo los datos de esos artistas\ntop_10_data = top_hits[top_hits[\"Artist\"].isin(top_10_artists)]\n\n# Agrupar por año y artista\nartist_year_counts = top_10_data.groupby([\"Year\", \"Artist\"]).size().reset_index(name=\"NumberOneHits\")\nimport plotly.express as px\n\nfig = px.line(\n    artist_year_counts,\n    x=\"Year\",\n    y=\"NumberOneHits\",\n    color=\"Artist\",\n    markers=True,\n    title=\" Evolución temporal de los top 10 artistas con canciones en el puesto #1\",\n    labels={\"Year\": \"Año\", \"NumberOneHits\": \"#1 por año\"}\n)\n\nfig.update_layout(\n    legend=dict(\n        orientation=\"h\",\n        yanchor=\"bottom\",\n        y=-0.3,\n        xanchor=\"center\",\n        x=0.5\n    ),\n    template=\"plotly_white\",\n    height=600\n)\n\nfig.show()\n",
            "block_group": "93e8d77380e2444c89b85a6767ab545e",
            "execution_count": 13,
            "outputs": [
                {
                    "data": {
                        "text/html": "<html>\n<head><meta charset=\"utf-8\" /></head>\n<body>\n    <div>            <script src=\"https://cdnjs.cloudflare.com/ajax/libs/mathjax/2.7.5/MathJax.js?config=TeX-AMS-MML_SVG\"></script><script type=\"text/javascript\">if (window.MathJax && window.MathJax.Hub && window.MathJax.Hub.Config) {window.MathJax.Hub.Config({SVG: {font: \"STIX-Web\"}});}</script>                <script type=\"text/javascript\">window.PlotlyConfig = {MathJaxConfig: 'local'};</script>\n        <script charset=\"utf-8\" src=\"https://cdn.plot.ly/plotly-3.1.0.min.js\" integrity=\"sha256-Ei4740bWZhaUTQuD6q9yQlgVCMPBz6CZWhevDYPv93A=\" crossorigin=\"anonymous\"></script>                <div id=\"310f82eb-bb47-4257-9ded-32d7d6ca657a\" class=\"plotly-graph-div\" style=\"height:600px; width:100%;\"></div>            <script type=\"text/javascript\">                window.PLOTLYENV=window.PLOTLYENV || {};                                if (document.getElementById(\"310f82eb-bb47-4257-9ded-32d7d6ca657a\")) {                    Plotly.newPlot(                        \"310f82eb-bb47-4257-9ded-32d7d6ca657a\",                        [{\"hovertemplate\":\"Artist=Drake\\u003cbr\\u003eA\\u00f1o=%{x}\\u003cbr\\u003e#1 por a\\u00f1o=%{y}\\u003cextra\\u003e\\u003c\\u002fextra\\u003e\",\"legendgroup\":\"Drake\",\"line\":{\"color\":\"#636efa\",\"dash\":\"solid\"},\"marker\":{\"symbol\":\"circle\"},\"mode\":\"lines+markers\",\"name\":\"Drake\",\"orientation\":\"v\",\"showlegend\":true,\"x\":{\"dtype\":\"i4\",\"bdata\":\"3QcAAN4HAADfBwAA4AcAAOEHAADiBwAA4wcAAOQHAADlBwAA5gcAAOcHAADoBwAA6QcAAA==\"},\"xaxis\":\"x\",\"y\":{\"dtype\":\"i2\",\"bdata\":\"BwABAAcADgAMAIYAFgAXABMAEAAjAAMACgA=\"},\"yaxis\":\"y\",\"type\":\"scatter\"},{\"hovertemplate\":\"Artist=Kendrick Lamar\\u003cbr\\u003eA\\u00f1o=%{x}\\u003cbr\\u003e#1 por a\\u00f1o=%{y}\\u003cextra\\u003e\\u003c\\u002fextra\\u003e\",\"legendgroup\":\"Kendrick Lamar\",\"line\":{\"color\":\"#EF553B\",\"dash\":\"solid\"},\"marker\":{\"symbol\":\"circle\"},\"mode\":\"lines+markers\",\"name\":\"Kendrick Lamar\",\"orientation\":\"v\",\"showlegend\":true,\"x\":{\"dtype\":\"i4\",\"bdata\":\"3QcAAN8HAADhBwAA4gcAAOYHAADoBwAA6QcAAA==\"},\"xaxis\":\"x\",\"y\":{\"dtype\":\"i1\",\"bdata\":\"AgIwCQ8qMA==\"},\"yaxis\":\"y\",\"type\":\"scatter\"},{\"hovertemplate\":\"Artist=Taylor Swift\\u003cbr\\u003eA\\u00f1o=%{x}\\u003cbr\\u003e#1 por a\\u00f1o=%{y}\\u003cextra\\u003e\\u003c\\u002fextra\\u003e\",\"legendgroup\":\"Taylor Swift\",\"line\":{\"color\":\"#00cc96\",\"dash\":\"solid\"},\"marker\":{\"symbol\":\"circle\"},\"mode\":\"lines+markers\",\"name\":\"Taylor Swift\",\"orientation\":\"v\",\"showlegend\":true,\"x\":{\"dtype\":\"i4\",\"bdata\":\"3QcAAN4HAADfBwAA4AcAAOEHAADjBwAA5AcAAOUHAADmBwAA5wcAAOgHAAA=\"},\"xaxis\":\"x\",\"y\":{\"dtype\":\"i1\",\"bdata\":\"Aw5EAREMHBgbXzs=\"},\"yaxis\":\"y\",\"type\":\"scatter\"},{\"hovertemplate\":\"Artist=The Weeknd\\u003cbr\\u003eA\\u00f1o=%{x}\\u003cbr\\u003e#1 por a\\u00f1o=%{y}\\u003cextra\\u003e\\u003c\\u002fextra\\u003e\",\"legendgroup\":\"The Weeknd\",\"line\":{\"color\":\"#ab63fa\",\"dash\":\"solid\"},\"marker\":{\"symbol\":\"circle\"},\"mode\":\"lines+markers\",\"name\":\"The Weeknd\",\"orientation\":\"v\",\"showlegend\":true,\"x\":{\"dtype\":\"i4\",\"bdata\":\"3QcAAN8HAADgBwAA4gcAAOMHAADkBwAA5QcAAOYHAADoBwAA6QcAAA==\"},\"xaxis\":\"x\",\"y\":{\"dtype\":\"i1\",\"bdata\":\"ARYdBAIxKBMBAw==\"},\"yaxis\":\"y\",\"type\":\"scatter\"},{\"hovertemplate\":\"Artist=Morgan Wallen\\u003cbr\\u003eA\\u00f1o=%{x}\\u003cbr\\u003e#1 por a\\u00f1o=%{y}\\u003cextra\\u003e\\u003c\\u002fextra\\u003e\",\"legendgroup\":\"Morgan Wallen\",\"line\":{\"color\":\"#FFA15A\",\"dash\":\"solid\"},\"marker\":{\"symbol\":\"circle\"},\"mode\":\"lines+markers\",\"name\":\"Morgan Wallen\",\"orientation\":\"v\",\"showlegend\":true,\"x\":{\"dtype\":\"i4\",\"bdata\":\"4wcAAOQHAADlBwAA5gcAAOcHAADoBwAA6QcAAA==\"},\"xaxis\":\"x\",\"y\":{\"dtype\":\"i1\",\"bdata\":\"AQUIBUA1Xw==\"},\"yaxis\":\"y\",\"type\":\"scatter\"}],                        {\"template\":{\"data\":{\"barpolar\":[{\"marker\":{\"line\":{\"color\":\"white\",\"width\":0.5},\"pattern\":{\"fillmode\":\"overlay\",\"size\":10,\"solidity\":0.2}},\"type\":\"barpolar\"}],\"bar\":[{\"error_x\":{\"color\":\"#2a3f5f\"},\"error_y\":{\"color\":\"#2a3f5f\"},\"marker\":{\"line\":{\"color\":\"white\",\"width\":0.5},\"pattern\":{\"fillmode\":\"overlay\",\"size\":10,\"solidity\":0.2}},\"type\":\"bar\"}],\"carpet\":[{\"aaxis\":{\"endlinecolor\":\"#2a3f5f\",\"gridcolor\":\"#C8D4E3\",\"linecolor\":\"#C8D4E3\",\"minorgridcolor\":\"#C8D4E3\",\"startlinecolor\":\"#2a3f5f\"},\"baxis\":{\"endlinecolor\":\"#2a3f5f\",\"gridcolor\":\"#C8D4E3\",\"linecolor\":\"#C8D4E3\",\"minorgridcolor\":\"#C8D4E3\",\"startlinecolor\":\"#2a3f5f\"},\"type\":\"carpet\"}],\"choropleth\":[{\"colorbar\":{\"outlinewidth\":0,\"ticks\":\"\"},\"type\":\"choropleth\"}],\"contourcarpet\":[{\"colorbar\":{\"outlinewidth\":0,\"ticks\":\"\"},\"type\":\"contourcarpet\"}],\"contour\":[{\"colorbar\":{\"outlinewidth\":0,\"ticks\":\"\"},\"colorscale\":[[0.0,\"#0d0887\"],[0.1111111111111111,\"#46039f\"],[0.2222222222222222,\"#7201a8\"],[0.3333333333333333,\"#9c179e\"],[0.4444444444444444,\"#bd3786\"],[0.5555555555555556,\"#d8576b\"],[0.6666666666666666,\"#ed7953\"],[0.7777777777777778,\"#fb9f3a\"],[0.8888888888888888,\"#fdca26\"],[1.0,\"#f0f921\"]],\"type\":\"contour\"}],\"heatmap\":[{\"colorbar\":{\"outlinewidth\":0,\"ticks\":\"\"},\"colorscale\":[[0.0,\"#0d0887\"],[0.1111111111111111,\"#46039f\"],[0.2222222222222222,\"#7201a8\"],[0.3333333333333333,\"#9c179e\"],[0.4444444444444444,\"#bd3786\"],[0.5555555555555556,\"#d8576b\"],[0.6666666666666666,\"#ed7953\"],[0.7777777777777778,\"#fb9f3a\"],[0.8888888888888888,\"#fdca26\"],[1.0,\"#f0f921\"]],\"type\":\"heatmap\"}],\"histogram2dcontour\":[{\"colorbar\":{\"outlinewidth\":0,\"ticks\":\"\"},\"colorscale\":[[0.0,\"#0d0887\"],[0.1111111111111111,\"#46039f\"],[0.2222222222222222,\"#7201a8\"],[0.3333333333333333,\"#9c179e\"],[0.4444444444444444,\"#bd3786\"],[0.5555555555555556,\"#d8576b\"],[0.6666666666666666,\"#ed7953\"],[0.7777777777777778,\"#fb9f3a\"],[0.8888888888888888,\"#fdca26\"],[1.0,\"#f0f921\"]],\"type\":\"histogram2dcontour\"}],\"histogram2d\":[{\"colorbar\":{\"outlinewidth\":0,\"ticks\":\"\"},\"colorscale\":[[0.0,\"#0d0887\"],[0.1111111111111111,\"#46039f\"],[0.2222222222222222,\"#7201a8\"],[0.3333333333333333,\"#9c179e\"],[0.4444444444444444,\"#bd3786\"],[0.5555555555555556,\"#d8576b\"],[0.6666666666666666,\"#ed7953\"],[0.7777777777777778,\"#fb9f3a\"],[0.8888888888888888,\"#fdca26\"],[1.0,\"#f0f921\"]],\"type\":\"histogram2d\"}],\"histogram\":[{\"marker\":{\"pattern\":{\"fillmode\":\"overlay\",\"size\":10,\"solidity\":0.2}},\"type\":\"histogram\"}],\"mesh3d\":[{\"colorbar\":{\"outlinewidth\":0,\"ticks\":\"\"},\"type\":\"mesh3d\"}],\"parcoords\":[{\"line\":{\"colorbar\":{\"outlinewidth\":0,\"ticks\":\"\"}},\"type\":\"parcoords\"}],\"pie\":[{\"automargin\":true,\"type\":\"pie\"}],\"scatter3d\":[{\"line\":{\"colorbar\":{\"outlinewidth\":0,\"ticks\":\"\"}},\"marker\":{\"colorbar\":{\"outlinewidth\":0,\"ticks\":\"\"}},\"type\":\"scatter3d\"}],\"scattercarpet\":[{\"marker\":{\"colorbar\":{\"outlinewidth\":0,\"ticks\":\"\"}},\"type\":\"scattercarpet\"}],\"scattergeo\":[{\"marker\":{\"colorbar\":{\"outlinewidth\":0,\"ticks\":\"\"}},\"type\":\"scattergeo\"}],\"scattergl\":[{\"marker\":{\"colorbar\":{\"outlinewidth\":0,\"ticks\":\"\"}},\"type\":\"scattergl\"}],\"scattermapbox\":[{\"marker\":{\"colorbar\":{\"outlinewidth\":0,\"ticks\":\"\"}},\"type\":\"scattermapbox\"}],\"scattermap\":[{\"marker\":{\"colorbar\":{\"outlinewidth\":0,\"ticks\":\"\"}},\"type\":\"scattermap\"}],\"scatterpolargl\":[{\"marker\":{\"colorbar\":{\"outlinewidth\":0,\"ticks\":\"\"}},\"type\":\"scatterpolargl\"}],\"scatterpolar\":[{\"marker\":{\"colorbar\":{\"outlinewidth\":0,\"ticks\":\"\"}},\"type\":\"scatterpolar\"}],\"scatter\":[{\"fillpattern\":{\"fillmode\":\"overlay\",\"size\":10,\"solidity\":0.2},\"type\":\"scatter\"}],\"scatterternary\":[{\"marker\":{\"colorbar\":{\"outlinewidth\":0,\"ticks\":\"\"}},\"type\":\"scatterternary\"}],\"surface\":[{\"colorbar\":{\"outlinewidth\":0,\"ticks\":\"\"},\"colorscale\":[[0.0,\"#0d0887\"],[0.1111111111111111,\"#46039f\"],[0.2222222222222222,\"#7201a8\"],[0.3333333333333333,\"#9c179e\"],[0.4444444444444444,\"#bd3786\"],[0.5555555555555556,\"#d8576b\"],[0.6666666666666666,\"#ed7953\"],[0.7777777777777778,\"#fb9f3a\"],[0.8888888888888888,\"#fdca26\"],[1.0,\"#f0f921\"]],\"type\":\"surface\"}],\"table\":[{\"cells\":{\"fill\":{\"color\":\"#EBF0F8\"},\"line\":{\"color\":\"white\"}},\"header\":{\"fill\":{\"color\":\"#C8D4E3\"},\"line\":{\"color\":\"white\"}},\"type\":\"table\"}]},\"layout\":{\"annotationdefaults\":{\"arrowcolor\":\"#2a3f5f\",\"arrowhead\":0,\"arrowwidth\":1},\"autotypenumbers\":\"strict\",\"coloraxis\":{\"colorbar\":{\"outlinewidth\":0,\"ticks\":\"\"}},\"colorscale\":{\"diverging\":[[0,\"#8e0152\"],[0.1,\"#c51b7d\"],[0.2,\"#de77ae\"],[0.3,\"#f1b6da\"],[0.4,\"#fde0ef\"],[0.5,\"#f7f7f7\"],[0.6,\"#e6f5d0\"],[0.7,\"#b8e186\"],[0.8,\"#7fbc41\"],[0.9,\"#4d9221\"],[1,\"#276419\"]],\"sequential\":[[0.0,\"#0d0887\"],[0.1111111111111111,\"#46039f\"],[0.2222222222222222,\"#7201a8\"],[0.3333333333333333,\"#9c179e\"],[0.4444444444444444,\"#bd3786\"],[0.5555555555555556,\"#d8576b\"],[0.6666666666666666,\"#ed7953\"],[0.7777777777777778,\"#fb9f3a\"],[0.8888888888888888,\"#fdca26\"],[1.0,\"#f0f921\"]],\"sequentialminus\":[[0.0,\"#0d0887\"],[0.1111111111111111,\"#46039f\"],[0.2222222222222222,\"#7201a8\"],[0.3333333333333333,\"#9c179e\"],[0.4444444444444444,\"#bd3786\"],[0.5555555555555556,\"#d8576b\"],[0.6666666666666666,\"#ed7953\"],[0.7777777777777778,\"#fb9f3a\"],[0.8888888888888888,\"#fdca26\"],[1.0,\"#f0f921\"]]},\"colorway\":[\"#636efa\",\"#EF553B\",\"#00cc96\",\"#ab63fa\",\"#FFA15A\",\"#19d3f3\",\"#FF6692\",\"#B6E880\",\"#FF97FF\",\"#FECB52\"],\"font\":{\"color\":\"#2a3f5f\"},\"geo\":{\"bgcolor\":\"white\",\"lakecolor\":\"white\",\"landcolor\":\"white\",\"showlakes\":true,\"showland\":true,\"subunitcolor\":\"#C8D4E3\"},\"hoverlabel\":{\"align\":\"left\"},\"hovermode\":\"closest\",\"mapbox\":{\"style\":\"light\"},\"paper_bgcolor\":\"white\",\"plot_bgcolor\":\"white\",\"polar\":{\"angularaxis\":{\"gridcolor\":\"#EBF0F8\",\"linecolor\":\"#EBF0F8\",\"ticks\":\"\"},\"bgcolor\":\"white\",\"radialaxis\":{\"gridcolor\":\"#EBF0F8\",\"linecolor\":\"#EBF0F8\",\"ticks\":\"\"}},\"scene\":{\"xaxis\":{\"backgroundcolor\":\"white\",\"gridcolor\":\"#DFE8F3\",\"gridwidth\":2,\"linecolor\":\"#EBF0F8\",\"showbackground\":true,\"ticks\":\"\",\"zerolinecolor\":\"#EBF0F8\"},\"yaxis\":{\"backgroundcolor\":\"white\",\"gridcolor\":\"#DFE8F3\",\"gridwidth\":2,\"linecolor\":\"#EBF0F8\",\"showbackground\":true,\"ticks\":\"\",\"zerolinecolor\":\"#EBF0F8\"},\"zaxis\":{\"backgroundcolor\":\"white\",\"gridcolor\":\"#DFE8F3\",\"gridwidth\":2,\"linecolor\":\"#EBF0F8\",\"showbackground\":true,\"ticks\":\"\",\"zerolinecolor\":\"#EBF0F8\"}},\"shapedefaults\":{\"line\":{\"color\":\"#2a3f5f\"}},\"ternary\":{\"aaxis\":{\"gridcolor\":\"#DFE8F3\",\"linecolor\":\"#A2B1C6\",\"ticks\":\"\"},\"baxis\":{\"gridcolor\":\"#DFE8F3\",\"linecolor\":\"#A2B1C6\",\"ticks\":\"\"},\"bgcolor\":\"white\",\"caxis\":{\"gridcolor\":\"#DFE8F3\",\"linecolor\":\"#A2B1C6\",\"ticks\":\"\"}},\"title\":{\"x\":0.05},\"xaxis\":{\"automargin\":true,\"gridcolor\":\"#EBF0F8\",\"linecolor\":\"#EBF0F8\",\"ticks\":\"\",\"title\":{\"standoff\":15},\"zerolinecolor\":\"#EBF0F8\",\"zerolinewidth\":2},\"yaxis\":{\"automargin\":true,\"gridcolor\":\"#EBF0F8\",\"linecolor\":\"#EBF0F8\",\"ticks\":\"\",\"title\":{\"standoff\":15},\"zerolinecolor\":\"#EBF0F8\",\"zerolinewidth\":2}}},\"xaxis\":{\"anchor\":\"y\",\"domain\":[0.0,1.0],\"title\":{\"text\":\"A\\u00f1o\"}},\"yaxis\":{\"anchor\":\"x\",\"domain\":[0.0,1.0],\"title\":{\"text\":\"#1 por a\\u00f1o\"}},\"legend\":{\"title\":{\"text\":\"Artist\"},\"tracegroupgap\":0,\"orientation\":\"h\",\"yanchor\":\"bottom\",\"y\":-0.3,\"xanchor\":\"center\",\"x\":0.5},\"title\":{\"text\":\" Evoluci\\u00f3n temporal de los top 10 artistas con canciones en el puesto #1\"},\"height\":600},                        {\"responsive\": true}                    ).then(function(){\n                            \nvar gd = document.getElementById('310f82eb-bb47-4257-9ded-32d7d6ca657a');\nvar x = new MutationObserver(function (mutations, observer) {{\n        var display = window.getComputedStyle(gd).display;\n        if (!display || display === 'none') {{\n            console.log([gd, 'removed!']);\n            Plotly.purge(gd);\n            observer.disconnect();\n        }}\n}});\n\n// Listen for the removal of the full notebook cells\nvar notebookContainer = gd.closest('#notebook-container');\nif (notebookContainer) {{\n    x.observe(notebookContainer, {childList: true});\n}}\n\n// Listen for the clearing of the current output cell\nvar outputEl = gd.closest('.output');\nif (outputEl) {{\n    x.observe(outputEl, {childList: true});\n}}\n\n                        })                };            </script>        </div>\n</body>\n</html>"
                    },
                    "metadata": {},
                    "output_type": "display_data"
                }
            ],
            "outputs_reference": "s3:deepnote-cell-outputs-production/bda30747-f3a2-43ed-aa4e-c3df7c0bef1b",
            "content_dependencies": {
                "usedVariables": [
                    "artist_counts",
                    "artist_year_counts",
                    "fig",
                    "px",
                    "top_10_artists",
                    "top_10_data",
                    "top_hits"
                ],
                "importedModules": [
                    "px"
                ],
                "definedVariables": [
                    "artist_year_counts",
                    "fig",
                    "top_10_artists",
                    "top_10_data"
                ]
            }
        },
        {
            "cell_type": "code",
            "metadata": {
                "source_hash": "d0275de8",
                "execution_start": 1759170123454,
                "execution_millis": 37,
                "execution_context_id": "4ef6d4f7-8ec5-446f-b603-2dfdf389b9e1",
                "deepnote_app_block_order": 12,
                "deepnote_app_block_visible": true,
                "deepnote_app_block_group_id": null,
                "deepnote_app_is_code_hidden": false,
                "deepnote_app_is_output_hidden": false,
                "cell_id": "5b0876f734ab4180965b752eaa9edfa2",
                "deepnote_cell_type": "code"
            },
            "source": "top_1 = df[df['Peak_Position'] == 1].copy()\n# Extraer el año\ntop_1['year'] = top_1['Date'].dt.year\n\n# Contar artistas únicos por año\nartistas_por_anio = top_1.groupby('Year')['Artist'].nunique().reset_index()\nartistas_por_anio.columns = ['año', 'artistas_unicos_en_posicion_1']\n\nprint(artistas_por_anio)\n\nfig = px.line(\n    artistas_por_anio,\n    x='año',\n    y='artistas_unicos_en_posicion_1',\n    markers=True,\n    title='Artistas únicos en la posición #1 por año',\n    labels={\n        'anio': 'Año',\n        'artistas_unicos_en_posicion_1': 'Artistas únicos en #1'\n    }\n)\n\nfig.update_layout(\n    xaxis=dict(dtick=1),\n    yaxis=dict(title='Cantidad de artistas'),\n    hovermode='x unified'\n)\n\nfig.show()\n\n",
            "block_group": "624113fd7f7f4eee83f738da41502f2c",
            "execution_count": 14,
            "outputs": [
                {
                    "name": "stdout",
                    "text": "     año  artistas_unicos_en_posicion_1\n0   2013                            182\n1   2014                            140\n2   2015                            124\n3   2016                            144\n4   2017                            166\n5   2018                            200\n6   2019                            198\n7   2020                            253\n8   2021                            239\n9   2022                            229\n10  2023                            197\n11  2024                            199\n12  2025                            132\n",
                    "output_type": "stream"
                },
                {
                    "data": {
                        "text/html": "<html>\n<head><meta charset=\"utf-8\" /></head>\n<body>\n    <div>            <script src=\"https://cdnjs.cloudflare.com/ajax/libs/mathjax/2.7.5/MathJax.js?config=TeX-AMS-MML_SVG\"></script><script type=\"text/javascript\">if (window.MathJax && window.MathJax.Hub && window.MathJax.Hub.Config) {window.MathJax.Hub.Config({SVG: {font: \"STIX-Web\"}});}</script>                <script type=\"text/javascript\">window.PlotlyConfig = {MathJaxConfig: 'local'};</script>\n        <script charset=\"utf-8\" src=\"https://cdn.plot.ly/plotly-3.1.0.min.js\" integrity=\"sha256-Ei4740bWZhaUTQuD6q9yQlgVCMPBz6CZWhevDYPv93A=\" crossorigin=\"anonymous\"></script>                <div id=\"29b71cf0-9bfd-4eb2-8fc8-236120c549fa\" class=\"plotly-graph-div\" style=\"height:525px; width:100%;\"></div>            <script type=\"text/javascript\">                window.PLOTLYENV=window.PLOTLYENV || {};                                if (document.getElementById(\"29b71cf0-9bfd-4eb2-8fc8-236120c549fa\")) {                    Plotly.newPlot(                        \"29b71cf0-9bfd-4eb2-8fc8-236120c549fa\",                        [{\"hovertemplate\":\"a\\u00f1o=%{x}\\u003cbr\\u003eArtistas \\u00fanicos en #1=%{y}\\u003cextra\\u003e\\u003c\\u002fextra\\u003e\",\"legendgroup\":\"\",\"line\":{\"color\":\"#636efa\",\"dash\":\"solid\"},\"marker\":{\"symbol\":\"circle\"},\"mode\":\"lines+markers\",\"name\":\"\",\"orientation\":\"v\",\"showlegend\":false,\"x\":{\"dtype\":\"i4\",\"bdata\":\"3QcAAN4HAADfBwAA4AcAAOEHAADiBwAA4wcAAOQHAADlBwAA5gcAAOcHAADoBwAA6QcAAA==\"},\"xaxis\":\"x\",\"y\":{\"dtype\":\"i2\",\"bdata\":\"tgCMAHwAkACmAMgAxgD9AO8A5QDFAMcAhAA=\"},\"yaxis\":\"y\",\"type\":\"scatter\"}],                        {\"template\":{\"data\":{\"histogram2dcontour\":[{\"type\":\"histogram2dcontour\",\"colorbar\":{\"outlinewidth\":0,\"ticks\":\"\"},\"colorscale\":[[0.0,\"#0d0887\"],[0.1111111111111111,\"#46039f\"],[0.2222222222222222,\"#7201a8\"],[0.3333333333333333,\"#9c179e\"],[0.4444444444444444,\"#bd3786\"],[0.5555555555555556,\"#d8576b\"],[0.6666666666666666,\"#ed7953\"],[0.7777777777777778,\"#fb9f3a\"],[0.8888888888888888,\"#fdca26\"],[1.0,\"#f0f921\"]]}],\"choropleth\":[{\"type\":\"choropleth\",\"colorbar\":{\"outlinewidth\":0,\"ticks\":\"\"}}],\"histogram2d\":[{\"type\":\"histogram2d\",\"colorbar\":{\"outlinewidth\":0,\"ticks\":\"\"},\"colorscale\":[[0.0,\"#0d0887\"],[0.1111111111111111,\"#46039f\"],[0.2222222222222222,\"#7201a8\"],[0.3333333333333333,\"#9c179e\"],[0.4444444444444444,\"#bd3786\"],[0.5555555555555556,\"#d8576b\"],[0.6666666666666666,\"#ed7953\"],[0.7777777777777778,\"#fb9f3a\"],[0.8888888888888888,\"#fdca26\"],[1.0,\"#f0f921\"]]}],\"heatmap\":[{\"type\":\"heatmap\",\"colorbar\":{\"outlinewidth\":0,\"ticks\":\"\"},\"colorscale\":[[0.0,\"#0d0887\"],[0.1111111111111111,\"#46039f\"],[0.2222222222222222,\"#7201a8\"],[0.3333333333333333,\"#9c179e\"],[0.4444444444444444,\"#bd3786\"],[0.5555555555555556,\"#d8576b\"],[0.6666666666666666,\"#ed7953\"],[0.7777777777777778,\"#fb9f3a\"],[0.8888888888888888,\"#fdca26\"],[1.0,\"#f0f921\"]]}],\"contourcarpet\":[{\"type\":\"contourcarpet\",\"colorbar\":{\"outlinewidth\":0,\"ticks\":\"\"}}],\"contour\":[{\"type\":\"contour\",\"colorbar\":{\"outlinewidth\":0,\"ticks\":\"\"},\"colorscale\":[[0.0,\"#0d0887\"],[0.1111111111111111,\"#46039f\"],[0.2222222222222222,\"#7201a8\"],[0.3333333333333333,\"#9c179e\"],[0.4444444444444444,\"#bd3786\"],[0.5555555555555556,\"#d8576b\"],[0.6666666666666666,\"#ed7953\"],[0.7777777777777778,\"#fb9f3a\"],[0.8888888888888888,\"#fdca26\"],[1.0,\"#f0f921\"]]}],\"surface\":[{\"type\":\"surface\",\"colorbar\":{\"outlinewidth\":0,\"ticks\":\"\"},\"colorscale\":[[0.0,\"#0d0887\"],[0.1111111111111111,\"#46039f\"],[0.2222222222222222,\"#7201a8\"],[0.3333333333333333,\"#9c179e\"],[0.4444444444444444,\"#bd3786\"],[0.5555555555555556,\"#d8576b\"],[0.6666666666666666,\"#ed7953\"],[0.7777777777777778,\"#fb9f3a\"],[0.8888888888888888,\"#fdca26\"],[1.0,\"#f0f921\"]]}],\"mesh3d\":[{\"type\":\"mesh3d\",\"colorbar\":{\"outlinewidth\":0,\"ticks\":\"\"}}],\"scatter\":[{\"fillpattern\":{\"fillmode\":\"overlay\",\"size\":10,\"solidity\":0.2},\"type\":\"scatter\"}],\"parcoords\":[{\"type\":\"parcoords\",\"line\":{\"colorbar\":{\"outlinewidth\":0,\"ticks\":\"\"}}}],\"scatterpolargl\":[{\"type\":\"scatterpolargl\",\"marker\":{\"colorbar\":{\"outlinewidth\":0,\"ticks\":\"\"}}}],\"bar\":[{\"error_x\":{\"color\":\"#2a3f5f\"},\"error_y\":{\"color\":\"#2a3f5f\"},\"marker\":{\"line\":{\"color\":\"#E5ECF6\",\"width\":0.5},\"pattern\":{\"fillmode\":\"overlay\",\"size\":10,\"solidity\":0.2}},\"type\":\"bar\"}],\"scattergeo\":[{\"type\":\"scattergeo\",\"marker\":{\"colorbar\":{\"outlinewidth\":0,\"ticks\":\"\"}}}],\"scatterpolar\":[{\"type\":\"scatterpolar\",\"marker\":{\"colorbar\":{\"outlinewidth\":0,\"ticks\":\"\"}}}],\"histogram\":[{\"marker\":{\"pattern\":{\"fillmode\":\"overlay\",\"size\":10,\"solidity\":0.2}},\"type\":\"histogram\"}],\"scattergl\":[{\"type\":\"scattergl\",\"marker\":{\"colorbar\":{\"outlinewidth\":0,\"ticks\":\"\"}}}],\"scatter3d\":[{\"type\":\"scatter3d\",\"line\":{\"colorbar\":{\"outlinewidth\":0,\"ticks\":\"\"}},\"marker\":{\"colorbar\":{\"outlinewidth\":0,\"ticks\":\"\"}}}],\"scattermap\":[{\"type\":\"scattermap\",\"marker\":{\"colorbar\":{\"outlinewidth\":0,\"ticks\":\"\"}}}],\"scattermapbox\":[{\"type\":\"scattermapbox\",\"marker\":{\"colorbar\":{\"outlinewidth\":0,\"ticks\":\"\"}}}],\"scatterternary\":[{\"type\":\"scatterternary\",\"marker\":{\"colorbar\":{\"outlinewidth\":0,\"ticks\":\"\"}}}],\"scattercarpet\":[{\"type\":\"scattercarpet\",\"marker\":{\"colorbar\":{\"outlinewidth\":0,\"ticks\":\"\"}}}],\"carpet\":[{\"aaxis\":{\"endlinecolor\":\"#2a3f5f\",\"gridcolor\":\"white\",\"linecolor\":\"white\",\"minorgridcolor\":\"white\",\"startlinecolor\":\"#2a3f5f\"},\"baxis\":{\"endlinecolor\":\"#2a3f5f\",\"gridcolor\":\"white\",\"linecolor\":\"white\",\"minorgridcolor\":\"white\",\"startlinecolor\":\"#2a3f5f\"},\"type\":\"carpet\"}],\"table\":[{\"cells\":{\"fill\":{\"color\":\"#EBF0F8\"},\"line\":{\"color\":\"white\"}},\"header\":{\"fill\":{\"color\":\"#C8D4E3\"},\"line\":{\"color\":\"white\"}},\"type\":\"table\"}],\"barpolar\":[{\"marker\":{\"line\":{\"color\":\"#E5ECF6\",\"width\":0.5},\"pattern\":{\"fillmode\":\"overlay\",\"size\":10,\"solidity\":0.2}},\"type\":\"barpolar\"}],\"pie\":[{\"automargin\":true,\"type\":\"pie\"}]},\"layout\":{\"autotypenumbers\":\"strict\",\"colorway\":[\"#636efa\",\"#EF553B\",\"#00cc96\",\"#ab63fa\",\"#FFA15A\",\"#19d3f3\",\"#FF6692\",\"#B6E880\",\"#FF97FF\",\"#FECB52\"],\"font\":{\"color\":\"#2a3f5f\"},\"hovermode\":\"closest\",\"hoverlabel\":{\"align\":\"left\"},\"paper_bgcolor\":\"white\",\"plot_bgcolor\":\"#E5ECF6\",\"polar\":{\"bgcolor\":\"#E5ECF6\",\"angularaxis\":{\"gridcolor\":\"white\",\"linecolor\":\"white\",\"ticks\":\"\"},\"radialaxis\":{\"gridcolor\":\"white\",\"linecolor\":\"white\",\"ticks\":\"\"}},\"ternary\":{\"bgcolor\":\"#E5ECF6\",\"aaxis\":{\"gridcolor\":\"white\",\"linecolor\":\"white\",\"ticks\":\"\"},\"baxis\":{\"gridcolor\":\"white\",\"linecolor\":\"white\",\"ticks\":\"\"},\"caxis\":{\"gridcolor\":\"white\",\"linecolor\":\"white\",\"ticks\":\"\"}},\"coloraxis\":{\"colorbar\":{\"outlinewidth\":0,\"ticks\":\"\"}},\"colorscale\":{\"sequential\":[[0.0,\"#0d0887\"],[0.1111111111111111,\"#46039f\"],[0.2222222222222222,\"#7201a8\"],[0.3333333333333333,\"#9c179e\"],[0.4444444444444444,\"#bd3786\"],[0.5555555555555556,\"#d8576b\"],[0.6666666666666666,\"#ed7953\"],[0.7777777777777778,\"#fb9f3a\"],[0.8888888888888888,\"#fdca26\"],[1.0,\"#f0f921\"]],\"sequentialminus\":[[0.0,\"#0d0887\"],[0.1111111111111111,\"#46039f\"],[0.2222222222222222,\"#7201a8\"],[0.3333333333333333,\"#9c179e\"],[0.4444444444444444,\"#bd3786\"],[0.5555555555555556,\"#d8576b\"],[0.6666666666666666,\"#ed7953\"],[0.7777777777777778,\"#fb9f3a\"],[0.8888888888888888,\"#fdca26\"],[1.0,\"#f0f921\"]],\"diverging\":[[0,\"#8e0152\"],[0.1,\"#c51b7d\"],[0.2,\"#de77ae\"],[0.3,\"#f1b6da\"],[0.4,\"#fde0ef\"],[0.5,\"#f7f7f7\"],[0.6,\"#e6f5d0\"],[0.7,\"#b8e186\"],[0.8,\"#7fbc41\"],[0.9,\"#4d9221\"],[1,\"#276419\"]]},\"xaxis\":{\"gridcolor\":\"white\",\"linecolor\":\"white\",\"ticks\":\"\",\"title\":{\"standoff\":15},\"zerolinecolor\":\"white\",\"automargin\":true,\"zerolinewidth\":2},\"yaxis\":{\"gridcolor\":\"white\",\"linecolor\":\"white\",\"ticks\":\"\",\"title\":{\"standoff\":15},\"zerolinecolor\":\"white\",\"automargin\":true,\"zerolinewidth\":2},\"scene\":{\"xaxis\":{\"backgroundcolor\":\"#E5ECF6\",\"gridcolor\":\"white\",\"linecolor\":\"white\",\"showbackground\":true,\"ticks\":\"\",\"zerolinecolor\":\"white\",\"gridwidth\":2},\"yaxis\":{\"backgroundcolor\":\"#E5ECF6\",\"gridcolor\":\"white\",\"linecolor\":\"white\",\"showbackground\":true,\"ticks\":\"\",\"zerolinecolor\":\"white\",\"gridwidth\":2},\"zaxis\":{\"backgroundcolor\":\"#E5ECF6\",\"gridcolor\":\"white\",\"linecolor\":\"white\",\"showbackground\":true,\"ticks\":\"\",\"zerolinecolor\":\"white\",\"gridwidth\":2}},\"shapedefaults\":{\"line\":{\"color\":\"#2a3f5f\"}},\"annotationdefaults\":{\"arrowcolor\":\"#2a3f5f\",\"arrowhead\":0,\"arrowwidth\":1},\"geo\":{\"bgcolor\":\"white\",\"landcolor\":\"#E5ECF6\",\"subunitcolor\":\"white\",\"showland\":true,\"showlakes\":true,\"lakecolor\":\"white\"},\"title\":{\"x\":0.05},\"mapbox\":{\"style\":\"light\"}}},\"xaxis\":{\"anchor\":\"y\",\"domain\":[0.0,1.0],\"title\":{\"text\":\"a\\u00f1o\"},\"dtick\":1},\"yaxis\":{\"anchor\":\"x\",\"domain\":[0.0,1.0],\"title\":{\"text\":\"Cantidad de artistas\"}},\"legend\":{\"tracegroupgap\":0},\"title\":{\"text\":\"Artistas \\u00fanicos en la posici\\u00f3n #1 por a\\u00f1o\"},\"hovermode\":\"x unified\"},                        {\"responsive\": true}                    ).then(function(){\n                            \nvar gd = document.getElementById('29b71cf0-9bfd-4eb2-8fc8-236120c549fa');\nvar x = new MutationObserver(function (mutations, observer) {{\n        var display = window.getComputedStyle(gd).display;\n        if (!display || display === 'none') {{\n            console.log([gd, 'removed!']);\n            Plotly.purge(gd);\n            observer.disconnect();\n        }}\n}});\n\n// Listen for the removal of the full notebook cells\nvar notebookContainer = gd.closest('#notebook-container');\nif (notebookContainer) {{\n    x.observe(notebookContainer, {childList: true});\n}}\n\n// Listen for the clearing of the current output cell\nvar outputEl = gd.closest('.output');\nif (outputEl) {{\n    x.observe(outputEl, {childList: true});\n}}\n\n                        })                };            </script>        </div>\n</body>\n</html>"
                    },
                    "metadata": {},
                    "output_type": "display_data"
                }
            ],
            "outputs_reference": "s3:deepnote-cell-outputs-production/5b4ea251-5d46-41e5-bea3-585cfcd1e014",
            "content_dependencies": {
                "usedVariables": [
                    "artistas_por_anio",
                    "df",
                    "fig",
                    "px",
                    "top_1"
                ],
                "importedModules": [],
                "definedVariables": [
                    "artistas_por_anio",
                    "fig",
                    "top_1"
                ]
            }
        },
        {
            "cell_type": "code",
            "metadata": {
                "source_hash": "56b1a72e",
                "execution_start": 1759170123544,
                "execution_millis": 0,
                "execution_context_id": "4ef6d4f7-8ec5-446f-b603-2dfdf389b9e1",
                "deepnote_app_block_order": 13,
                "deepnote_app_block_visible": true,
                "deepnote_app_block_group_id": null,
                "deepnote_app_is_code_hidden": false,
                "deepnote_app_is_output_hidden": false,
                "cell_id": "136e2f2eb9ef45fcb6e32d90d377bda0",
                "deepnote_cell_type": "code"
            },
            "source": "\n\n# mejor posición que alcanzó cada canción\nbest_positions = df.groupby(\"Song\", as_index=False)[\"Peak_Position\"].min()\n\n# Unir con los artistas \nsong_artist = df.groupby(\"Song\", as_index=False)[\"Artist\"].first()\n\n# Merge para tener artista + mejor posición\nmerged = pd.merge(best_positions, song_artist, on=\"Song\")\n\n# Filtrar canciones que llegaron al top 10\ntop_10_songs = merged[merged[\"Peak_Position\"] <= 10]\n\n#  artistas únicos que llegaron al top 10\ntop_10_artists = top_10_songs[\"Artist\"].unique()\n\n# Contar cuántos artistas son\nnum_top_10_artists = len(top_10_artists)\n\nprint(f\" Total de artistas que llegaron alguna vez al top 10: {num_top_10_artists}\")",
            "block_group": "5d9f66ffc5834553bd2c1de31da0f8ae",
            "execution_count": 15,
            "outputs": [
                {
                    "name": "stdout",
                    "text": " Total de artistas que llegaron alguna vez al top 10: 1700\n",
                    "output_type": "stream"
                }
            ],
            "outputs_reference": "dbtable:cell_outputs/9926a52e-6db3-445c-b790-ef34610f777e",
            "content_dependencies": {
                "usedVariables": [
                    "best_positions",
                    "df",
                    "merged",
                    "num_top_10_artists",
                    "pd",
                    "song_artist",
                    "top_10_artists",
                    "top_10_songs"
                ],
                "importedModules": [],
                "definedVariables": [
                    "best_positions",
                    "merged",
                    "num_top_10_artists",
                    "song_artist",
                    "top_10_artists",
                    "top_10_songs"
                ]
            }
        },
        {
            "cell_type": "code",
            "metadata": {
                "source_hash": "30868dcf",
                "execution_start": 1759170123594,
                "execution_millis": 47,
                "sql_integration_id": "",
                "execution_context_id": "4ef6d4f7-8ec5-446f-b603-2dfdf389b9e1",
                "deepnote_variable_name": "",
                "deepnote_app_is_code_hidden": false,
                "cell_id": "5e22e80f965343eda45fb80c5d166703",
                "deepnote_cell_type": "code"
            },
            "source": "# Revisar el error y corregir el código\n# Parece que hay un error en la creación del DataFrame, ya que se está utilizando el índice en lugar de los valores de la columna \"Artist\".\n\n# Corregir el código\n# Crear un DataFrame con los 10 artistas con más semanas en la última posición\nlast_position_hits = df[df[\"Rank\"] == 50]\n\n# Contar el número de semanas que cada artista ha estado en la última posición\nlast_position_counts = last_position_hits[\"Artist\"].value_counts().head(10)\n\n# Crear un DataFrame para los 10 artistas con más semanas en la última posición\ntop_10_last_position = last_position_counts.reset_index()\ntop_10_last_position.columns = [\"Artist\", \"Weeks in Last Position\"]\n\n# Graficar\nfig = px.bar(\n    top_10_last_position,\n    x=\"Weeks in Last Position\",\n    y=\"Artist\",\n    orientation=\"h\",\n    title=\"Top 10 Artistas con más semanas en la última posición\",\n    text=\"Weeks in Last Position\"\n)\n\nfig.update_traces(texttemplate='%{text}', textposition='inside')\nfig.update_layout(\n    xaxis_title=\"Semanas en la última posición\",\n    yaxis_title=\"Artista\",\n    template=\"plotly_white\",\n    height=600\n)\n\nfig.show()",
            "block_group": "0898aea5805d4019820e3ccf881f2f55",
            "execution_count": 16,
            "outputs": [
                {
                    "data": {
                        "text/html": "<html>\n<head><meta charset=\"utf-8\" /></head>\n<body>\n    <div>            <script src=\"https://cdnjs.cloudflare.com/ajax/libs/mathjax/2.7.5/MathJax.js?config=TeX-AMS-MML_SVG\"></script><script type=\"text/javascript\">if (window.MathJax && window.MathJax.Hub && window.MathJax.Hub.Config) {window.MathJax.Hub.Config({SVG: {font: \"STIX-Web\"}});}</script>                <script type=\"text/javascript\">window.PlotlyConfig = {MathJaxConfig: 'local'};</script>\n        <script charset=\"utf-8\" src=\"https://cdn.plot.ly/plotly-3.1.0.min.js\" integrity=\"sha256-Ei4740bWZhaUTQuD6q9yQlgVCMPBz6CZWhevDYPv93A=\" crossorigin=\"anonymous\"></script>                <div id=\"46a91274-d2ca-47aa-8270-9a00bdefdd63\" class=\"plotly-graph-div\" style=\"height:600px; width:100%;\"></div>            <script type=\"text/javascript\">                window.PLOTLYENV=window.PLOTLYENV || {};                                if (document.getElementById(\"46a91274-d2ca-47aa-8270-9a00bdefdd63\")) {                    Plotly.newPlot(                        \"46a91274-d2ca-47aa-8270-9a00bdefdd63\",                        [{\"hovertemplate\":\"Weeks in Last Position=%{text}\\u003cbr\\u003eArtist=%{y}\\u003cextra\\u003e\\u003c\\u002fextra\\u003e\",\"legendgroup\":\"\",\"marker\":{\"color\":\"#636efa\",\"pattern\":{\"shape\":\"\"}},\"name\":\"\",\"orientation\":\"h\",\"showlegend\":false,\"text\":{\"dtype\":\"f8\",\"bdata\":\"AAAAAAAAKEAAAAAAAAAoQAAAAAAAAChAAAAAAAAAJEAAAAAAAAAiQAAAAAAAABxAAAAAAAAAHEAAAAAAAAAYQAAAAAAAABhAAAAAAAAAGEA=\"},\"textposition\":\"inside\",\"x\":{\"dtype\":\"i1\",\"bdata\":\"DAwMCgkHBwYGBg==\"},\"xaxis\":\"x\",\"y\":[\"Chris Stapleton\",\"Taylor Swift\",\"Morgan Wallen\",\"Drake\",\"Luke Combs\",\"Tate McRae\",\"Imagine Dragons\",\"XXXTENTACION\",\"Kendrick Lamar\",\"Ariana Grande\"],\"yaxis\":\"y\",\"type\":\"bar\",\"texttemplate\":\"%{text}\"}],                        {\"template\":{\"data\":{\"barpolar\":[{\"marker\":{\"line\":{\"color\":\"white\",\"width\":0.5},\"pattern\":{\"fillmode\":\"overlay\",\"size\":10,\"solidity\":0.2}},\"type\":\"barpolar\"}],\"bar\":[{\"error_x\":{\"color\":\"#2a3f5f\"},\"error_y\":{\"color\":\"#2a3f5f\"},\"marker\":{\"line\":{\"color\":\"white\",\"width\":0.5},\"pattern\":{\"fillmode\":\"overlay\",\"size\":10,\"solidity\":0.2}},\"type\":\"bar\"}],\"carpet\":[{\"aaxis\":{\"endlinecolor\":\"#2a3f5f\",\"gridcolor\":\"#C8D4E3\",\"linecolor\":\"#C8D4E3\",\"minorgridcolor\":\"#C8D4E3\",\"startlinecolor\":\"#2a3f5f\"},\"baxis\":{\"endlinecolor\":\"#2a3f5f\",\"gridcolor\":\"#C8D4E3\",\"linecolor\":\"#C8D4E3\",\"minorgridcolor\":\"#C8D4E3\",\"startlinecolor\":\"#2a3f5f\"},\"type\":\"carpet\"}],\"choropleth\":[{\"colorbar\":{\"outlinewidth\":0,\"ticks\":\"\"},\"type\":\"choropleth\"}],\"contourcarpet\":[{\"colorbar\":{\"outlinewidth\":0,\"ticks\":\"\"},\"type\":\"contourcarpet\"}],\"contour\":[{\"colorbar\":{\"outlinewidth\":0,\"ticks\":\"\"},\"colorscale\":[[0.0,\"#0d0887\"],[0.1111111111111111,\"#46039f\"],[0.2222222222222222,\"#7201a8\"],[0.3333333333333333,\"#9c179e\"],[0.4444444444444444,\"#bd3786\"],[0.5555555555555556,\"#d8576b\"],[0.6666666666666666,\"#ed7953\"],[0.7777777777777778,\"#fb9f3a\"],[0.8888888888888888,\"#fdca26\"],[1.0,\"#f0f921\"]],\"type\":\"contour\"}],\"heatmap\":[{\"colorbar\":{\"outlinewidth\":0,\"ticks\":\"\"},\"colorscale\":[[0.0,\"#0d0887\"],[0.1111111111111111,\"#46039f\"],[0.2222222222222222,\"#7201a8\"],[0.3333333333333333,\"#9c179e\"],[0.4444444444444444,\"#bd3786\"],[0.5555555555555556,\"#d8576b\"],[0.6666666666666666,\"#ed7953\"],[0.7777777777777778,\"#fb9f3a\"],[0.8888888888888888,\"#fdca26\"],[1.0,\"#f0f921\"]],\"type\":\"heatmap\"}],\"histogram2dcontour\":[{\"colorbar\":{\"outlinewidth\":0,\"ticks\":\"\"},\"colorscale\":[[0.0,\"#0d0887\"],[0.1111111111111111,\"#46039f\"],[0.2222222222222222,\"#7201a8\"],[0.3333333333333333,\"#9c179e\"],[0.4444444444444444,\"#bd3786\"],[0.5555555555555556,\"#d8576b\"],[0.6666666666666666,\"#ed7953\"],[0.7777777777777778,\"#fb9f3a\"],[0.8888888888888888,\"#fdca26\"],[1.0,\"#f0f921\"]],\"type\":\"histogram2dcontour\"}],\"histogram2d\":[{\"colorbar\":{\"outlinewidth\":0,\"ticks\":\"\"},\"colorscale\":[[0.0,\"#0d0887\"],[0.1111111111111111,\"#46039f\"],[0.2222222222222222,\"#7201a8\"],[0.3333333333333333,\"#9c179e\"],[0.4444444444444444,\"#bd3786\"],[0.5555555555555556,\"#d8576b\"],[0.6666666666666666,\"#ed7953\"],[0.7777777777777778,\"#fb9f3a\"],[0.8888888888888888,\"#fdca26\"],[1.0,\"#f0f921\"]],\"type\":\"histogram2d\"}],\"histogram\":[{\"marker\":{\"pattern\":{\"fillmode\":\"overlay\",\"size\":10,\"solidity\":0.2}},\"type\":\"histogram\"}],\"mesh3d\":[{\"colorbar\":{\"outlinewidth\":0,\"ticks\":\"\"},\"type\":\"mesh3d\"}],\"parcoords\":[{\"line\":{\"colorbar\":{\"outlinewidth\":0,\"ticks\":\"\"}},\"type\":\"parcoords\"}],\"pie\":[{\"automargin\":true,\"type\":\"pie\"}],\"scatter3d\":[{\"line\":{\"colorbar\":{\"outlinewidth\":0,\"ticks\":\"\"}},\"marker\":{\"colorbar\":{\"outlinewidth\":0,\"ticks\":\"\"}},\"type\":\"scatter3d\"}],\"scattercarpet\":[{\"marker\":{\"colorbar\":{\"outlinewidth\":0,\"ticks\":\"\"}},\"type\":\"scattercarpet\"}],\"scattergeo\":[{\"marker\":{\"colorbar\":{\"outlinewidth\":0,\"ticks\":\"\"}},\"type\":\"scattergeo\"}],\"scattergl\":[{\"marker\":{\"colorbar\":{\"outlinewidth\":0,\"ticks\":\"\"}},\"type\":\"scattergl\"}],\"scattermapbox\":[{\"marker\":{\"colorbar\":{\"outlinewidth\":0,\"ticks\":\"\"}},\"type\":\"scattermapbox\"}],\"scattermap\":[{\"marker\":{\"colorbar\":{\"outlinewidth\":0,\"ticks\":\"\"}},\"type\":\"scattermap\"}],\"scatterpolargl\":[{\"marker\":{\"colorbar\":{\"outlinewidth\":0,\"ticks\":\"\"}},\"type\":\"scatterpolargl\"}],\"scatterpolar\":[{\"marker\":{\"colorbar\":{\"outlinewidth\":0,\"ticks\":\"\"}},\"type\":\"scatterpolar\"}],\"scatter\":[{\"fillpattern\":{\"fillmode\":\"overlay\",\"size\":10,\"solidity\":0.2},\"type\":\"scatter\"}],\"scatterternary\":[{\"marker\":{\"colorbar\":{\"outlinewidth\":0,\"ticks\":\"\"}},\"type\":\"scatterternary\"}],\"surface\":[{\"colorbar\":{\"outlinewidth\":0,\"ticks\":\"\"},\"colorscale\":[[0.0,\"#0d0887\"],[0.1111111111111111,\"#46039f\"],[0.2222222222222222,\"#7201a8\"],[0.3333333333333333,\"#9c179e\"],[0.4444444444444444,\"#bd3786\"],[0.5555555555555556,\"#d8576b\"],[0.6666666666666666,\"#ed7953\"],[0.7777777777777778,\"#fb9f3a\"],[0.8888888888888888,\"#fdca26\"],[1.0,\"#f0f921\"]],\"type\":\"surface\"}],\"table\":[{\"cells\":{\"fill\":{\"color\":\"#EBF0F8\"},\"line\":{\"color\":\"white\"}},\"header\":{\"fill\":{\"color\":\"#C8D4E3\"},\"line\":{\"color\":\"white\"}},\"type\":\"table\"}]},\"layout\":{\"annotationdefaults\":{\"arrowcolor\":\"#2a3f5f\",\"arrowhead\":0,\"arrowwidth\":1},\"autotypenumbers\":\"strict\",\"coloraxis\":{\"colorbar\":{\"outlinewidth\":0,\"ticks\":\"\"}},\"colorscale\":{\"diverging\":[[0,\"#8e0152\"],[0.1,\"#c51b7d\"],[0.2,\"#de77ae\"],[0.3,\"#f1b6da\"],[0.4,\"#fde0ef\"],[0.5,\"#f7f7f7\"],[0.6,\"#e6f5d0\"],[0.7,\"#b8e186\"],[0.8,\"#7fbc41\"],[0.9,\"#4d9221\"],[1,\"#276419\"]],\"sequential\":[[0.0,\"#0d0887\"],[0.1111111111111111,\"#46039f\"],[0.2222222222222222,\"#7201a8\"],[0.3333333333333333,\"#9c179e\"],[0.4444444444444444,\"#bd3786\"],[0.5555555555555556,\"#d8576b\"],[0.6666666666666666,\"#ed7953\"],[0.7777777777777778,\"#fb9f3a\"],[0.8888888888888888,\"#fdca26\"],[1.0,\"#f0f921\"]],\"sequentialminus\":[[0.0,\"#0d0887\"],[0.1111111111111111,\"#46039f\"],[0.2222222222222222,\"#7201a8\"],[0.3333333333333333,\"#9c179e\"],[0.4444444444444444,\"#bd3786\"],[0.5555555555555556,\"#d8576b\"],[0.6666666666666666,\"#ed7953\"],[0.7777777777777778,\"#fb9f3a\"],[0.8888888888888888,\"#fdca26\"],[1.0,\"#f0f921\"]]},\"colorway\":[\"#636efa\",\"#EF553B\",\"#00cc96\",\"#ab63fa\",\"#FFA15A\",\"#19d3f3\",\"#FF6692\",\"#B6E880\",\"#FF97FF\",\"#FECB52\"],\"font\":{\"color\":\"#2a3f5f\"},\"geo\":{\"bgcolor\":\"white\",\"lakecolor\":\"white\",\"landcolor\":\"white\",\"showlakes\":true,\"showland\":true,\"subunitcolor\":\"#C8D4E3\"},\"hoverlabel\":{\"align\":\"left\"},\"hovermode\":\"closest\",\"mapbox\":{\"style\":\"light\"},\"paper_bgcolor\":\"white\",\"plot_bgcolor\":\"white\",\"polar\":{\"angularaxis\":{\"gridcolor\":\"#EBF0F8\",\"linecolor\":\"#EBF0F8\",\"ticks\":\"\"},\"bgcolor\":\"white\",\"radialaxis\":{\"gridcolor\":\"#EBF0F8\",\"linecolor\":\"#EBF0F8\",\"ticks\":\"\"}},\"scene\":{\"xaxis\":{\"backgroundcolor\":\"white\",\"gridcolor\":\"#DFE8F3\",\"gridwidth\":2,\"linecolor\":\"#EBF0F8\",\"showbackground\":true,\"ticks\":\"\",\"zerolinecolor\":\"#EBF0F8\"},\"yaxis\":{\"backgroundcolor\":\"white\",\"gridcolor\":\"#DFE8F3\",\"gridwidth\":2,\"linecolor\":\"#EBF0F8\",\"showbackground\":true,\"ticks\":\"\",\"zerolinecolor\":\"#EBF0F8\"},\"zaxis\":{\"backgroundcolor\":\"white\",\"gridcolor\":\"#DFE8F3\",\"gridwidth\":2,\"linecolor\":\"#EBF0F8\",\"showbackground\":true,\"ticks\":\"\",\"zerolinecolor\":\"#EBF0F8\"}},\"shapedefaults\":{\"line\":{\"color\":\"#2a3f5f\"}},\"ternary\":{\"aaxis\":{\"gridcolor\":\"#DFE8F3\",\"linecolor\":\"#A2B1C6\",\"ticks\":\"\"},\"baxis\":{\"gridcolor\":\"#DFE8F3\",\"linecolor\":\"#A2B1C6\",\"ticks\":\"\"},\"bgcolor\":\"white\",\"caxis\":{\"gridcolor\":\"#DFE8F3\",\"linecolor\":\"#A2B1C6\",\"ticks\":\"\"}},\"title\":{\"x\":0.05},\"xaxis\":{\"automargin\":true,\"gridcolor\":\"#EBF0F8\",\"linecolor\":\"#EBF0F8\",\"ticks\":\"\",\"title\":{\"standoff\":15},\"zerolinecolor\":\"#EBF0F8\",\"zerolinewidth\":2},\"yaxis\":{\"automargin\":true,\"gridcolor\":\"#EBF0F8\",\"linecolor\":\"#EBF0F8\",\"ticks\":\"\",\"title\":{\"standoff\":15},\"zerolinecolor\":\"#EBF0F8\",\"zerolinewidth\":2}}},\"xaxis\":{\"anchor\":\"y\",\"domain\":[0.0,1.0],\"title\":{\"text\":\"Semanas en la \\u00faltima posici\\u00f3n\"}},\"yaxis\":{\"anchor\":\"x\",\"domain\":[0.0,1.0],\"title\":{\"text\":\"Artista\"}},\"legend\":{\"tracegroupgap\":0},\"title\":{\"text\":\"Top 10 Artistas con m\\u00e1s semanas en la \\u00faltima posici\\u00f3n\"},\"barmode\":\"relative\",\"height\":600},                        {\"responsive\": true}                    ).then(function(){\n                            \nvar gd = document.getElementById('46a91274-d2ca-47aa-8270-9a00bdefdd63');\nvar x = new MutationObserver(function (mutations, observer) {{\n        var display = window.getComputedStyle(gd).display;\n        if (!display || display === 'none') {{\n            console.log([gd, 'removed!']);\n            Plotly.purge(gd);\n            observer.disconnect();\n        }}\n}});\n\n// Listen for the removal of the full notebook cells\nvar notebookContainer = gd.closest('#notebook-container');\nif (notebookContainer) {{\n    x.observe(notebookContainer, {childList: true});\n}}\n\n// Listen for the clearing of the current output cell\nvar outputEl = gd.closest('.output');\nif (outputEl) {{\n    x.observe(outputEl, {childList: true});\n}}\n\n                        })                };            </script>        </div>\n</body>\n</html>"
                    },
                    "metadata": {},
                    "output_type": "display_data"
                }
            ],
            "outputs_reference": "s3:deepnote-cell-outputs-production/2948b255-3c53-480c-a770-21a7f033888d",
            "content_dependencies": {
                "usedVariables": [
                    "df",
                    "fig",
                    "last_position_counts",
                    "last_position_hits",
                    "px",
                    "top_10_last_position"
                ],
                "importedModules": [],
                "definedVariables": [
                    "fig",
                    "last_position_counts",
                    "last_position_hits",
                    "top_10_last_position"
                ]
            }
        },
        {
            "cell_type": "markdown",
            "metadata": {
                "cell_id": "8ad83cb0f3da431a86f7449e1c3fc70b",
                "deepnote_cell_type": "text-cell-p"
            },
            "source": "Here is a bar chart showing the Top 10 artists who have spent the most weeks at the last position in the ranking.",
            "block_group": "5f5ea806cb004de7be5ab6ae29c43b58"
        },
        {
            "cell_type": "markdown",
            "metadata": {
                "cell_id": "d4abc5b638d3457386c5432e6b559b59",
                "deepnote_cell_type": "text-cell-p"
            },
            "source": "Here is a bar chart showing the annual evolution of the top 4 artists with songs that reached the #1 position.",
            "block_group": "426b058459d94181a63a9468e11c4b59"
        },
        {
            "cell_type": "markdown",
            "source": "<a style='text-decoration:none;line-height:16px;display:flex;color:#5B5B62;padding:10px;justify-content:end;' href='https://deepnote.com?utm_source=created-in-deepnote-cell&projectId=a2cd30de-aa34-492f-bd7f-baf47d78ec21' target=\"_blank\">\n<img alt='Created in deepnote.com' style='display:inline;max-height:16px;margin:0px;margin-right:7.5px;' src='data:image/svg+xml;base64,PD94bWwgdmVyc2lvbj0iMS4wIiBlbmNvZGluZz0iVVRGLTgiPz4KPHN2ZyB3aWR0aD0iODBweCIgaGVpZ2h0PSI4MHB4IiB2aWV3Qm94PSIwIDAgODAgODAiIHZlcnNpb249IjEuMSIgeG1sbnM9Imh0dHA6Ly93d3cudzMub3JnLzIwMDAvc3ZnIiB4bWxuczp4bGluaz0iaHR0cDovL3d3dy53My5vcmcvMTk5OS94bGluayI+CiAgICA8IS0tIEdlbmVyYXRvcjogU2tldGNoIDU0LjEgKDc2NDkwKSAtIGh0dHBzOi8vc2tldGNoYXBwLmNvbSAtLT4KICAgIDx0aXRsZT5Hcm91cCAzPC90aXRsZT4KICAgIDxkZXNjPkNyZWF0ZWQgd2l0aCBTa2V0Y2guPC9kZXNjPgogICAgPGcgaWQ9IkxhbmRpbmciIHN0cm9rZT0ibm9uZSIgc3Ryb2tlLXdpZHRoPSIxIiBmaWxsPSJub25lIiBmaWxsLXJ1bGU9ImV2ZW5vZGQiPgogICAgICAgIDxnIGlkPSJBcnRib2FyZCIgdHJhbnNmb3JtPSJ0cmFuc2xhdGUoLTEyMzUuMDAwMDAwLCAtNzkuMDAwMDAwKSI+CiAgICAgICAgICAgIDxnIGlkPSJHcm91cC0zIiB0cmFuc2Zvcm09InRyYW5zbGF0ZSgxMjM1LjAwMDAwMCwgNzkuMDAwMDAwKSI+CiAgICAgICAgICAgICAgICA8cG9seWdvbiBpZD0iUGF0aC0yMCIgZmlsbD0iIzAyNjVCNCIgcG9pbnRzPSIyLjM3NjIzNzYyIDgwIDM4LjA0NzY2NjcgODAgNTcuODIxNzgyMiA3My44MDU3NTkyIDU3LjgyMTc4MjIgMzIuNzU5MjczOSAzOS4xNDAyMjc4IDMxLjY4MzE2ODMiPjwvcG9seWdvbj4KICAgICAgICAgICAgICAgIDxwYXRoIGQ9Ik0zNS4wMDc3MTgsODAgQzQyLjkwNjIwMDcsNzYuNDU0OTM1OCA0Ny41NjQ5MTY3LDcxLjU0MjI2NzEgNDguOTgzODY2LDY1LjI2MTk5MzkgQzUxLjExMjI4OTksNTUuODQxNTg0MiA0MS42NzcxNzk1LDQ5LjIxMjIyODQgMjUuNjIzOTg0Niw0OS4yMTIyMjg0IEMyNS40ODQ5Mjg5LDQ5LjEyNjg0NDggMjkuODI2MTI5Niw0My4yODM4MjQ4IDM4LjY0NzU4NjksMzEuNjgzMTY4MyBMNzIuODcxMjg3MSwzMi41NTQ0MjUgTDY1LjI4MDk3Myw2Ny42NzYzNDIxIEw1MS4xMTIyODk5LDc3LjM3NjE0NCBMMzUuMDA3NzE4LDgwIFoiIGlkPSJQYXRoLTIyIiBmaWxsPSIjMDAyODY4Ij48L3BhdGg+CiAgICAgICAgICAgICAgICA8cGF0aCBkPSJNMCwzNy43MzA0NDA1IEwyNy4xMTQ1MzcsMC4yNTcxMTE0MzYgQzYyLjM3MTUxMjMsLTEuOTkwNzE3MDEgODAsMTAuNTAwMzkyNyA4MCwzNy43MzA0NDA1IEM4MCw2NC45NjA0ODgyIDY0Ljc3NjUwMzgsNzkuMDUwMzQxNCAzNC4zMjk1MTEzLDgwIEM0Ny4wNTUzNDg5LDc3LjU2NzA4MDggNTMuNDE4MjY3Nyw3MC4zMTM2MTAzIDUzLjQxODI2NzcsNTguMjM5NTg4NSBDNTMuNDE4MjY3Nyw0MC4xMjg1NTU3IDM2LjMwMzk1NDQsMzcuNzMwNDQwNSAyNS4yMjc0MTcsMzcuNzMwNDQwNSBDMTcuODQzMDU4NiwzNy43MzA0NDA1IDkuNDMzOTE5NjYsMzcuNzMwNDQwNSAwLDM3LjczMDQ0MDUgWiIgaWQ9IlBhdGgtMTkiIGZpbGw9IiMzNzkzRUYiPjwvcGF0aD4KICAgICAgICAgICAgPC9nPgogICAgICAgIDwvZz4KICAgIDwvZz4KPC9zdmc+' > </img>\nCreated in <span style='font-weight:600;margin-left:4px;'>Deepnote</span></a>",
            "metadata": {
                "created_in_deepnote_cell": true,
                "deepnote_cell_type": "markdown"
            }
        }
    ],
    "nbformat": 4,
    "nbformat_minor": 0,
    "metadata": {
        "deepnote_app_layout": "powerful-article",
        "deepnote_app_table_of_contents_enabled": true,
        "deepnote_app_hide_all_code_blocks_enabled": false,
        "deepnote_app_reactivity_enabled": true,
        "deepnote_notebook_id": "47c02c388b264ca69ce0f37ecfdb9215"
    }
}